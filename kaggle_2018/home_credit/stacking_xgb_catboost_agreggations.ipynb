{
 "cells": [
  {
   "cell_type": "code",
   "execution_count": null,
   "metadata": {},
   "outputs": [],
   "source": [
    "import numpy as np\n",
    "import pandas as pd\n",
    "import gc\n",
    "import time\n",
    "from contextlib import contextmanager\n",
    "# from lightgbm import LGBMClassifier\n",
    "from sklearn.metrics import roc_auc_score, roc_curve\n",
    "from sklearn.model_selection import KFold, StratifiedKFold\n",
    "import matplotlib.pyplot as plt\n",
    "import seaborn as sns\n",
    "import xgboost as xgb\n",
    "import warnings\n",
    "warnings.simplefilter(action='ignore', category=FutureWarning)"
   ]
  },
  {
   "cell_type": "code",
   "execution_count": null,
   "metadata": {},
   "outputs": [],
   "source": [
    "\n",
    "\n",
    "@contextmanager\n",
    "def timer(title):\n",
    "    t0 = time.time()\n",
    "    yield\n",
    "    print(\"{} - done in {:.0f}s\".format(title, time.time() - t0))\n",
    "\n",
    "# One-hot encoding for categorical columns with get_dummies\n",
    "def one_hot_encoder(df, nan_as_category = True):\n",
    "    original_columns = list(df.columns)\n",
    "    categorical_columns = [col for col in df.columns if df[col].dtype == 'object']\n",
    "    df = pd.get_dummies(df, columns= categorical_columns, dummy_na= nan_as_category)\n",
    "    new_columns = [c for c in df.columns if c not in original_columns]\n",
    "    return df, new_columns\n",
    "\n",
    "# Preprocess application_train.csv and application_test.csv\n",
    "def application_train_test(num_rows = None, nan_as_category = False):\n",
    "    # Read data and merge\n",
    "    df = pd.read_csv('data/application_train.csv', nrows= num_rows)\n",
    "    test_df = pd.read_csv('data/application_test.csv', nrows= num_rows)\n",
    "    print(\"Train samples: {}, test samples: {}\".format(len(df), len(test_df)))\n",
    "    df = df.append(test_df).reset_index()\n",
    "    # Optional: Remove 4 applications with XNA CODE_GENDER (train set)\n",
    "    df = df[df['CODE_GENDER'] != 'XNA']\n",
    "    \n",
    "    # Categorical features with Binary encode (0 or 1; two categories)\n",
    "    for bin_feature in ['CODE_GENDER', 'FLAG_OWN_CAR', 'FLAG_OWN_REALTY']:\n",
    "        df[bin_feature], uniques = pd.factorize(df[bin_feature])\n",
    "    # Categorical features with One-Hot encode\n",
    "    df, cat_cols = one_hot_encoder(df, nan_as_category)\n",
    "    \n",
    "    # NaN values for DAYS_EMPLOYED: 365.243 -> nan\n",
    "    df['DAYS_EMPLOYED'].replace(365243, np.nan, inplace= True)\n",
    "    df['MONTH_EMPLOYED'] = df['DAYS_EMPLOYED']/30\n",
    "    df['YEARS_EMPLOYED'] = df['DAYS_EMPLOYED']/365\n",
    "    \n",
    "    df['DAYS_LAST_PHONE_CHANGE'].replace(0, np.nan, inplace=True)\n",
    "    # Some simple new features (percentages)\n",
    "    df['DAYS_EMPLOYED_PERC'] = df['DAYS_EMPLOYED'] / df['DAYS_BIRTH']\n",
    "    df['INCOME_CREDIT_PERC'] = df['AMT_INCOME_TOTAL'] / df['AMT_CREDIT']\n",
    "    df['AMT_INCOME_TOTAL_LOG'] = df['AMT_INCOME_TOTAL'].apply(np.log1p)\n",
    "    df['AMT_CREDIT_LOG'] = df['AMT_CREDIT'].apply(np.log1p)\n",
    "    df['INCOME_CREDIT_PERC_LOG'] = df['AMT_INCOME_TOTAL_LOG'] - df['AMT_CREDIT_LOG']\n",
    "    df['INCOME_PER_PERSON'] = df['AMT_INCOME_TOTAL'] / df['CNT_FAM_MEMBERS']\n",
    "    df['INCOME_PER_PERSON_LOG'] = df['AMT_INCOME_TOTAL_LOG'] - df['CNT_FAM_MEMBERS']\n",
    "    \n",
    "    df['AMT_ANNUITY_LOG'] = df['AMT_ANNUITY'].apply(np.log1p)\n",
    "    df['ANNUITY_INCOME_PERC'] = df['AMT_ANNUITY'] / df['AMT_INCOME_TOTAL']\n",
    "    df['ANNUITY_INCOME_PERC'] = df['AMT_ANNUITY_LOG'] - df['AMT_INCOME_TOTAL_LOG']\n",
    "    df['PAYMENT_RATE'] = df['AMT_ANNUITY'] / df['AMT_CREDIT']\n",
    "    df['PAYMENT_RATE_LOG'] = df['AMT_ANNUITY_LOG'] - df['AMT_CREDIT_LOG']\n",
    "    \n",
    "    df['cnt_non_child'] = df['CNT_FAM_MEMBERS'] - df['CNT_CHILDREN']\n",
    "    df['child_to_non_child_ratio'] = df['CNT_CHILDREN'] / df['cnt_non_child']\n",
    "    df['income_per_non_child'] = df['AMT_INCOME_TOTAL'] / df['cnt_non_child']\n",
    "    df['credit_per_person_log'] = df['AMT_CREDIT_LOG'] / df['CNT_FAM_MEMBERS']\n",
    "    df['credit_per_person'] = df['AMT_CREDIT'] / df['CNT_FAM_MEMBERS']\n",
    "    df['credit_per_child'] = df['AMT_CREDIT'] / (1 + df['CNT_CHILDREN'])\n",
    "    df['credit_per_child_log'] = df['AMT_CREDIT_LOG'] / (1 + df['CNT_CHILDREN'])\n",
    "    df['credit_per_non_child'] = df['AMT_CREDIT'] / df['cnt_non_child']\n",
    "    df['annuity_income_percentage'] = df['AMT_ANNUITY'] / df['AMT_INCOME_TOTAL']\n",
    "    df['annuity_income_percentage_log'] = df['AMT_ANNUITY_LOG'] / df['AMT_INCOME_TOTAL_LOG']\n",
    "    \n",
    "    df['car_to_birth_ratio'] = df['OWN_CAR_AGE'] / df['DAYS_BIRTH']\n",
    "    df['car_to_employ_ratio'] = df['OWN_CAR_AGE'] / df['DAYS_EMPLOYED']\n",
    "    df['children_ratio'] = df['CNT_CHILDREN'] / df['CNT_FAM_MEMBERS']\n",
    "    df['credit_to_annuity_ratio'] = df['AMT_CREDIT'] / df['AMT_ANNUITY']\n",
    "    df['credit_to_goods_ratio'] = df['AMT_CREDIT'] / df['AMT_GOODS_PRICE']\n",
    "    df['credit_to_income_ratio'] = df['AMT_CREDIT'] / df['AMT_INCOME_TOTAL']\n",
    "#     df['days_employed_percentage'] = df['DAYS_EMPLOYED'] / df['DAYS_BIRTH']\n",
    "#     df['income_credit_percentage'] = df['AMT_INCOME_TOTAL'] / df['AMT_CREDIT']\n",
    "#     df['income_per_child'] = df['AMT_INCOME_TOTAL'] / (1 + df['CNT_CHILDREN'])\n",
    "#     df['income_per_person'] = df['AMT_INCOME_TOTAL'] / df['CNT_FAM_MEMBERS']\n",
    "#     df['payment_rate'] = df['AMT_ANNUITY'] / df['AMT_CREDIT']\n",
    "    df['phone_to_birth_ratio'] = df['DAYS_LAST_PHONE_CHANGE'] / df['DAYS_BIRTH']\n",
    "    df['phone_to_employ_ratio'] = df['DAYS_LAST_PHONE_CHANGE'] / df['DAYS_EMPLOYED']\n",
    "    del test_df\n",
    "    gc.collect()\n",
    "    return df\n",
    "\n",
    "# Preprocess bureau.csv and bureau_balance.csv\n",
    "def bureau_and_balance(num_rows = None, nan_as_category = True):\n",
    "    bureau = pd.read_csv('data/bureau.csv', nrows = num_rows)\n",
    "    bb = pd.read_csv('data/bureau_balance.csv', nrows = num_rows)\n",
    "    bb, bb_cat = one_hot_encoder(bb, nan_as_category)\n",
    "    bureau, bureau_cat = one_hot_encoder(bureau, nan_as_category)\n",
    "    \n",
    "    # Bureau balance: Perform aggregations and merge with bureau.csv\n",
    "    bb_aggregations = {'MONTHS_BALANCE': ['min', 'max', 'size']}\n",
    "    for col in bb_cat:\n",
    "        bb_aggregations[col] = ['mean']\n",
    "    bb_agg = bb.groupby('SK_ID_BUREAU').agg(bb_aggregations)\n",
    "    bb_agg.columns = pd.Index([e[0] + \"_\" + e[1].upper() for e in bb_agg.columns.tolist()])\n",
    "    bureau = bureau.join(bb_agg, how='left', on='SK_ID_BUREAU')\n",
    "    bureau.drop(['SK_ID_BUREAU'], axis=1, inplace= True)\n",
    "    del bb, bb_agg\n",
    "    gc.collect()\n",
    "    \n",
    "    # Bureau and bureau_balance numeric features\n",
    "    num_aggregations = {\n",
    "        'DAYS_CREDIT': ['min', 'max', 'mean', 'var', 'median'],\n",
    "        'DAYS_CREDIT_ENDDATE': ['min', 'max', 'mean', 'median'],\n",
    "        'DAYS_CREDIT_UPDATE': ['mean', 'median'],\n",
    "        'CREDIT_DAY_OVERDUE': ['max', 'mean', 'median'],\n",
    "        'AMT_CREDIT_MAX_OVERDUE': ['mean', 'median'],\n",
    "        'AMT_CREDIT_SUM': ['max', 'mean', 'sum', 'median'],\n",
    "        'AMT_CREDIT_SUM_DEBT': ['max', 'mean', 'sum', 'median'],\n",
    "        'AMT_CREDIT_SUM_OVERDUE': ['mean', 'median'],\n",
    "        'AMT_CREDIT_SUM_LIMIT': ['mean', 'sum', 'median'],\n",
    "        'AMT_ANNUITY': ['max', 'mean', 'median'],\n",
    "        'CNT_CREDIT_PROLONG': ['sum', 'median'],\n",
    "        'MONTHS_BALANCE_MIN': ['min', 'median'],\n",
    "        'MONTHS_BALANCE_MAX': ['max', 'median'],\n",
    "        'MONTHS_BALANCE_SIZE': ['mean', 'sum', 'median']\n",
    "    }\n",
    "    bureau['DAYS_CREDIT_ENDDATE'][bureau['DAYS_CREDIT_ENDDATE'] < -40000] = np.nan\n",
    "    bureau['DAYS_CREDIT_UPDATE'][bureau['DAYS_CREDIT_UPDATE'] < -40000] = np.nan\n",
    "    bureau['DAYS_ENDDATE_FACT'][bureau['DAYS_ENDDATE_FACT'] < -40000] = np.nan\n",
    "    # Bureau and bureau_balance categorical features\n",
    "    cat_aggregations = {}\n",
    "    for cat in bureau_cat: cat_aggregations[cat] = ['mean']\n",
    "    for cat in bb_cat: cat_aggregations[cat + \"_MEAN\"] = ['mean']\n",
    "    \n",
    "    bureau_agg = bureau.groupby('SK_ID_CURR').agg({**num_aggregations, **cat_aggregations})\n",
    "    bureau_agg.columns = pd.Index(['BURO_' + e[0] + \"_\" + e[1].upper() for e in bureau_agg.columns.tolist()])\n",
    "    # Bureau: Active credits - using only numerical aggregations\n",
    "    active = bureau[bureau['CREDIT_ACTIVE_Active'] == 1]\n",
    "    active_agg = active.groupby('SK_ID_CURR').agg(num_aggregations)\n",
    "    active_agg.columns = pd.Index(['ACTIVE_' + e[0] + \"_\" + e[1].upper() for e in active_agg.columns.tolist()])\n",
    "    bureau_agg = bureau_agg.join(active_agg, how='left', on='SK_ID_CURR')\n",
    "    del active, active_agg\n",
    "    gc.collect()\n",
    "    # Bureau: Closed credits - using only numerical aggregations\n",
    "    closed = bureau[bureau['CREDIT_ACTIVE_Closed'] == 1]\n",
    "    closed_agg = closed.groupby('SK_ID_CURR').agg(num_aggregations)\n",
    "    closed_agg.columns = pd.Index(['CLOSED_' + e[0] + \"_\" + e[1].upper() for e in closed_agg.columns.tolist()])\n",
    "    bureau_agg = bureau_agg.join(closed_agg, how='left', on='SK_ID_CURR')\n",
    "    del closed, closed_agg, bureau\n",
    "    gc.collect()\n",
    "    return bureau_agg\n",
    "\n",
    "# Preprocess previous_applications.csv\n",
    "def previous_applications(num_rows = None, nan_as_category = True):\n",
    "    prev = pd.read_csv('data/previous_application.csv', nrows = num_rows)\n",
    "    prev, cat_cols = one_hot_encoder(prev, nan_as_category= True)\n",
    "    # Days 365.243 values -> nan\n",
    "    \n",
    "    \n",
    "    prev['DAYS_FIRST_DRAWING'].replace(365243, np.nan, inplace= True)\n",
    "    prev['DAYS_FIRST_DUE'].replace(365243, np.nan, inplace= True)\n",
    "    prev['DAYS_LAST_DUE_1ST_VERSION'].replace(365243, np.nan, inplace= True)\n",
    "    prev['DAYS_LAST_DUE'].replace(365243, np.nan, inplace= True)\n",
    "    prev['DAYS_TERMINATION'].replace(365243, np.nan, inplace= True)\n",
    "    # Add feature: value ask / value received percentage\n",
    "    prev['APP_CREDIT_PERC'] = prev['AMT_APPLICATION'] / prev['AMT_CREDIT']\n",
    "    prev['DIF_ASK_GOOD'] = prev['AMT_GOODS_PRICE'] / prev['AMT_APPLICATION']\n",
    "    # Previous applications numeric features\n",
    "    num_aggregations = {\n",
    "        'AMT_ANNUITY': [('max', np.nanmax), ('mean', np.nanmean), ('sum', np.nansum), ('std', np.nanstd),\n",
    "        ('log_mean', lambda x: np.nanmean(np.log1p(x))),\n",
    "                           ('log_std', lambda x: np.nanstd(np.log1p(x))), ('median', np.nanmedian),\n",
    "                       ('log_sum', lambda x: np.nansum(np.log1p(x)))],\n",
    "        'AMT_APPLICATION': ['min', 'max', 'mean'],\n",
    "        'AMT_CREDIT': [('max', np.nanmax), ('mean', np.nanmean), ('sum', np.nansum), ('std', np.nanstd),\n",
    "        ('log_mean', lambda x: np.nanmean(np.log1p(x))),('median', np.nanmedian),\n",
    "                           ('log_std', lambda x: np.nanstd(np.log1p(x))), \n",
    "                       ('log_sum', lambda x: np.nansum(np.log1p(x)))],\n",
    "        'APP_CREDIT_PERC': ['min', 'max', 'mean', 'var', 'median'],\n",
    "        'AMT_DOWN_PAYMENT': [('max', np.nanmax), ('mean', np.nanmean), ('median', np.nanmedian),\n",
    "                             ('sum', np.nansum), ('std', np.nanstd),\n",
    "        ('log_mean', lambda x: np.nanmean(np.log1p(x))), \n",
    "                       ('log_sum', lambda x: np.nansum(np.log1p(x)))],\n",
    "        'AMT_GOODS_PRICE': [('max', np.nanmax), ('mean', np.nanmean), ('sum', np.nansum), ('std', np.nanstd),\n",
    "        ('log_mean', lambda x: np.nanmean(np.log1p(x))), ('median', np.nanmedian),\n",
    "                       ('log_sum', lambda x: np.nansum(np.log1p(x)))],\n",
    "        'HOUR_APPR_PROCESS_START': ['min', 'max', 'mean'],\n",
    "        'RATE_DOWN_PAYMENT': ['min', 'max', 'mean'],\n",
    "        'DAYS_DECISION': ['min', 'max', 'mean', 'median'],\n",
    "        'CNT_PAYMENT': ['mean', 'sum', 'median'],\n",
    "        'DIF_ASK_GOOD':['mean','median'],\n",
    "    }\n",
    "    # Previous applications categorical features\n",
    "    cat_aggregations = {}\n",
    "    for cat in cat_cols:\n",
    "        cat_aggregations[cat] = ['mean']\n",
    "    \n",
    "    prev_agg = prev.groupby('SK_ID_CURR').agg({**num_aggregations, **cat_aggregations})\n",
    "    prev_agg.columns = pd.Index(['PREV_' + e[0] + \"_\" + e[1].upper() for e in prev_agg.columns.tolist()])\n",
    "    # Previous Applications: Approved Applications - only numerical features\n",
    "    approved = prev[prev['NAME_CONTRACT_STATUS_Approved'] == 1]\n",
    "    approved_agg = approved.groupby('SK_ID_CURR').agg(num_aggregations)\n",
    "    approved_agg.columns = pd.Index(['APPROVED_' + e[0] + \"_\" + e[1].upper() for e in approved_agg.columns.tolist()])\n",
    "    prev_agg = prev_agg.join(approved_agg, how='left', on='SK_ID_CURR')\n",
    "    # Previous Applications: Refused Applications - only numerical features\n",
    "    refused = prev[prev['NAME_CONTRACT_STATUS_Refused'] == 1]\n",
    "    refused_agg = refused.groupby('SK_ID_CURR').agg(num_aggregations)\n",
    "    refused_agg.columns = pd.Index(['REFUSED_' + e[0] + \"_\" + e[1].upper() for e in refused_agg.columns.tolist()])\n",
    "    prev_agg = prev_agg.join(refused_agg, how='left', on='SK_ID_CURR')\n",
    "    del refused, refused_agg, approved, approved_agg, prev\n",
    "    gc.collect()\n",
    "    return prev_agg\n",
    "\n",
    "# Preprocess POS_CASH_balance.csv\n",
    "def pos_cash(num_rows = None, nan_as_category = True):\n",
    "    pos = pd.read_csv('data/POS_CASH_balance.csv', nrows = num_rows)\n",
    "    pos, cat_cols = one_hot_encoder(pos, nan_as_category= True)\n",
    "    # Features\n",
    "    aggregations = {\n",
    "        'MONTHS_BALANCE': ['max', 'mean', 'size', 'median'],\n",
    "        'SK_DPD': ['max', 'mean'],\n",
    "        'SK_DPD_DEF': ['max', 'mean']\n",
    "    }\n",
    "    for cat in cat_cols:\n",
    "        aggregations[cat] = ['mean']\n",
    "    \n",
    "    pos_agg = pos.groupby('SK_ID_CURR').agg(aggregations)\n",
    "    pos_agg.columns = pd.Index(['POS_' + e[0] + \"_\" + e[1].upper() for e in pos_agg.columns.tolist()])\n",
    "    # Count pos cash accounts\n",
    "    pos_agg['POS_COUNT'] = pos.groupby('SK_ID_CURR').size()\n",
    "    del pos\n",
    "    gc.collect()\n",
    "    return pos_agg\n",
    "    \n",
    "# Preprocess installments_payments.csv\n",
    "def installments_payments(num_rows = None, nan_as_category = True):\n",
    "    ins = pd.read_csv('data/installments_payments.csv', nrows = num_rows)\n",
    "    ins, cat_cols = one_hot_encoder(ins, nan_as_category= True)\n",
    "    # Percentage and difference paid in each installment (amount paid and installment value)\n",
    "    ins['PAYMENT_PERC'] = ins['AMT_PAYMENT'] / ins['AMT_INSTALMENT']\n",
    "    ins['PAYMENT_DIFF'] = ins['AMT_INSTALMENT'] - ins['AMT_PAYMENT']\n",
    "    # Days past due and days before due (no negative values)\n",
    "    ins['DPD'] = ins['DAYS_ENTRY_PAYMENT'] - ins['DAYS_INSTALMENT']\n",
    "    ins['DBD'] = ins['DAYS_INSTALMENT'] - ins['DAYS_ENTRY_PAYMENT']\n",
    "    ins['DPBD'] = ins['DAYS_INSTALMENT'] - ins['DAYS_ENTRY_PAYMENT']\n",
    "    \n",
    "    ins['DPD'] = ins['DPD'].apply(lambda x: x if x > 0 else 0)\n",
    "    ins['DBD'] = ins['DBD'].apply(lambda x: x if x > 0 else 0)\n",
    "    \n",
    "    ins['DPD_ratio'] = ins['DPD'].apply(lambda x: 1 if x > 0 else 0)\n",
    "    ins['DBD_ratio'] = ins['DBD'].apply(lambda x: 1 if x > 0 else 0)\n",
    "    # Features: Perform aggregations\n",
    "    aggregations = {\n",
    "        'NUM_INSTALMENT_VERSION': ['nunique'],\n",
    "        'DBD':['mean', 'median'],\n",
    "        'DPD':['mean', 'median'],\n",
    "        'DPD': [('max', np.nanmax), ('mean', np.nanmean), ('sum', np.nansum), ('std', np.nanstd),\n",
    "        ('log_mean', lambda x: np.nanmean(np.log1p(x))), ('median', np.nanmedian),\n",
    "                           ('log_std', lambda x: np.nanstd(np.log1p(x))), \n",
    "                       ('log_sum', lambda x: np.nansum(np.log1p(x)))],\n",
    "        'DPBD':[('max', np.nanmax), ('mean', np.nanmean), ('sum', np.nansum), ('std', np.nanstd)],\n",
    "        \n",
    "        'DBD': [('max', np.nanmax), ('mean', np.nanmean), ('sum', np.nansum), ('std', np.nanstd),\n",
    "        ('log_mean', lambda x: np.nanmean(np.log1p(x))), ('median', np.nanmedian),\n",
    "                           ('log_std', lambda x: np.nanstd(np.log1p(x))), \n",
    "                       ('log_sum', lambda x: np.nansum(np.log1p(x)))],\n",
    "        'PAYMENT_PERC': ['max', 'mean', 'sum', 'var'],\n",
    "        'PAYMENT_DIFF': [('max', np.nanmax), ('mean', np.nanmean), ('median', np.nanmedian), ('sum', np.nansum), ('std', np.nanstd)],\n",
    "        \n",
    "        'AMT_INSTALMENT': [('max', np.nanmax), ('mean', np.nanmean),('median', np.nanmedian), ('sum', np.nansum), ('std', np.nanstd),\n",
    "        ('log_mean', lambda x: np.nanmean(np.log1p(x))), \n",
    "                           ('log_std', lambda x: np.std(np.log1p(x))), \n",
    "                       ('log_sum', lambda x: np.sum(np.log1p(x)))],\n",
    "        \n",
    "        'AMT_PAYMENT': [('max', np.max), ('mean', np.nanmean), ('median', np.nanmedian),('sum', np.nansum), ('std', np.nanstd),\n",
    "        ('log_mean', lambda x: np.nanmean(np.log1p(x))), ('log_std', lambda x: np.nanstd(np.log1p(x))), \n",
    "                       ('log_sum', lambda x: np.nansum(np.log1p(x)))],\n",
    "        \n",
    "        'DAYS_ENTRY_PAYMENT': ['max', 'mean', 'sum', 'var', 'median']\n",
    "    }\n",
    "    for cat in cat_cols:\n",
    "        aggregations[cat] = ['mean', 'sum']\n",
    "    ins_agg = ins.groupby('SK_ID_CURR').agg(aggregations)\n",
    "    ins_agg.columns = pd.Index(['INSTAL_' + e[0] + \"_\" + e[1].upper() for e in ins_agg.columns.tolist()])\n",
    "    # Count installments accounts\n",
    "    ins_agg['INSTAL_COUNT'] = ins.groupby('SK_ID_CURR').size()\n",
    "    del ins\n",
    "    gc.collect()\n",
    "    return ins_agg\n",
    "\n",
    "# Preprocess credit_card_balance.csv\n",
    "def credit_card_balance(num_rows = None, nan_as_category = True):\n",
    "    cc = pd.read_csv('data/credit_card_balance.csv', nrows = num_rows)\n",
    "    cc, cat_cols = one_hot_encoder(cc, nan_as_category= True)\n",
    "    cc['AMT_DRAWINGS_ATM_CURRENT'][cc['AMT_DRAWINGS_ATM_CURRENT'] < 0] = np.nan\n",
    "    cc['AMT_DRAWINGS_CURRENT'][cc['AMT_DRAWINGS_CURRENT'] < 0] = np.nan\n",
    "    # General aggregations\n",
    "    cc.drop(['SK_ID_PREV'], axis= 1, inplace = True)\n",
    "    cc_agg = cc.groupby('SK_ID_CURR').agg(['min', 'max', 'mean', 'sum', 'var', 'median'])\n",
    "    cc_agg.columns = pd.Index(['CC_' + e[0] + \"_\" + e[1].upper() for e in cc_agg.columns.tolist()])\n",
    "    # Count credit card lines\n",
    "    cc_agg['CC_COUNT'] = cc.groupby('SK_ID_CURR').size()\n",
    "    del cc\n",
    "    gc.collect()\n",
    "    return cc_agg\n"
   ]
  },
  {
   "cell_type": "code",
   "execution_count": null,
   "metadata": {},
   "outputs": [],
   "source": [
    "?np.nanmedian"
   ]
  },
  {
   "cell_type": "code",
   "execution_count": null,
   "metadata": {},
   "outputs": [],
   "source": [
    "ins = pd.read_csv('data/installments_payments.csv')\n",
    "# ins['PAYMENT_DIFF'] = ins['AMT_INSTALMENT'] - ins['AMT_PAYMENT']"
   ]
  },
  {
   "cell_type": "code",
   "execution_count": null,
   "metadata": {
    "scrolled": true
   },
   "outputs": [],
   "source": [
    "ins['AMT_INSTALMENT'].value_counts()"
   ]
  },
  {
   "cell_type": "code",
   "execution_count": null,
   "metadata": {},
   "outputs": [],
   "source": [
    "bsts = []\n",
    "def run_xgb(train_X, train_y, val_X, val_y, test_X, params, model=None):\n",
    "    \n",
    "\n",
    "    start_time = time.time()\n",
    "    xgb_train = xgb.DMatrix(train_X, train_y)\n",
    "    xgb_val = xgb.DMatrix(val_X, val_y)\n",
    "    \n",
    "#     if model:\n",
    "#         bst = xgb.Booster(params)\n",
    "#         bst.load_model(model)\n",
    "#         model = bst\n",
    "    \n",
    "    model = xgb.train(params, xgb_train, 5000, \n",
    "                      evals=[(xgb_train, 'train'), (xgb_val, 'val')], \n",
    "                      early_stopping_rounds=50,verbose_eval=50, xgb_model=model)\n",
    "    \n",
    "    print('Model training done in {} seconds.'.format(time.time() - start_time))\n",
    "    xgb_test = xgb.DMatrix(test_X)\n",
    "    pred_test_y = model.predict(xgb_test, ntree_limit=model.best_iteration)\n",
    "    pred_oof = model.predict(xgb_val, ntree_limit=model.best_iteration)\n",
    "    bsts.append(model.get_fscore())\n",
    "    \n",
    "    \n",
    "    return pred_test_y, pred_oof, model"
   ]
  },
  {
   "cell_type": "code",
   "execution_count": null,
   "metadata": {},
   "outputs": [],
   "source": [
    "# from sklearn.tree import ExtraTreeClassifier\n",
    "from sklearn.ensemble import ExtraTreesClassifier\n",
    "def run_extra_trees(train_X, train_y, val_X, val_y, test_X, params, model=None):\n",
    "    \n",
    "    train_X.replace([np.inf, -np.inf, np.nan], 0, inplace=True)\n",
    "    val_X.replace([np.inf, -np.inf, np.nan], 0, inplace=True)\n",
    "    test_X.replace([np.inf, -np.inf, np.nan], 0, inplace=True)\n",
    "    \n",
    "    start_time = time.time()\n",
    "    clf = ExtraTreesClassifier(max_depth=5, min_samples_split=30, min_samples_leaf=5, class_weight='balanced')\n",
    "    clf.fit(train_X, train_y)\n",
    "    \n",
    "    print('Model training done in {} seconds.'.format(time.time() - start_time))\n",
    "    \n",
    "    pred_test_y = clf.predict_proba(test_X)[:,1]\n",
    "    pred_oof = clf.predict_proba(val_X)[:,1]\n",
    "#     bsts.append(model.get_fscore())\n",
    "    \n",
    "    \n",
    "    return pred_test_y, pred_oof, model"
   ]
  },
  {
   "cell_type": "code",
   "execution_count": null,
   "metadata": {},
   "outputs": [],
   "source": [
    "from sklearn.linear_model import SGDClassifier\n",
    "from sklearn.preprocessing import StandardScaler\n",
    "def run_log_reg(train_X, train_y, val_X, val_y, test_X, params, model=None):\n",
    "    \n",
    "    train_X.replace([np.inf, -np.inf, np.nan], 0, inplace=True)\n",
    "    val_X.replace([np.inf, -np.inf, np.nan], 0, inplace=True)\n",
    "    test_X.replace([np.inf, -np.inf, np.nan], 0, inplace=True)\n",
    "    \n",
    "    sc = StandardScaler()\n",
    "    train_X = sc.fit_transform(train_X)\n",
    "    val_X = sc.transform(val_X)\n",
    "    test_X = sc.transform(test_X)\n",
    "    \n",
    "    start_time = time.time()\n",
    "    clf = SGDClassifier(penalty='l2',alpha=0.001, class_weight='balanced', loss='modified_huber')\n",
    "    clf.fit(train_X, train_y)\n",
    "    \n",
    "    print('Model training done in {} seconds.'.format(time.time() - start_time))\n",
    "    \n",
    "    pred_test_y = clf.predict_proba(test_X)[:,1]\n",
    "    pred_oof = clf.predict_proba(val_X)[:,1]\n",
    "#     bsts.append(model.get_fscore())\n",
    "    \n",
    "    \n",
    "    return pred_test_y, pred_oof, model"
   ]
  },
  {
   "cell_type": "code",
   "execution_count": null,
   "metadata": {},
   "outputs": [],
   "source": [
    "from catboost import CatBoostClassifier\n",
    "probs = []\n",
    "# catboost_params = {\n",
    "#     'iterations': 200,\n",
    "#     'learning_rate': 0.5,\n",
    "#     'depth': 3,\n",
    "#     'l2_leaf_reg': 40,\n",
    "#     'bootstrap_type': 'Bernoulli',\n",
    "#     'subsample': 0.7,\n",
    "#     'scale_pos_weight': 5,\n",
    "#     'eval_metric': 'AUC',\n",
    "#     'od_type': 'Iter',\n",
    "#     'allow_writing_files': False\n",
    "# }\n",
    "\n",
    "def run_catboost(train_X, train_y, val_X, val_y, test_X, params, model=None):\n",
    "    \n",
    "\n",
    "    start_time = time.time()\n",
    "    \n",
    "#     if model:\n",
    "#         bst = xgb.Booster(params)\n",
    "#         bst.load_model(model)\n",
    "#         model = bst\n",
    "    categorical_columns = [i for i, col in enumerate(train_X.columns) \\\n",
    "                           if not pd.api.types.is_numeric_dtype(train_X[col].dtype)]\n",
    "    \n",
    "    model = CatBoostClassifier(iterations=1000, depth=6, \n",
    "                               learning_rate=0.2,\n",
    "                               cat_features=categorical_columns,\n",
    "                               l2_leaf_reg=40,\n",
    "#                                scale_pos_weight=11,\n",
    "#                                loss_function='Logloss',\n",
    "                               bootstrap_type='Bernoulli',\n",
    "                               eval_metric='AUC',\n",
    "#                                rsm=0.8,\n",
    "#                                logging_level='Verbose',\n",
    "                               used_ram_limit='3gb',\n",
    "                               task_type='GPU',\n",
    "                               class_weights=[1, 11],\n",
    "                               devices=['cuda:0'],\n",
    "                               subsample=0.9,\n",
    "                              early_stopping_rounds=30)\n",
    "    \n",
    "    if train_X.isna().any().any():\n",
    "        train_X.fillna(0, inplace=True)\n",
    "    \n",
    "    if val_X.isna().any().any():\n",
    "        val_X.fillna(0, inplace=True)\n",
    "    \n",
    "    if test_X.isna().any().any():\n",
    "        test_X.fillna(0, inplace=True)\n",
    "    \n",
    "    model.fit(train_X, train_y, \n",
    "              use_best_model=True, \n",
    "              eval_set=(val_X, val_y), \n",
    "              verbose=50)\n",
    "    \n",
    "    print('Model training done in {} seconds.'.format(time.time() - start_time))\n",
    "    \n",
    "    pred_test_y = model.predict_proba(test_X)[:,1]\n",
    "    pred_oof = model.predict_proba(val_X)[:,1]\n",
    "\n",
    "    #     bsts.append(model.get_fscore())\n",
    "    \n",
    "    \n",
    "    return pred_test_y, pred_oof, model"
   ]
  },
  {
   "cell_type": "code",
   "execution_count": null,
   "metadata": {},
   "outputs": [],
   "source": [
    "oofs = []\n",
    "\n",
    "# LightGBM GBDT with KFold or Stratified KFold\n",
    "# Parameters from Tilii kernel: https://www.kaggle.com/tilii7/olivier-lightgbm-parameters-by-bayesian-opt/code\n",
    "def kfold_lightgbm(df, num_folds, params, func, stratified = False, debug= False):\n",
    "    # Divide in training/validation and test data\n",
    "#     df['cluster_label'] = labels\n",
    "#     df = pd.get_dummies(df, columns=['cluster_label'], drop_first=True)\n",
    "    \n",
    "    train_df = df[df['TARGET'].notnull()]\n",
    "    for i in range(stack_inter_train.shape[1]):\n",
    "        train_df['col_stack_{}'.format(i)] = stack_inter_train[:, i]\n",
    "#     train_df['stack_0'] = oof_train\n",
    "#     train_df['stack_1'] = oof_train1\n",
    "#     train_df['stack_2'] = oof_train2\n",
    "#     train_df['stack_3'] = oof_train3\n",
    "    \n",
    "    \n",
    "    \n",
    "    test_df = df[df['TARGET'].isnull()]\n",
    "    for i in range(stack_inter_test.shape[1]):\n",
    "        test_df['col_stack_{}'.format(i)] = stack_inter_test[:, i]\n",
    "#     test_df['stack_0'] = pred_test\n",
    "#     test_df['stack_1'] = pred_test1\n",
    "#     test_df['stack_2'] = pred_test2\n",
    "#     test_df['stack_3'] = pred_test3\n",
    "    \n",
    "    print(\"Starting LightGBM. Train shape: {}, test shape: {}\".format(train_df.shape, test_df.shape))\n",
    "    del df\n",
    "    gc.collect()\n",
    "    # Cross validation model\n",
    "    if stratified:\n",
    "        folds = StratifiedKFold(n_splits= num_folds, shuffle=True, random_state=1001)\n",
    "    else:\n",
    "        folds = KFold(n_splits= num_folds, shuffle=True, random_state=1001)\n",
    "    # Create arrays and dataframes to store results\n",
    "    oof_preds = np.zeros(train_df.shape[0])\n",
    "    sub_preds = np.zeros(test_df.shape[0])\n",
    "    feature_importance_df = pd.DataFrame()\n",
    "    feats = [f for f in train_df.columns if f not in ['TARGET','SK_ID_CURR','SK_ID_BUREAU','SK_ID_PREV','index']]\n",
    "    \n",
    "    for n_fold, (train_idx, valid_idx) in enumerate(folds.split(train_df[feats], train_df['TARGET'])):\n",
    "        train_x, train_y = train_df[feats].iloc[train_idx], train_df['TARGET'].iloc[train_idx]\n",
    "        valid_x, valid_y = train_df[feats].iloc[valid_idx], train_df['TARGET'].iloc[valid_idx]\n",
    "\n",
    "        # LightGBM parameters found by Bayesian optimization\n",
    "\n",
    "#         print('Fitting small trees...')\n",
    "        fold_test_preds, oof_fold, clf = func(train_x, train_y, valid_x, valid_y, test_df[feats], params)\n",
    "#         clf.save_model('xgb_small_trees')\n",
    "#         print('Fitting bit trees...')\n",
    "#         fold_test_preds, oof_fold, clf = run_xgb(train_x, train_y, valid_x, valid_y, test_df[feats], \n",
    "#                                                  params2, 'xgb_small_trees')\n",
    "#         oofs.append(oof_fold)\n",
    "#         raise StopIteration\n",
    "        oof_preds[valid_idx] = oof_fold\n",
    "        sub_preds += fold_test_preds / folds.n_splits\n",
    "        \n",
    "#         fscore = clf.get_fscore()\n",
    "#         fold_importance_df = pd.DataFrame()\n",
    "#         fold_importance_df[\"feature\"] = fscore.keys()\n",
    "#         fold_importance_df[\"importance\"] = fscore.values()\n",
    "#         fold_importance_df[\"fold\"] = n_fold + 1\n",
    "        \n",
    "#         feature_importance_df = pd.concat([feature_importance_df, fold_importance_df], axis=0)\n",
    "\n",
    "        print('Fold %2d AUC : %.6f' % (n_fold + 1, roc_auc_score(valid_y, oof_preds[valid_idx])))\n",
    "        del clf, train_x, train_y, valid_x, valid_y\n",
    "        gc.collect()\n",
    "\n",
    "    print('Full AUC score %.6f' % roc_auc_score(train_df['TARGET'], oof_preds))\n",
    "    # Write submission file and plot feature importance\n",
    "    if not debug:\n",
    "        test_df['TARGET'] = sub_preds\n",
    "        test_df[['SK_ID_CURR', 'TARGET']].to_csv(submission_file_name, index= False)\n",
    "#     display_importances(feature_importance_df)\n",
    "    return oof_preds, sub_preds #feature_importance_df\n",
    "\n",
    "# # Display/plot feature importance\n",
    "# def display_importances(feature_importance_df_):\n",
    "#     cols = feature_importance_df_[[\"feature\", \"importance\"]].groupby(\"feature\").mean().sort_values(by=\"importance\", ascending=False)[:40].index\n",
    "#     best_features = feature_importance_df_.loc[feature_importance_df_.feature.isin(cols)]\n",
    "#     plt.figure(figsize=(8, 10))\n",
    "#     sns.barplot(x=\"importance\", y=\"feature\", data=best_features.sort_values(by=\"importance\", ascending=False))\n",
    "#     plt.title('LightGBM Features (avg over folds)')\n",
    "#     plt.tight_layout()\n",
    "#     plt.savefig('lgbm_importances01.png')\n"
   ]
  },
  {
   "cell_type": "code",
   "execution_count": null,
   "metadata": {},
   "outputs": [],
   "source": [
    "train_df = df[df['TARGET'].notnull()]\n",
    "test_df = df[df['TARGET'].isnull()]"
   ]
  },
  {
   "cell_type": "code",
   "execution_count": null,
   "metadata": {},
   "outputs": [],
   "source": [
    "test_df = df[df['TARGET'].isnull()]\n",
    "test_df['TARGET'] = pred_test3\n",
    "test_df[['SK_ID_CURR', 'TARGET']].to_csv('stack_xgb.csv', index= False)"
   ]
  },
  {
   "cell_type": "code",
   "execution_count": null,
   "metadata": {},
   "outputs": [],
   "source": [
    "?xgb.train"
   ]
  },
  {
   "cell_type": "code",
   "execution_count": null,
   "metadata": {},
   "outputs": [],
   "source": [
    "num_rows = None\n",
    "df = application_train_test(num_rows)\n",
    "with timer(\"Process bureau and bureau_balance\"):\n",
    "    bureau = bureau_and_balance(num_rows)\n",
    "    print(\"Bureau df shape:\", bureau.shape)\n",
    "    df = df.join(bureau, how='left', on='SK_ID_CURR')\n",
    "    del bureau\n",
    "    gc.collect()\n",
    "with timer(\"Process previous_applications\"):\n",
    "    prev = previous_applications(num_rows)\n",
    "    print(\"Previous applications df shape:\", prev.shape)\n",
    "    df = df.join(prev, how='left', on='SK_ID_CURR')\n",
    "    del prev\n",
    "    gc.collect()\n",
    "with timer(\"Process POS-CASH balance\"):\n",
    "    pos = pos_cash(num_rows)\n",
    "    print(\"Pos-cash balance df shape:\", pos.shape)\n",
    "    df = df.join(pos, how='left', on='SK_ID_CURR')\n",
    "    del pos\n",
    "    gc.collect()\n",
    "with timer(\"Process installments payments\"):\n",
    "    ins = installments_payments(num_rows)\n",
    "    print(\"Installments payments df shape:\", ins.shape)\n",
    "    df = df.join(ins, how='left', on='SK_ID_CURR')\n",
    "    del ins\n",
    "    gc.collect()\n",
    "with timer(\"Process credit card balance\"):\n",
    "    cc = credit_card_balance(num_rows)\n",
    "    print(\"Credit card balance df shape:\", cc.shape)\n",
    "    df = df.join(cc, how='left', on='SK_ID_CURR')\n",
    "    del cc\n",
    "    gc.collect()"
   ]
  },
  {
   "cell_type": "code",
   "execution_count": null,
   "metadata": {
    "scrolled": true
   },
   "outputs": [],
   "source": [
    "df.shape"
   ]
  },
  {
   "cell_type": "code",
   "execution_count": null,
   "metadata": {},
   "outputs": [],
   "source": [
    "params = {'n_estimators':100,\n",
    "             'max_depth':3,\n",
    "             'lambda':10000,\n",
    "             'eta': 0.3, \n",
    "            \"colsample_bytree\":0.8,\n",
    "          \"colsample_bylevel\":0.3,\n",
    "            \"sample\":0.7,\n",
    "            \"min_child_weight\":50,\n",
    "          'gamma':5,\n",
    "#              \"tweedie_variance_power\":1.50,\n",
    "             'objective': 'gpu:binary:logistic', \n",
    "              'tree_method':'gpu_hist',\n",
    "             'eval_metric':'auc',\n",
    "         }\n",
    "\n",
    "\n",
    "# params2 = {'n_estimators':200,\n",
    "#              'max_depth':10,\n",
    "#              'lambda':1000,\n",
    "#              'eta': 0.01, \n",
    "#             \"colsample_bytree\":0.1,\n",
    "#           \"colsample_bylevel\":0.1,\n",
    "#             \"sample\":0.1,\n",
    "#             \"min_child_weight\":10,\n",
    "# #           'gamma':5,\n",
    "# #              \"tweedie_variance_power\":1.50,\n",
    "#              'objective': 'gpu:binary:logistic', \n",
    "#               'tree_method':'gpu_hist',\n",
    "#              'eval_metric':'auc',\n",
    "#          }"
   ]
  },
  {
   "cell_type": "code",
   "execution_count": null,
   "metadata": {},
   "outputs": [],
   "source": [
    "df = pd.read_csv('ann_data.csv')"
   ]
  },
  {
   "cell_type": "code",
   "execution_count": null,
   "metadata": {},
   "outputs": [],
   "source": [
    "def one_hot_encoder(data, nan_as_category = True):\n",
    "    original_columns = list(data.columns)\n",
    "    categorical_columns = [col for col in data.columns \\\n",
    "                           if not pd.api.types.is_numeric_dtype(data[col].dtype)]\n",
    "    for c in categorical_columns:\n",
    "        if nan_as_category:\n",
    "            data[c].fillna('NaN', inplace = True)\n",
    "        values = list(data[c].unique())\n",
    "        for v in values:\n",
    "            data[str(c) + '_' + str(v)] = (data[c] == v).astype(np.uint8)\n",
    "    data.drop(categorical_columns, axis = 1, inplace = True)\n",
    "    return data, [c for c in data.columns if c not in original_columns]"
   ]
  },
  {
   "cell_type": "code",
   "execution_count": null,
   "metadata": {},
   "outputs": [],
   "source": [
    "df, cats = one_hot_encoder(df)"
   ]
  },
  {
   "cell_type": "code",
   "execution_count": null,
   "metadata": {
    "scrolled": true
   },
   "outputs": [],
   "source": [
    "oof_train, pred_test = kfold_lightgbm(df.drop(columns=['index']), num_folds=3, \n",
    "                                      params=None, func=run_catboost,\n",
    "                                     stratified= True, debug=True)"
   ]
  },
  {
   "cell_type": "code",
   "execution_count": null,
   "metadata": {
    "scrolled": true
   },
   "outputs": [],
   "source": [
    "oof_train1, pred_test1 = kfold_lightgbm(df.drop(columns=['index']), num_folds=3, params=None, func=run_extra_trees,\n",
    "                                     stratified= True, debug=True)"
   ]
  },
  {
   "cell_type": "code",
   "execution_count": null,
   "metadata": {},
   "outputs": [],
   "source": [
    "oof_train2, pred_test2 = kfold_lightgbm(df.drop(columns=['index']), num_folds=3, params=None, func=run_log_reg,\n",
    "                                     stratified= True, debug=True)"
   ]
  },
  {
   "cell_type": "code",
   "execution_count": null,
   "metadata": {
    "scrolled": true
   },
   "outputs": [],
   "source": [
    "params1 = {'n_estimators':1000,\n",
    "             'max_depth':5,\n",
    "             'lambda':10,\n",
    "             'eta': 0.05, \n",
    "            \"colsample_bytree\":0.7,\n",
    "          \"colsample_bylevel\":0.7,\n",
    "            \"sample\":0.5,\n",
    "            \"min_child_weight\":150,\n",
    "#           'gamma':5,\n",
    "#              \"tweedie_variance_power\":1.50,\n",
    "             'objective': 'gpu:binary:logistic', \n",
    "              'tree_method':'gpu_hist',\n",
    "             'eval_metric':'auc',\n",
    "         }\n",
    "\n",
    "oof_train3, pred_test3 = kfold_lightgbm(df.drop(columns=['index']), num_folds=5, params=params1, func=run_xgb,\n",
    "                                     stratified= True, debug=True)"
   ]
  },
  {
   "cell_type": "code",
   "execution_count": null,
   "metadata": {},
   "outputs": [],
   "source": [
    "list(df.columns)"
   ]
  },
  {
   "cell_type": "code",
   "execution_count": null,
   "metadata": {},
   "outputs": [],
   "source": [
    "[x[0] for x in sorted(bsts[2].items(), key=lambda x: -x[1])][:20]"
   ]
  },
  {
   "cell_type": "code",
   "execution_count": null,
   "metadata": {
    "scrolled": true
   },
   "outputs": [],
   "source": [
    "params3 = {'n_estimators':500,\n",
    "             'max_depth':7,\n",
    "#              'lambda':10000,\n",
    "             'eta': 0.1, \n",
    "            \"colsample_bytree\":0.71,\n",
    "          \"colsample_bylevel\":0.71,\n",
    "            \"sample\":0.8,\n",
    "            \"min_child_weight\":150,\n",
    "          'gamma':5,\n",
    "#              \"tweedie_variance_power\":1.50,\n",
    "             'objective': 'gpu:binary:logistic', \n",
    "              'tree_method':'gpu_hist',\n",
    "             'eval_metric':'auc',\n",
    "         }\n",
    "oof_train4, pred_test4 = kfold_lightgbm(df.drop(columns=['index']), num_folds=5, params=params3, func=run_xgb,\n",
    "                                     stratified= True, debug=True)"
   ]
  },
  {
   "cell_type": "code",
   "execution_count": null,
   "metadata": {
    "scrolled": true
   },
   "outputs": [],
   "source": [
    "params3 = {'max_depth':10,\n",
    "             'lambda':1000,\n",
    "             'eta': 0.1, \n",
    "            \"colsample_bytree\":0.5,\n",
    "          \"colsample_bylevel\":0.5,\n",
    "            \"sample\":0.8,\n",
    "            \"min_child_weight\":250,\n",
    "          'gamma':15,\n",
    "#              \"tweedie_variance_power\":1.50,\n",
    "             'objective': 'gpu:binary:logistic', \n",
    "              'tree_method':'gpu_hist',\n",
    "             'eval_metric':'auc',\n",
    "         }\n",
    "\n",
    "oof_train3, pred_test3 = kfold_lightgbm(df, num_folds=10, params=params3, func=run_xgb,\n",
    "                                     stratified= True, debug=True)"
   ]
  },
  {
   "cell_type": "code",
   "execution_count": null,
   "metadata": {
    "scrolled": true
   },
   "outputs": [],
   "source": [
    "params4 = {'n_estimators':500,\n",
    "             'max_depth':3,\n",
    "             'lambda':10,\n",
    "             'eta': 0.1,\n",
    "               'alpha':10,\n",
    "            \"colsample_bytree\":0.5,\n",
    "          \"colsample_bylevel\":0.5,\n",
    "            \"sample\":0.9,\n",
    "            \"min_child_weight\":150,\n",
    "          'gamma':5,\n",
    "#            'booster':'gblinear',\n",
    "           \"max_delta_step\":9,\n",
    "#              \"tweedie_variance_power\":1.50,\n",
    "             'objective': 'gpu:binary:logistic', \n",
    "              'tree_method':'gpu_hist',\n",
    "             'eval_metric':'auc',\n",
    "         }\n",
    "\n",
    "oof_train4, pred_test4 = kfold_lightgbm(df, num_folds=5, params=params4, func=run_xgb,\n",
    "                                     stratified= True, debug=True)"
   ]
  },
  {
   "cell_type": "code",
   "execution_count": null,
   "metadata": {
    "scrolled": true
   },
   "outputs": [],
   "source": [
    "params5 = {'max_depth':3,\n",
    "             \n",
    "             'eta': 0.1,\n",
    "               'alpha':1000,\n",
    "            \"colsample_bytree\":0.5,\n",
    "          \"colsample_bylevel\":0.5,\n",
    "            \"sample\":0.7,\n",
    "            \"min_child_weight\":150,\n",
    "          'gamma':15,\n",
    "           'booster':'dart',\n",
    "#              \"tweedie_variance_power\":1.50,\n",
    "             'objective': 'gpu:binary:logistic', \n",
    "              'tree_method':'gpu_hist',\n",
    "             'eval_metric':'auc',\n",
    "         }\n",
    "\n",
    "oof_train5, pred_test5 = kfold_lightgbm(df, num_folds=7, params=params5, func=run_catboost,\n",
    "                                     stratified= True, debug=True)"
   ]
  },
  {
   "cell_type": "code",
   "execution_count": null,
   "metadata": {},
   "outputs": [],
   "source": [
    "bsts[0]"
   ]
  },
  {
   "cell_type": "code",
   "execution_count": null,
   "metadata": {},
   "outputs": [],
   "source": [
    "stack_df = np.concatenate([oof_train.reshape(-1,1),\n",
    "                          oof_train1.reshape(-1,1),\n",
    "                          oof_train2.reshape(-1,1), oof_train3.reshape(-1,1), \n",
    "                          train_df[[x[0] for x in sorted(bsts[2].items(), key=lambda x: -x[1])][:10]].fillna(0).values], axis=1)"
   ]
  },
  {
   "cell_type": "code",
   "execution_count": null,
   "metadata": {},
   "outputs": [],
   "source": [
    "stack_df_test = np.concatenate([pred_test.reshape(-1,1),\n",
    "                          pred_test1.reshape(-1,1),\n",
    "                          pred_test2.reshape(-1,1), pred_test3.reshape(-1,1),\n",
    "                               test_df[[x[0] for x in sorted(bsts[2].items(), key=lambda x: -x[1])][:10]].fillna(0).values], axis=1)"
   ]
  },
  {
   "cell_type": "code",
   "execution_count": null,
   "metadata": {
    "scrolled": true
   },
   "outputs": [],
   "source": [
    "df.drop(columns=['index', 'TARGET']).fillna(0)"
   ]
  },
  {
   "cell_type": "code",
   "execution_count": null,
   "metadata": {},
   "outputs": [],
   "source": [
    "from sklearn.cluster import MiniBatchKMeans\n",
    "gc.collect()\n",
    "km = MiniBatchKMeans(1000, verbose=True)\n",
    "data = StandardScaler().fit_transform(df.drop(columns=['index', 'TARGET']).replace([np.nan, np.inf, -np.inf], 0))\n",
    "km.fit(data)"
   ]
  },
  {
   "cell_type": "code",
   "execution_count": null,
   "metadata": {},
   "outputs": [],
   "source": [
    "labels = km.labels_"
   ]
  },
  {
   "cell_type": "code",
   "execution_count": null,
   "metadata": {},
   "outputs": [],
   "source": [
    "train_df = df[df['TARGET'].notnull()]"
   ]
  },
  {
   "cell_type": "code",
   "execution_count": null,
   "metadata": {},
   "outputs": [],
   "source": [
    "test_df"
   ]
  },
  {
   "cell_type": "code",
   "execution_count": null,
   "metadata": {},
   "outputs": [],
   "source": [
    "y = train_df.TARGET.values"
   ]
  },
  {
   "cell_type": "code",
   "execution_count": null,
   "metadata": {},
   "outputs": [],
   "source": [
    "from sklearn.linear_model import LogisticRegression"
   ]
  },
  {
   "cell_type": "code",
   "execution_count": null,
   "metadata": {},
   "outputs": [],
   "source": [
    "from sklearn.model_selection import train_test_split\n",
    "from sklearn.metrics import auc, roc_auc_score, roc_curve"
   ]
  },
  {
   "cell_type": "code",
   "execution_count": null,
   "metadata": {},
   "outputs": [],
   "source": [
    "?roc_auc_score"
   ]
  },
  {
   "cell_type": "code",
   "execution_count": null,
   "metadata": {},
   "outputs": [],
   "source": [
    "regr.predict_proba(valid_X)[:,1]"
   ]
  },
  {
   "cell_type": "code",
   "execution_count": null,
   "metadata": {},
   "outputs": [],
   "source": [
    "from sklearn.preprocessing import PolynomialFeatures"
   ]
  },
  {
   "cell_type": "code",
   "execution_count": null,
   "metadata": {},
   "outputs": [],
   "source": [
    "pl = PolynomialFeatures(degree=3)\n",
    "stack_inter_train = pl.fit_transform(stack_df)"
   ]
  },
  {
   "cell_type": "code",
   "execution_count": null,
   "metadata": {},
   "outputs": [],
   "source": [
    "stack_inter_train.shape"
   ]
  },
  {
   "cell_type": "code",
   "execution_count": null,
   "metadata": {},
   "outputs": [],
   "source": [
    "stack_inter_test = pl.transform(stack_df_test)"
   ]
  },
  {
   "cell_type": "code",
   "execution_count": null,
   "metadata": {},
   "outputs": [],
   "source": [
    "train_X, valid_X, train_y, valid_y = train_test_split(stack_inter_train, y, random_state=23)\n",
    "regr = LogisticRegression(C=100, class_weight='balanced')\n",
    "regr.fit(train_X, train_y)\n",
    "preds = regr.predict_proba(valid_X)[:,1]\n",
    "print(roc_auc_score(valid_y, preds))"
   ]
  },
  {
   "cell_type": "code",
   "execution_count": null,
   "metadata": {},
   "outputs": [],
   "source": [
    "regr = LogisticRegression(C=100, class_weight='balanced')\n",
    "regr.fit(X, y)"
   ]
  },
  {
   "cell_type": "code",
   "execution_count": null,
   "metadata": {},
   "outputs": [],
   "source": [
    "sub_preds = regr.predict_proba(X_test)[:,1]"
   ]
  },
  {
   "cell_type": "code",
   "execution_count": null,
   "metadata": {},
   "outputs": [],
   "source": [
    "sub_preds = regr.predict(stack_df_test)"
   ]
  },
  {
   "cell_type": "code",
   "execution_count": null,
   "metadata": {},
   "outputs": [],
   "source": [
    "sub_preds"
   ]
  },
  {
   "cell_type": "code",
   "execution_count": null,
   "metadata": {},
   "outputs": [],
   "source": [
    "test_df = df[df['TARGET'].isnull()]\n",
    "test_df['TARGET'] = sub_preds\n",
    "test_df[['SK_ID_CURR', 'TARGET']].to_csv('stack_subm', index= False)"
   ]
  },
  {
   "cell_type": "code",
   "execution_count": null,
   "metadata": {
    "scrolled": true
   },
   "outputs": [],
   "source": [
    "test_df['TARGET']"
   ]
  },
  {
   "cell_type": "code",
   "execution_count": null,
   "metadata": {},
   "outputs": [],
   "source": [
    "submission_file_name = 'subm_2.csv'"
   ]
  },
  {
   "cell_type": "code",
   "execution_count": null,
   "metadata": {
    "scrolled": true
   },
   "outputs": [],
   "source": [
    "df['EXT_SOURCE_1']"
   ]
  },
  {
   "cell_type": "code",
   "execution_count": null,
   "metadata": {},
   "outputs": [],
   "source": [
    "features = feat_importance.groupby('feature')['importance'].sum().sort_values(ascending = False)"
   ]
  },
  {
   "cell_type": "code",
   "execution_count": null,
   "metadata": {
    "scrolled": true
   },
   "outputs": [],
   "source": [
    "features"
   ]
  },
  {
   "cell_type": "code",
   "execution_count": null,
   "metadata": {},
   "outputs": [],
   "source": [
    "df"
   ]
  },
  {
   "cell_type": "code",
   "execution_count": null,
   "metadata": {},
   "outputs": [],
   "source": [
    "poly_columns = list(features[features > 100].index)"
   ]
  },
  {
   "cell_type": "code",
   "execution_count": null,
   "metadata": {},
   "outputs": [],
   "source": [
    "poly_coluns.index"
   ]
  },
  {
   "cell_type": "code",
   "execution_count": null,
   "metadata": {},
   "outputs": [],
   "source": [
    "poly_features = df[list(poly_columns)]"
   ]
  },
  {
   "cell_type": "code",
   "execution_count": null,
   "metadata": {},
   "outputs": [],
   "source": []
  },
  {
   "cell_type": "code",
   "execution_count": null,
   "metadata": {},
   "outputs": [],
   "source": [
    "from sklearn.preprocessing import Imputer\n",
    "imputer = Imputer(strategy = 'median', )\n",
    "\n",
    "# poly_target = poly_features['TARGET']\n",
    "\n",
    "# poly_features = poly_features.drop(columns = ['TARGET'])\n",
    "\n",
    "# Need to impute missing values\n",
    "poly_features = imputer.fit_transform(poly_features)\n",
    "# poly_features_test = imputer.transform(poly_features_test)\n",
    "\n",
    "from sklearn.preprocessing import PolynomialFeatures\n",
    "                                  \n",
    "# Create the polynomial object with specified degree\n",
    "poly_transformer = PolynomialFeatures(degree = 2, interaction_only=True)"
   ]
  },
  {
   "cell_type": "code",
   "execution_count": null,
   "metadata": {},
   "outputs": [],
   "source": [
    "poly_features[np.isinf(poly_features)] = 0"
   ]
  },
  {
   "cell_type": "code",
   "execution_count": null,
   "metadata": {},
   "outputs": [],
   "source": [
    "poly_features"
   ]
  },
  {
   "cell_type": "code",
   "execution_count": null,
   "metadata": {},
   "outputs": [],
   "source": [
    "# Train the polynomial features\n",
    "poly_transformer.fit(poly_features)\n",
    "\n",
    "# Transform the features\n",
    "poly_features = poly_transformer.transform(poly_features)\n",
    "# poly_features_test = poly_transformer.transform(poly_features_test)\n",
    "# print('Polynomial Features shape: ', poly_features.shape)"
   ]
  },
  {
   "cell_type": "code",
   "execution_count": null,
   "metadata": {},
   "outputs": [],
   "source": [
    "feats = poly_transformer.get_feature_names(input_features =poly_columns)"
   ]
  },
  {
   "cell_type": "code",
   "execution_count": null,
   "metadata": {},
   "outputs": [],
   "source": [
    "poly_df = pd.DataFrame(poly_features, \n",
    "                             columns = feats)\n"
   ]
  },
  {
   "cell_type": "code",
   "execution_count": null,
   "metadata": {},
   "outputs": [],
   "source": [
    "poly_df['TARGET'] = df['TARGET']"
   ]
  },
  {
   "cell_type": "code",
   "execution_count": null,
   "metadata": {},
   "outputs": [],
   "source": [
    "poly_coluns = list(features[features > 5].index)"
   ]
  },
  {
   "cell_type": "code",
   "execution_count": null,
   "metadata": {},
   "outputs": [],
   "source": [
    "len(poly_coluns)"
   ]
  },
  {
   "cell_type": "code",
   "execution_count": null,
   "metadata": {},
   "outputs": [],
   "source": [
    "poly_df[poly_coluns] = df[poly_coluns]"
   ]
  },
  {
   "cell_type": "code",
   "execution_count": null,
   "metadata": {},
   "outputs": [],
   "source": [
    "del df"
   ]
  },
  {
   "cell_type": "code",
   "execution_count": null,
   "metadata": {},
   "outputs": [],
   "source": [
    "gc.collect()"
   ]
  },
  {
   "cell_type": "code",
   "execution_count": null,
   "metadata": {},
   "outputs": [],
   "source": [
    "list(poly_df.columns)"
   ]
  },
  {
   "cell_type": "code",
   "execution_count": null,
   "metadata": {},
   "outputs": [],
   "source": [
    "df.shape"
   ]
  }
 ],
 "metadata": {
  "kernelspec": {
   "display_name": "Python 3",
   "language": "python",
   "name": "python3"
  },
  "language_info": {
   "codemirror_mode": {
    "name": "ipython",
    "version": 3
   },
   "file_extension": ".py",
   "mimetype": "text/x-python",
   "name": "python",
   "nbconvert_exporter": "python",
   "pygments_lexer": "ipython3",
   "version": "3.5.2"
  }
 },
 "nbformat": 4,
 "nbformat_minor": 2
}
