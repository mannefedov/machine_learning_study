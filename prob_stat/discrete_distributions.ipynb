{
 "cells": [
  {
   "cell_type": "code",
   "execution_count": 113,
   "id": "a4489283",
   "metadata": {},
   "outputs": [],
   "source": [
    "from matplotlib import pyplot as plt"
   ]
  },
  {
   "cell_type": "markdown",
   "id": "7d8d0d2b",
   "metadata": {},
   "source": [
    "## Binomial distribution"
   ]
  },
  {
   "cell_type": "markdown",
   "id": "4ebb2d12",
   "metadata": {},
   "source": [
    "Binomial distribution is a distibution of the number of successes in N trials with a fixed probability of success."
   ]
  },
  {
   "cell_type": "code",
   "execution_count": 42,
   "id": "5a5e0d31",
   "metadata": {},
   "outputs": [],
   "source": [
    "from math import factorial, sqrt\n",
    "\n",
    "def P_binomial(x, n, p):\n",
    "    assert x <= n\n",
    "    \n",
    "    return (factorial(n)/(factorial(n-x) * factorial(x))) * p**x * (1-p)**(n-x)\n",
    "\n"
   ]
  },
  {
   "cell_type": "code",
   "execution_count": 15,
   "id": "e5125635",
   "metadata": {},
   "outputs": [
    {
     "data": {
      "text/plain": [
       "0.17616076799999997"
      ]
     },
     "execution_count": 15,
     "metadata": {},
     "output_type": "execute_result"
    }
   ],
   "source": [
    "P_binomial(6, 9, 0.8)"
   ]
  },
  {
   "cell_type": "code",
   "execution_count": 22,
   "id": "4b85b156",
   "metadata": {},
   "outputs": [
    {
     "data": {
      "text/plain": [
       "[<matplotlib.lines.Line2D at 0x11d41c3c8>]"
      ]
     },
     "execution_count": 22,
     "metadata": {},
     "output_type": "execute_result"
    },
    {
     "data": {
      "image/png": "[encoded data removed]",
      "text/plain": [
       "<Figure size 432x288 with 1 Axes>"
      ]
     },
     "metadata": {
      "needs_background": "light"
     },
     "output_type": "display_data"
    }
   ],
   "source": [
    "p = 0.2\n",
    "N = 100\n",
    "plt.plot([i for i in range(N)], [P_binomial(i, N, p) for i in range(N)])"
   ]
  },
  {
   "cell_type": "code",
   "execution_count": 40,
   "id": "33a5f22a",
   "metadata": {},
   "outputs": [
    {
     "data": {
      "text/plain": [
       "20.0"
      ]
     },
     "execution_count": 40,
     "metadata": {},
     "output_type": "execute_result"
    }
   ],
   "source": [
    "mean = N*p\n",
    "mean"
   ]
  },
  {
   "cell_type": "code",
   "execution_count": 39,
   "id": "3f28bb6f",
   "metadata": {},
   "outputs": [
    {
     "data": {
      "text/plain": [
       "4.0"
      ]
     },
     "execution_count": 39,
     "metadata": {},
     "output_type": "execute_result"
    }
   ],
   "source": [
    "std = sqrt(N*p*(1-p))\n",
    "std"
   ]
  },
  {
   "cell_type": "markdown",
   "id": "a816778d",
   "metadata": {},
   "source": [
    "### Normal approximation to binomial"
   ]
  },
  {
   "cell_type": "markdown",
   "id": "afe6c39d",
   "metadata": {},
   "source": [
    "We can estimate a probability that x is more/less than some value directly like this:"
   ]
  },
  {
   "cell_type": "code",
   "execution_count": 102,
   "id": "b5d5c9c2",
   "metadata": {},
   "outputs": [],
   "source": [
    "x = 20\n",
    "N = 100\n",
    "p = 0.3"
   ]
  },
  {
   "cell_type": "markdown",
   "id": "b6e8d2cd",
   "metadata": {},
   "source": [
    "Exact probability of seeing less than or equal to 10 sucesses in a hundred trials"
   ]
  },
  {
   "cell_type": "code",
   "execution_count": 103,
   "id": "674ace4b",
   "metadata": {},
   "outputs": [
    {
     "data": {
      "text/plain": [
       "0.016462853241869378"
      ]
     },
     "execution_count": 103,
     "metadata": {},
     "output_type": "execute_result"
    }
   ],
   "source": [
    "p_less = sum(P_binomial(i, N, p) for i in range(0, x+1))\n",
    "p_less"
   ]
  },
  {
   "cell_type": "markdown",
   "id": "085291cf",
   "metadata": {},
   "source": [
    "Exact probability of seeing more than 10 sucesses in a hundred trials"
   ]
  },
  {
   "cell_type": "code",
   "execution_count": 104,
   "id": "28c67b8f",
   "metadata": {},
   "outputs": [
    {
     "data": {
      "text/plain": [
       "0.9835371467581306"
      ]
     },
     "execution_count": 104,
     "metadata": {},
     "output_type": "execute_result"
    }
   ],
   "source": [
    "1 - p_less"
   ]
  },
  {
   "cell_type": "markdown",
   "id": "6562efb3",
   "metadata": {},
   "source": [
    "We can also approximate this probability using normal distribution. We need to compute z-score and infer the probability from z-score table"
   ]
  },
  {
   "cell_type": "code",
   "execution_count": 105,
   "id": "fdd15cdc",
   "metadata": {},
   "outputs": [],
   "source": [
    "import scipy.stats as st"
   ]
  },
  {
   "cell_type": "code",
   "execution_count": 106,
   "id": "e1330fc6",
   "metadata": {},
   "outputs": [],
   "source": [
    "mean = N*p\n",
    "std = sqrt(N*p*(1-p))\n",
    "\n",
    "z = (x - mean)/std"
   ]
  },
  {
   "cell_type": "code",
   "execution_count": 107,
   "id": "c785e5e5",
   "metadata": {},
   "outputs": [
    {
     "data": {
      "text/plain": [
       "(0.014548165870626094, 0.9854518341293739)"
      ]
     },
     "execution_count": 107,
     "metadata": {},
     "output_type": "execute_result"
    }
   ],
   "source": [
    "st.norm.cdf(z), 1 - st.norm.cdf(z)"
   ]
  },
  {
   "cell_type": "markdown",
   "id": "3ce504fe",
   "metadata": {},
   "source": [
    "It's not very accurate. But it can be fixed with continuity correction."
   ]
  },
  {
   "cell_type": "code",
   "execution_count": 110,
   "id": "097a38b6",
   "metadata": {},
   "outputs": [],
   "source": [
    "# if we want a less or equal we need to include some more of x to the right (so +0.5)\n",
    "z = ((x+0.5) - mean)/std\n",
    "\n",
    "\n",
    "# if we wanted a strictly less we would need to exclude exactly x to the left (so -0.5)\n",
    "\n",
    "# if we wanted a strictly more we would need to exclude exactly x to the right (so +0.5)\n",
    "\n",
    "# if we wanted a more or equal we would need to include some x to the left (so -0.5)\n"
   ]
  },
  {
   "cell_type": "code",
   "execution_count": 111,
   "id": "ef9ce2d8",
   "metadata": {},
   "outputs": [
    {
     "data": {
      "text/plain": [
       "(0.019082884729415002, 0.980917115270585)"
      ]
     },
     "execution_count": 111,
     "metadata": {},
     "output_type": "execute_result"
    }
   ],
   "source": [
    "st.norm.cdf(z), 1 - st.norm.cdf(z)"
   ]
  },
  {
   "cell_type": "code",
   "execution_count": null,
   "id": "c20211ba",
   "metadata": {},
   "outputs": [],
   "source": []
  },
  {
   "cell_type": "markdown",
   "id": "6a70befa",
   "metadata": {},
   "source": [
    "# Geometric distibution"
   ]
  },
  {
   "cell_type": "markdown",
   "id": "cf89fc05",
   "metadata": {},
   "source": [
    "a) Distribution of the number of trials needed to get one success  \n",
    "b) Distribution of the number of failures before the first success with fixed probability of success"
   ]
  },
  {
   "cell_type": "code",
   "execution_count": 143,
   "id": "c1db2e32",
   "metadata": {},
   "outputs": [],
   "source": [
    "from math import sqrt\n",
    "\n",
    "# a option\n",
    "# does not work for 0 because you need a trial to get something\n",
    "def P_geometric_shifted(x, p):\n",
    "    return (1-p)**(x-1) * p\n",
    "\n",
    "\n",
    "# b option\n",
    "# zero failures assigned a prob too\n",
    "def P_geometric(x, p):\n",
    "    return (1-p)**(x) * p"
   ]
  },
  {
   "cell_type": "code",
   "execution_count": null,
   "id": "516d7213",
   "metadata": {},
   "outputs": [],
   "source": []
  },
  {
   "cell_type": "code",
   "execution_count": 144,
   "id": "56954f6d",
   "metadata": {},
   "outputs": [
    {
     "data": {
      "text/plain": [
       "[<matplotlib.lines.Line2D at 0x13253e240>]"
      ]
     },
     "execution_count": 144,
     "metadata": {},
     "output_type": "execute_result"
    },
    {
     "data": {
      "image/png": "[encoded data removed]",
      "text/plain": [
       "<Figure size 432x288 with 1 Axes>"
      ]
     },
     "metadata": {
      "needs_background": "light"
     },
     "output_type": "display_data"
    }
   ],
   "source": [
    "N = 20\n",
    "plt.plot([i for i in range(1, N)], [P_geometric_shifted(i, 0.1) for i in range(1, N)])\n",
    "plt.plot([i for i in range(1, N)], [P_geometric_shifted(i, 0.2) for i in range(1, N)])\n",
    "plt.plot([i for i in range(1, N)], [P_geometric_shifted(i, 0.3) for i in range(1, N)])\n",
    "plt.plot([i for i in range(1, N)], [P_geometric_shifted(i, 0.4) for i in range(1, N)])\n",
    "plt.plot([i for i in range(1, N)], [P_geometric_shifted(i, 0.5) for i in range(1, N)])\n",
    "plt.plot([i for i in range(1, N)], [P_geometric_shifted(i, 0.7) for i in range(1, N)])"
   ]
  },
  {
   "cell_type": "code",
   "execution_count": 146,
   "id": "70ebd36a",
   "metadata": {},
   "outputs": [
    {
     "data": {
      "text/plain": [
       "[<matplotlib.lines.Line2D at 0x13264a400>]"
      ]
     },
     "execution_count": 146,
     "metadata": {},
     "output_type": "execute_result"
    },
    {
     "data": {
      "image/png": "[encoded data removed]",
      "text/plain": [
       "<Figure size 432x288 with 1 Axes>"
      ]
     },
     "metadata": {
      "needs_background": "light"
     },
     "output_type": "display_data"
    }
   ],
   "source": [
    "N = 20\n",
    "plt.plot([i for i in range(N)], [P_geometric(i, 0.1) for i in range(N)])\n",
    "plt.plot([i for i in range(N)], [P_geometric(i, 0.2) for i in range(N)])\n",
    "plt.plot([i for i in range(N)], [P_geometric(i, 0.3) for i in range(N)])\n",
    "plt.plot([i for i in range(N)], [P_geometric(i, 0.4) for i in range(N)])\n",
    "plt.plot([i for i in range(N)], [P_geometric(i, 0.5) for i in range(N)])\n",
    "plt.plot([i for i in range(N)], [P_geometric(i, 0.7) for i in range(N)])"
   ]
  },
  {
   "cell_type": "code",
   "execution_count": null,
   "id": "13b588f9",
   "metadata": {},
   "outputs": [],
   "source": []
  },
  {
   "cell_type": "code",
   "execution_count": 159,
   "id": "f94e200c",
   "metadata": {},
   "outputs": [
    {
     "data": {
      "text/plain": [
       "(1.6666666666666667, 1.0540925533894598)"
      ]
     },
     "execution_count": 159,
     "metadata": {},
     "output_type": "execute_result"
    }
   ],
   "source": [
    "# a option\n",
    "p = 0.6\n",
    "mean = 1/p\n",
    "\n",
    "std = sqrt( (1-p) / p**2)\n",
    "mean, std"
   ]
  },
  {
   "cell_type": "code",
   "execution_count": 160,
   "id": "5c4dbbbf",
   "metadata": {},
   "outputs": [
    {
     "data": {
      "text/plain": [
       "(0.6666666666666667, 1.0540925533894598)"
      ]
     },
     "execution_count": 160,
     "metadata": {},
     "output_type": "execute_result"
    }
   ],
   "source": [
    "# b option\n",
    "p = 0.6\n",
    "mean = (1-p)/p\n",
    "\n",
    "std = sqrt( (1-p) / p**2)\n",
    "mean, std"
   ]
  },
  {
   "cell_type": "code",
   "execution_count": null,
   "id": "6f7e963a",
   "metadata": {},
   "outputs": [],
   "source": []
  },
  {
   "cell_type": "markdown",
   "id": "a9195171",
   "metadata": {},
   "source": [
    "Example: \n",
    "A patient is waiting for a donor. If the probability that a randomly selected donor is a match is **P**, what is the expected number of tested donors before a matching donor is found?\n",
    "\n"
   ]
  },
  {
   "cell_type": "code",
   "execution_count": 166,
   "id": "6af2eb4b",
   "metadata": {},
   "outputs": [
    {
     "data": {
      "text/plain": [
       "10.0"
      ]
     },
     "execution_count": 166,
     "metadata": {},
     "output_type": "execute_result"
    }
   ],
   "source": [
    "# a option\n",
    "# if it's a 10 % chance then on average we need to test 10 people\n",
    "p = 0.1\n",
    "(1)/p"
   ]
  },
  {
   "cell_type": "code",
   "execution_count": 167,
   "id": "ee257b05",
   "metadata": {},
   "outputs": [
    {
     "data": {
      "text/plain": [
       "9.0"
      ]
     },
     "execution_count": 167,
     "metadata": {},
     "output_type": "execute_result"
    }
   ],
   "source": [
    "# b option\n",
    "# if it's a 10 % chance then on average we need to fail 9 times before we find a donor\n",
    "p = 0.1\n",
    "(1-p)/p"
   ]
  },
  {
   "cell_type": "code",
   "execution_count": null,
   "id": "fa9064aa",
   "metadata": {},
   "outputs": [],
   "source": []
  },
  {
   "cell_type": "markdown",
   "id": "5dfdfbd7",
   "metadata": {},
   "source": [
    "# Hypergeometric distribution"
   ]
  },
  {
   "cell_type": "markdown",
   "id": "cf627751",
   "metadata": {},
   "source": [
    "Distribution of the number of successes in n trials without replacement when population size and possible number of successes are known."
   ]
  },
  {
   "cell_type": "code",
   "execution_count": 212,
   "id": "c2f0fec1",
   "metadata": {},
   "outputs": [],
   "source": [
    "from math import factorial, sqrt\n",
    "\n",
    "# C_n_k (c из n по k) -  n! / ((n-k)! * k! )\n",
    " \n",
    "\n",
    "def P_hypergeometric(k, n, K, N):\n",
    "    \n",
    "    C_N_n = factorial(N) / (factorial(N-n) * factorial(n))\n",
    "    C_K_k = factorial(K) / (factorial(K-k) * factorial(k))\n",
    "    \n",
    "    C_NK_nk = factorial(N-K) / (factorial((N-K)-(n-k)) * factorial(n-k))\n",
    "    \n",
    "    return (C_K_k * C_NK_nk) / C_N_n\n",
    "\n"
   ]
  },
  {
   "cell_type": "code",
   "execution_count": 214,
   "id": "ba7e1eec",
   "metadata": {},
   "outputs": [
    {
     "data": {
      "text/plain": [
       "0.3393909110035767"
      ]
     },
     "execution_count": 214,
     "metadata": {},
     "output_type": "execute_result"
    }
   ],
   "source": [
    "N = 100\n",
    "K = 10\n",
    "n = 5\n",
    "k = 1\n",
    "\n",
    "\n",
    "P_hypergeometric(k,n,K,N)"
   ]
  },
  {
   "cell_type": "code",
   "execution_count": 217,
   "id": "e941073d",
   "metadata": {},
   "outputs": [
    {
     "data": {
      "text/plain": [
       "0.5"
      ]
     },
     "execution_count": 217,
     "metadata": {},
     "output_type": "execute_result"
    }
   ],
   "source": [
    "mean = (n*K)/N\n",
    "mean"
   ]
  },
  {
   "cell_type": "code",
   "execution_count": null,
   "id": "a2ea086b",
   "metadata": {},
   "outputs": [],
   "source": []
  },
  {
   "cell_type": "markdown",
   "id": "4c8e9102",
   "metadata": {},
   "source": [
    "## Negative binomial distribution"
   ]
  },
  {
   "cell_type": "markdown",
   "id": "b2a8ca28",
   "metadata": {},
   "source": [
    "Distribuition of the number of successes before a certain number of failures is reached with fixed probability"
   ]
  },
  {
   "cell_type": "code",
   "execution_count": 169,
   "id": "dfbbbe13",
   "metadata": {},
   "outputs": [],
   "source": [
    "from math import factorial, sqrt\n",
    "\n",
    "def P_binomial_negative(s, f, p):\n",
    "    return (factorial(f+s-1)/(factorial(s-1) * factorial(f))) * p**s * (1-p)**(f)\n",
    "\n"
   ]
  },
  {
   "cell_type": "code",
   "execution_count": 199,
   "id": "bb4c9bef",
   "metadata": {},
   "outputs": [],
   "source": [
    "s = 9\n",
    "f = 2\n",
    "p = 0.9"
   ]
  },
  {
   "cell_type": "code",
   "execution_count": 200,
   "id": "61c945fc",
   "metadata": {},
   "outputs": [
    {
     "data": {
      "text/plain": [
       "0.17433922004999994"
      ]
     },
     "execution_count": 200,
     "metadata": {},
     "output_type": "execute_result"
    }
   ],
   "source": [
    "P_binomial_negative(s, f, p)"
   ]
  },
  {
   "cell_type": "code",
   "execution_count": 193,
   "id": "710d82f6",
   "metadata": {},
   "outputs": [
    {
     "data": {
      "text/plain": [
       "[<matplotlib.lines.Line2D at 0x132782780>]"
      ]
     },
     "execution_count": 193,
     "metadata": {},
     "output_type": "execute_result"
    },
    {
     "data": {
      "image/png": "[encoded data removed]",
      "text/plain": [
       "<Figure size 432x288 with 1 Axes>"
      ]
     },
     "metadata": {
      "needs_background": "light"
     },
     "output_type": "display_data"
    }
   ],
   "source": [
    "N = 20\n",
    "p = 0.5\n",
    "plt.plot([i for i in range(1, N)], [P_binomial_negative(i, 1, p) for i in range(1, N)])\n",
    "plt.plot([i for i in range(1, N)], [P_binomial_negative(i, 2, p) for i in range(1, N)])\n",
    "plt.plot([i for i in range(1, N)], [P_binomial_negative(i, 3, p) for i in range(1, N)])\n",
    "plt.plot([i for i in range(1, N)], [P_binomial_negative(i, 4, p) for i in range(1, N)])\n",
    "plt.plot([i for i in range(1, N)], [P_binomial_negative(i, 5, p) for i in range(1, N)])\n",
    "plt.plot([i for i in range(1, N)], [P_binomial_negative(i, 7, p) for i in range(1, N)])"
   ]
  },
  {
   "cell_type": "markdown",
   "id": "eb46cdb7",
   "metadata": {},
   "source": [
    "If we repeated the trials many times on average we would get this number of successes:"
   ]
  },
  {
   "cell_type": "code",
   "execution_count": 197,
   "id": "a7ec1e3e",
   "metadata": {},
   "outputs": [
    {
     "data": {
      "text/plain": [
       "18.000000000000004"
      ]
     },
     "execution_count": 197,
     "metadata": {},
     "output_type": "execute_result"
    }
   ],
   "source": [
    "mean = f*p / (1-p)\n",
    "mean"
   ]
  },
  {
   "cell_type": "code",
   "execution_count": 207,
   "id": "74f5f528",
   "metadata": {},
   "outputs": [
    {
     "data": {
      "text/plain": [
       "13.41640786499874"
      ]
     },
     "execution_count": 207,
     "metadata": {},
     "output_type": "execute_result"
    }
   ],
   "source": [
    "std = sqrt((f*p)/((1-p)**2))\n",
    "std"
   ]
  },
  {
   "cell_type": "code",
   "execution_count": null,
   "id": "0968b12d",
   "metadata": {},
   "outputs": [],
   "source": []
  },
  {
   "cell_type": "markdown",
   "id": "f21132ba",
   "metadata": {},
   "source": [
    "# Poisson distribution"
   ]
  },
  {
   "cell_type": "markdown",
   "id": "da8e4619",
   "metadata": {},
   "source": [
    "Distribution of the number of events occurring in a fixed interval of time or space if these events occur with a known constant mean rate and independently"
   ]
  },
  {
   "cell_type": "code",
   "execution_count": 221,
   "id": "7c000b2f",
   "metadata": {},
   "outputs": [],
   "source": [
    "from math import factorial, e\n",
    "\n",
    "\n",
    "def P_poisson(k, rate):\n",
    "    return ((rate**k) * (e**(-rate)))  / factorial(k)\n",
    "\n"
   ]
  },
  {
   "cell_type": "code",
   "execution_count": 224,
   "id": "a9c05a03",
   "metadata": {},
   "outputs": [
    {
     "data": {
      "text/plain": [
       "0.22404180765538775"
      ]
     },
     "execution_count": 224,
     "metadata": {},
     "output_type": "execute_result"
    }
   ],
   "source": [
    "k = 3\n",
    "rate = 3\n",
    "P_poisson(k, rate)"
   ]
  },
  {
   "cell_type": "code",
   "execution_count": 230,
   "id": "328221b5",
   "metadata": {},
   "outputs": [
    {
     "data": {
      "text/plain": [
       "[<matplotlib.lines.Line2D at 0x1329924a8>]"
      ]
     },
     "execution_count": 230,
     "metadata": {},
     "output_type": "execute_result"
    },
    {
     "data": {
      "image/png": "[encoded data removed]",
      "text/plain": [
       "<Figure size 432x288 with 1 Axes>"
      ]
     },
     "metadata": {
      "needs_background": "light"
     },
     "output_type": "display_data"
    }
   ],
   "source": [
    "N = 20\n",
    "plt.plot([i for i in range(N)], [P_poisson(i, 1) for i in range(N)])\n",
    "plt.plot([i for i in range(N)], [P_poisson(i, 2) for i in range(N)])\n",
    "plt.plot([i for i in range(N)], [P_poisson(i, 5) for i in range(N)])\n",
    "plt.plot([i for i in range(N)], [P_poisson(i, 10) for i in range(N)])\n",
    "plt.plot([i for i in range(N)], [P_poisson(i, 15) for i in range(N)])\n",
    "plt.plot([i for i in range(N)], [P_poisson(i, 20) for i in range(N)])"
   ]
  },
  {
   "cell_type": "code",
   "execution_count": 232,
   "id": "ecd93b4d",
   "metadata": {},
   "outputs": [
    {
     "data": {
      "text/plain": [
       "(3, 1.7320508075688772)"
      ]
     },
     "execution_count": 232,
     "metadata": {},
     "output_type": "execute_result"
    }
   ],
   "source": [
    "mean = rate\n",
    "std = sqrt(rate)\n",
    "mean, std"
   ]
  },
  {
   "cell_type": "code",
   "execution_count": null,
   "id": "89e388c2",
   "metadata": {},
   "outputs": [],
   "source": []
  }
 ],
 "metadata": {
  "kernelspec": {
   "display_name": "Python 3",
   "language": "python",
   "name": "python3"
  },
  "language_info": {
   "codemirror_mode": {
    "name": "ipython",
    "version": 3
   },
   "file_extension": ".py",
   "mimetype": "text/x-python",
   "name": "python",
   "nbconvert_exporter": "python",
   "pygments_lexer": "ipython3",
   "version": "3.7.2"
  }
 },
 "nbformat": 4,
 "nbformat_minor": 5
}
