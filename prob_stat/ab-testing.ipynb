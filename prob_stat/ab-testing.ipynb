{
 "cells": [
  {
   "cell_type": "code",
   "execution_count": null,
   "id": "cf191b27",
   "metadata": {},
   "outputs": [],
   "source": []
  },
  {
   "cell_type": "code",
   "execution_count": 2,
   "id": "3c36b5fd",
   "metadata": {},
   "outputs": [],
   "source": [
    "import numpy as np\n",
    "import scipy.stats\n",
    "from matplotlib.plot"
   ]
  },
  {
   "cell_type": "code",
   "execution_count": 6,
   "id": "8cbe323c",
   "metadata": {},
   "outputs": [],
   "source": [
    "success_rate = 0.02\n",
    "beta = 250\n",
    "N = 5000\n",
    "NN = 2000\n",
    "uplift = 0.1"
   ]
  },
  {
   "cell_type": "markdown",
   "id": "ad1286a8",
   "metadata": {},
   "source": [
    "Find alpha for a given mean"
   ]
  },
  {
   "cell_type": "code",
   "execution_count": null,
   "id": "1f678d59",
   "metadata": {},
   "outputs": [],
   "source": [
    "# derivation\n",
    "mean = alpha / alpha + beta\n",
    "alpha = mean * (alpha + beta)\n",
    "alpha = mean * alpha + mean * beta\n",
    "alpha - mean * alpha = mean * beta\n",
    "alpha(1 - mean) = mean * beta\n",
    "alpha = mean*beta/(1-mean)\n",
    "\n",
    "# mean is a success rate in the notebook"
   ]
  },
  {
   "cell_type": "code",
   "execution_count": 18,
   "id": "6a971bde",
   "metadata": {},
   "outputs": [],
   "source": [
    "alpha_0 = success_rate * beta / (1 - success_rate)\n",
    "success_rate_0 = scipy.stats.beta(alpha_0, beta).rvs(NN * N)#.reshape(NN, N)"
   ]
  },
  {
   "cell_type": "code",
   "execution_count": null,
   "id": "5c83225b",
   "metadata": {},
   "outputs": [],
   "source": []
  },
  {
   "cell_type": "code",
   "execution_count": 13,
   "id": "21823dca",
   "metadata": {},
   "outputs": [],
   "source": [
    "alpha_1 = success_rate * (1 + uplift) * beta / (1 - success_rate * (1 + uplift))\n",
    "\n",
    "success_rate_1 = scipy.stats.beta(alpha_1, beta).rvs(NN * N)#.reshape(NN, N)"
   ]
  },
  {
   "cell_type": "code",
   "execution_count": 21,
   "id": "8e9bc752",
   "metadata": {},
   "outputs": [
    {
     "data": {
      "text/plain": [
       "array([0.01571229])"
      ]
     },
     "execution_count": 21,
     "metadata": {},
     "output_type": "execute_result"
    }
   ],
   "source": [
    "# rvs just generate random values?\n",
    "scipy.stats.beta(alpha_1, beta).rvs(1)"
   ]
  },
  {
   "cell_type": "code",
   "execution_count": null,
   "id": "71dfda8d",
   "metadata": {},
   "outputs": [],
   "source": [
    "clicks_0 = scipy.stats.binom(n=views_0, p=success_rate_0).rvs()\n",
    "clicks_1 = scipy.stats.binom(n=views_1, p=success_rate_1).rvs()\n"
   ]
  },
  {
   "cell_type": "code",
   "execution_count": null,
   "id": "3b74e340",
   "metadata": {},
   "outputs": [],
   "source": []
  },
  {
   "cell_type": "code",
   "execution_count": null,
   "id": "4f25cc1c",
   "metadata": {},
   "outputs": [],
   "source": []
  },
  {
   "cell_type": "code",
   "execution_count": null,
   "id": "3a3059b4",
   "metadata": {},
   "outputs": [],
   "source": []
  },
  {
   "cell_type": "code",
   "execution_count": null,
   "id": "d78ff3b1",
   "metadata": {},
   "outputs": [],
   "source": []
  }
 ],
 "metadata": {
  "kernelspec": {
   "display_name": "Python 3",
   "language": "python",
   "name": "python3"
  },
  "language_info": {
   "codemirror_mode": {
    "name": "ipython",
    "version": 3
   },
   "file_extension": ".py",
   "mimetype": "text/x-python",
   "name": "python",
   "nbconvert_exporter": "python",
   "pygments_lexer": "ipython3",
   "version": "3.7.2"
  }
 },
 "nbformat": 4,
 "nbformat_minor": 5
}
