{
 "cells": [
  {
   "cell_type": "code",
   "execution_count": null,
   "id": "cf191b27",
   "metadata": {},
   "outputs": [],
   "source": []
  },
  {
   "cell_type": "code",
   "execution_count": 27,
   "id": "67bc58ff",
   "metadata": {},
   "outputs": [],
   "source": [
    "import numpy as np\n",
    "import scipy.stats\n",
    "from matplotlib import pyplot as plt"
   ]
  },
  {
   "cell_type": "code",
   "execution_count": 23,
   "id": "26b41b54",
   "metadata": {},
   "outputs": [],
   "source": [
    "success_rate = 0.02\n",
    "beta = 250\n",
    "N = 5000\n",
    "NN = 2000\n",
    "uplift = 0.1\n",
    "skew = 2.0"
   ]
  },
  {
   "cell_type": "markdown",
   "id": "550d334c",
   "metadata": {},
   "source": [
    "Find alpha for a given mean"
   ]
  },
  {
   "cell_type": "code",
   "execution_count": null,
   "id": "c4bc703e",
   "metadata": {},
   "outputs": [],
   "source": [
    "# derivation\n",
    "mean = alpha / alpha + beta\n",
    "alpha = mean * (alpha + beta)\n",
    "alpha = mean * alpha + mean * beta\n",
    "alpha - mean * alpha = mean * beta\n",
    "alpha(1 - mean) = mean * beta\n",
    "alpha = mean*beta/(1-mean)\n",
    "\n",
    "# mean is a success rate in the notebook"
   ]
  },
  {
   "cell_type": "code",
   "execution_count": 61,
   "id": "79155eb5",
   "metadata": {},
   "outputs": [],
   "source": [
    "alpha_0 = success_rate * beta / (1 - success_rate)\n",
    "success_rate_0 = scipy.stats.beta(alpha_0, beta).rvs(NN * N).reshape(NN, N)"
   ]
  },
  {
   "cell_type": "code",
   "execution_count": null,
   "id": "0c3b03bd",
   "metadata": {},
   "outputs": [],
   "source": []
  },
  {
   "cell_type": "code",
   "execution_count": 62,
   "id": "295c5032",
   "metadata": {},
   "outputs": [],
   "source": [
    "alpha_1 = success_rate * (1 + uplift) * beta / (1 - success_rate * (1 + uplift))\n",
    "\n",
    "success_rate_1 = scipy.stats.beta(alpha_1, beta).rvs(NN * N).reshape(NN, N)"
   ]
  },
  {
   "cell_type": "code",
   "execution_count": 21,
   "id": "ef554223",
   "metadata": {},
   "outputs": [
    {
     "data": {
      "text/plain": [
       "array([0.01571229])"
      ]
     },
     "execution_count": 21,
     "metadata": {},
     "output_type": "execute_result"
    }
   ],
   "source": [
    "# rvs just generate random values?\n",
    "scipy.stats.beta(alpha_1, beta).rvs(1)"
   ]
  },
  {
   "cell_type": "code",
   "execution_count": 63,
   "id": "b2e8c378",
   "metadata": {},
   "outputs": [
    {
     "name": "stderr",
     "output_type": "stream",
     "text": [
      "/Users/mnefedov/.pyenv/versions/3.7.2/lib/python3.7/site-packages/ipykernel_launcher.py:1: DeprecationWarning: `np.int` is a deprecated alias for the builtin `int`. To silence this warning, use `int` by itself. Doing this will not modify any behavior and is safe. When replacing `np.int`, you may wish to use e.g. `np.int64` or `np.int32` to specify the precision. If you wish to review your current use, check the release note link for additional information.\n",
      "Deprecated in NumPy 1.20; for more details and guidance: https://numpy.org/devdocs/release/1.20.0-notes.html#deprecations\n",
      "  \"\"\"Entry point for launching an IPython kernel.\n",
      "/Users/mnefedov/.pyenv/versions/3.7.2/lib/python3.7/site-packages/ipykernel_launcher.py:2: DeprecationWarning: `np.int` is a deprecated alias for the builtin `int`. To silence this warning, use `int` by itself. Doing this will not modify any behavior and is safe. When replacing `np.int`, you may wish to use e.g. `np.int64` or `np.int32` to specify the precision. If you wish to review your current use, check the release note link for additional information.\n",
      "Deprecated in NumPy 1.20; for more details and guidance: https://numpy.org/devdocs/release/1.20.0-notes.html#deprecations\n",
      "  \n"
     ]
    }
   ],
   "source": [
    "# to get a lognormal dist we generate normal data and take an exponent of it\n",
    "views_0 = np.exp(scipy.stats.norm(1, skew).rvs(NN * N)).astype(np.int).reshape(NN, N) + 1\n",
    "views_1 = np.exp(scipy.stats.norm(1, skew).rvs(NN * N)).astype(np.int).reshape(NN, N) + 1\n",
    "\n",
    "# views are always positive, abs is fixing numerical issues with high skewness\n",
    "views_0 = np.absolute(views_0)\n",
    "views_1 = np.absolute(views_1)"
   ]
  },
  {
   "cell_type": "code",
   "execution_count": 65,
   "id": "7716412b",
   "metadata": {},
   "outputs": [],
   "source": [
    "# for a random success rate and a random number of view we generate random number of clicks\n",
    "\n",
    "clicks_0 = scipy.stats.binom(n=views_0, p=success_rate_0).rvs()\n",
    "clicks_1 = scipy.stats.binom(n=views_1, p=success_rate_1).rvs()\n"
   ]
  },
  {
   "cell_type": "code",
   "execution_count": null,
   "id": "2835b970",
   "metadata": {},
   "outputs": [],
   "source": []
  },
  {
   "cell_type": "code",
   "execution_count": 71,
   "id": "79872f26",
   "metadata": {},
   "outputs": [],
   "source": [
    "def generate_data(skew: float = 2.0,\n",
    "                  N: int = 5000,\n",
    "                  NN: int = 2000,\n",
    "                  success_rate: float = 0.02,\n",
    "                  uplift: float = 0.1,\n",
    "                  beta: float = 250.):\n",
    "    \"\"\"\n",
    "    Generates experimental data for N users in NN experiments\n",
    "    :param skew: float, skewness of views distribution\n",
    "    :param N: int, number of users in each experimental group (in control and in treatment)\n",
    "    :param NN: int, number of experiments\n",
    "    :param success_rate: float, mean success rate in control group\n",
    "    :param uplift: float, relative uplift of mean success rate in treatment group\n",
    "    :param beta: float, parameter of success rate distribution\n",
    "    :return: (np.array, np.array, np.array, np.array, np.array) shape (NN, N), views in control group,\n",
    "    clicks in control group, views in treatment group, clicks in treatment group, ground truth user CTRs for control group\n",
    "    \"\"\"\n",
    "    views_0 = np.exp(scipy.stats.norm(1, skew).rvs(NN * N)).astype(int).reshape(NN, N) + 1\n",
    "    views_1 = np.exp(scipy.stats.norm(1, skew).rvs(NN * N)).astype(int).reshape(NN, N) + 1\n",
    "\n",
    "    # views are always positive, abs is fixing numerical issues with high skewness\n",
    "    views_0 = np.absolute(views_0)\n",
    "    views_1 = np.absolute(views_1)\n",
    "\n",
    "    alpha_0 = success_rate * beta / (1 - success_rate)\n",
    "    success_rate_0 = scipy.stats.beta(alpha_0, beta).rvs(NN * N).reshape(NN, N)\n",
    "\n",
    "    alpha_1 = success_rate * (1 + uplift) * beta / (1 - success_rate * (1 + uplift))\n",
    "    success_rate_1 = scipy.stats.beta(alpha_1, beta).rvs(NN * N).reshape(NN, N)\n",
    "\n",
    "    clicks_0 = scipy.stats.binom(n=views_0, p=success_rate_0).rvs()\n",
    "    clicks_1 = scipy.stats.binom(n=views_1, p=success_rate_1).rvs()\n",
    "    return ((views_0.astype(np.float64), clicks_0.astype(np.float64)),\n",
    "            (views_1.astype(np.float64), clicks_1.astype(np.float64)),\n",
    "            success_rate_0.astype(np.float64))"
   ]
  },
  {
   "cell_type": "code",
   "execution_count": 146,
   "id": "4f25cc1c",
   "metadata": {},
   "outputs": [],
   "source": [
    "success_rate = 0.02\n",
    "uplift = 0.01\n",
    "N = 50000\n",
    "NN = 2000\n",
    "\n",
    "beta = 100\n",
    "skew = 1\n",
    "\n",
    "ab_params = {'success_rate': success_rate, 'uplift': uplift, 'beta': beta, 'skew': skew, 'N': N, 'NN': NN}\n",
    "aa_params = {'success_rate': success_rate, 'uplift': 0.0, 'beta': beta, 'skew': skew, 'N': N, 'NN': NN}\n",
    "\n",
    "(views_0_ab, clicks_0_ab), (views_1_ab, clicks_1_ab), gt_success_rates = generate_data(**ab_params)\n",
    "(views_0_aa, clicks_0_aa), (views_1_aa, clicks_1_aa), _ = generate_data(**aa_params)"
   ]
  },
  {
   "cell_type": "code",
   "execution_count": 147,
   "id": "3a3059b4",
   "metadata": {},
   "outputs": [],
   "source": [
    "import numpy as np\n",
    "import scipy.stats\n",
    "import seaborn as sns\n",
    "\n",
    "\n",
    "def t_test(a, b):\n",
    "    \"\"\"\n",
    "    Calculates two-sided t-test p-values for multiple experiments\n",
    "    :param a: np.array shape (n_experiments, n_users), metric values in control group\n",
    "    :param b: np.array shape (n_experiments, n_users), metric values in treatment group\n",
    "    :return: np.array shape (n_experiments), two-sided p-values of t-test in all experimetns\n",
    "    \"\"\"\n",
    "    result = list(map(lambda x: scipy.stats.ttest_ind(x[0], x[1]).pvalue, zip(a, b)))\n",
    "    return np.array(result)"
   ]
  },
  {
   "cell_type": "code",
   "execution_count": 148,
   "id": "e58eee01",
   "metadata": {},
   "outputs": [],
   "source": [
    "colors = sns.color_palette(\"deep\")"
   ]
  },
  {
   "cell_type": "code",
   "execution_count": null,
   "id": "688a1039",
   "metadata": {},
   "outputs": [],
   "source": []
  },
  {
   "cell_type": "code",
   "execution_count": 149,
   "id": "7190224c",
   "metadata": {},
   "outputs": [],
   "source": [
    "# plt.hist(t_test(clicks_0_aa, clicks_1_aa))"
   ]
  },
  {
   "cell_type": "code",
   "execution_count": 150,
   "id": "d78ff3b1",
   "metadata": {},
   "outputs": [],
   "source": [
    "# plt.hist(t_test(clicks_0_ab, clicks_1_ab))"
   ]
  },
  {
   "cell_type": "code",
   "execution_count": 151,
   "id": "5546d821",
   "metadata": {},
   "outputs": [],
   "source": [
    "ab_pvals = t_test(clicks_0_ab, clicks_1_ab)\n",
    "aa_pvals = t_test(clicks_0_aa, clicks_1_aa)"
   ]
  },
  {
   "cell_type": "code",
   "execution_count": 152,
   "id": "4810f96c",
   "metadata": {},
   "outputs": [],
   "source": [
    "def plot_cdf(data, label, ax, color, linewidth):\n",
    "    sorted_data = np.sort(data)\n",
    "    position = scipy.stats.rankdata(sorted_data, method='ordinal')\n",
    "    cdf = position / data.shape[0]\n",
    "\n",
    "    sorted_data = np.hstack((sorted_data, 1))\n",
    "    cdf = np.hstack((cdf, 1))\n",
    "\n",
    "    return ax.plot(sorted_data, cdf, color=color, linestyle='solid', label=label, linewidth=linewidth)\n"
   ]
  },
  {
   "cell_type": "code",
   "execution_count": 153,
   "id": "05fa06a3",
   "metadata": {},
   "outputs": [
    {
     "name": "stderr",
     "output_type": "stream",
     "text": [
      "/Users/mnefedov/.pyenv/versions/3.7.2/lib/python3.7/site-packages/seaborn/distributions.py:2619: FutureWarning: `distplot` is a deprecated function and will be removed in a future version. Please adapt your code to use either `displot` (a figure-level function with similar flexibility) or `histplot` (an axes-level function for histograms).\n",
      "  warnings.warn(msg, FutureWarning)\n"
     ]
    },
    {
     "data": {
      "text/plain": [
       "Text(0.5, 1.0, 'Ground truth user CTR, std = 0.014')"
      ]
     },
     "execution_count": 153,
     "metadata": {},
     "output_type": "execute_result"
    },
    {
     "data": {
      "image/png": "[encoded data removed]",
      "text/plain": [
       "<Figure size 1200x900 with 5 Axes>"
      ]
     },
     "metadata": {
      "needs_background": "light"
     },
     "output_type": "display_data"
    }
   ],
   "source": [
    "cdf_h1_title = 'Simulated p-value CDFs under H1 (Sensitivity)'\n",
    "cdf_h0_title = 'Simulated p-value CDFs under H0 (FPR)'\n",
    "fig = plt.figure(constrained_layout=False, figsize=(4 * 3, 3 * 3), dpi=100)\n",
    "gs = fig.add_gridspec(3, 3)\n",
    "ax_h1 = fig.add_subplot(gs[:2, :2])\n",
    "ax_h0 = fig.add_subplot(gs[0, 2])\n",
    "\n",
    "\n",
    "ax_views = fig.add_subplot(gs[1, 2])\n",
    "ax_clicks = fig.add_subplot(gs[2, 2])\n",
    "ax_powers = fig.add_subplot(gs[2, :2])\n",
    "\n",
    "fig.subplots_adjust(left=0.3, wspace=0.5, hspace=0.5)\n",
    "\n",
    "ax_h1.plot(np.linspace(0, 1, 10000), np.linspace(0, 1, 10000), 'k', alpha=0.1)\n",
    "ax_h0.plot(np.linspace(0, 1, 10000), np.linspace(0, 1, 10000), 'k', alpha=0.1)\n",
    "\n",
    "ax_h1.set_xlabel('p-value')\n",
    "ax_h0.set_xlabel('p-value')\n",
    "ax_h1.set_title(cdf_h1_title)\n",
    "ax_h0.set_title(cdf_h0_title)\n",
    "\n",
    "ax_h1.set_ylabel('Sensitivity')\n",
    "ax_h0.set_ylabel('FPR')\n",
    "\n",
    "ax_h1.axvline(0.05, color='k', alpha=0.5)\n",
    "\n",
    "plot_cdf(ab_pvals, 't_test_aa', ax_h1, colors[0], linewidth=3)\n",
    "plot_cdf(aa_pvals, 't_test_ab', ax_h0, colors[0], linewidth=1.5)\n",
    "\n",
    "\n",
    "ax_powers.set_title('Test Power')\n",
    "tests_powers = []\n",
    "tests_labels = []\n",
    "tests_colours = []\n",
    "# for title, (ab_pvals, _, color) in dict2plot.items():\n",
    "tests_labels.append('t_test')\n",
    "tests_colours.append(colors[0])\n",
    "tests_powers.append(np.mean(ab_pvals < 0.05))\n",
    "ax_powers.barh(np.array(tests_labels), np.array(tests_powers), color=np.array(tests_colours))\n",
    "\n",
    "\n",
    "\n",
    "\n",
    "sns.distplot(views_0.ravel(),\n",
    "             bins=range(0, 20),\n",
    "             ax=ax_views,\n",
    "             kde=False,\n",
    "             norm_hist=True)\n",
    "ax_views.set_xlim((0, 20))\n",
    "views_99_percentile = np.percentile(views_0.ravel(), 99)\n",
    "ax_views.set_title(f'Views, 99%-ile = {views_99_percentile:<7.1f}')\n",
    "\n",
    "\n",
    "\n",
    "sns.distplot(gt_success_rates.ravel(),\n",
    "             bins=np.linspace(0, 0.2, 100),\n",
    "             ax=ax_clicks,\n",
    "             kde=False,\n",
    "             norm_hist=True)\n",
    "ax_clicks.set_xlim((0, 0.1))\n",
    "success_rate_std = gt_success_rates[:10].flatten().std()\n",
    "ax_clicks.set_title(f'Ground truth user CTR, std = {success_rate_std:2.3f}')"
   ]
  },
  {
   "cell_type": "code",
   "execution_count": null,
   "id": "3e2aad7b",
   "metadata": {},
   "outputs": [],
   "source": [
    "\n",
    "\n",
    "# ax_powers.set_title('Test Power')\n",
    "# tests_powers = []\n",
    "# tests_labels = []\n",
    "# tests_colours = []\n",
    "# # for title, (ab_pvals, _, color) in dict2plot.items():\n",
    "#     tests_labels.append(title)\n",
    "#     tests_colours.append(color)\n",
    "#     tests_powers.append(np.mean(ab_pvals < 0.05))\n",
    "# ax_powers.barh(np.array(tests_labels), np.array(tests_powers), color=np.array(tests_colours))\n",
    "\n",
    "\n",
    "\n"
   ]
  }
 ],
 "metadata": {
  "kernelspec": {
   "display_name": "Python 3",
   "language": "python",
   "name": "python3"
  },
  "language_info": {
   "codemirror_mode": {
    "name": "ipython",
    "version": 3
   },
   "file_extension": ".py",
   "mimetype": "text/x-python",
   "name": "python",
   "nbconvert_exporter": "python",
   "pygments_lexer": "ipython3",
   "version": "3.7.2"
  }
 },
 "nbformat": 4,
 "nbformat_minor": 5
}
