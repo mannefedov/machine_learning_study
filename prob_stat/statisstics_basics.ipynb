{
 "cells": [
  {
   "cell_type": "markdown",
   "id": "cbf52d6e",
   "metadata": {},
   "source": [
    "# Central limit theorem"
   ]
  },
  {
   "cell_type": "markdown",
   "id": "15508f58",
   "metadata": {},
   "source": [
    "Distribution of the sample means approaches a normal distribution as the sample size gets larger — no matter what the shape of the population distribution. This fact holds especially true for sample sizes over 30."
   ]
  },
  {
   "cell_type": "code",
   "execution_count": null,
   "id": "79f4ba46",
   "metadata": {},
   "outputs": [],
   "source": []
  }
 ],
 "metadata": {
  "kernelspec": {
   "display_name": "Python 3",
   "language": "python",
   "name": "python3"
  },
  "language_info": {
   "codemirror_mode": {
    "name": "ipython",
    "version": 3
   },
   "file_extension": ".py",
   "mimetype": "text/x-python",
   "name": "python",
   "nbconvert_exporter": "python",
   "pygments_lexer": "ipython3",
   "version": "3.7.2"
  }
 },
 "nbformat": 4,
 "nbformat_minor": 5
}
