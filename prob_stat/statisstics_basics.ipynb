{
 "cells": [
  {
   "cell_type": "markdown",
   "id": "3b841c53",
   "metadata": {},
   "source": [
    "# Central limit theorem"
   ]
  },
  {
   "cell_type": "markdown",
   "id": "d935aa09",
   "metadata": {},
   "source": [
    "Distribution of the sample means approaches a normal distribution as the sample size gets larger — no matter what the shape of the population distribution. This fact holds especially true for sample sizes over 30."
   ]
  },
  {
   "cell_type": "markdown",
   "id": "c7e72b3c",
   "metadata": {},
   "source": [
    "If we have a general population with mean MU and standard deviation SIGMA, and we draw a series of samples of size n from that population, then the distibution of the sample means will be normal.  \n",
    "The mean of sample means will be approximately equal to MU with standard deviation (standard error) equal to SIGMA/SQRT(n).  \n",
    "If n > 30, then we can use sample standard deviation to compute standard error - STD/SQRT(n)"
   ]
  },
  {
   "cell_type": "code",
   "execution_count": null,
   "id": "faecc4e0",
   "metadata": {},
   "outputs": [],
   "source": []
  },
  {
   "cell_type": "code",
   "execution_count": null,
   "id": "685c4b17",
   "metadata": {},
   "outputs": [],
   "source": []
  },
  {
   "cell_type": "markdown",
   "id": "178934de",
   "metadata": {},
   "source": [
    "## Confidence interval"
   ]
  },
  {
   "cell_type": "markdown",
   "id": "979ff502",
   "metadata": {},
   "source": [
    "CI is a range of estimates for an unknown parameter with lower and upper bounds.\n",
    "\n",
    "For example, we can give a 95% confidence interval for the population mean using sample mean, sample standard deviation and sample size. \n",
    "\n",
    "First we need to compute standard error (STD/sqrt(sample size). Then using a property of a normal distribution and central limit theorem (to justify using normal distribution) we can estimate that with 95% chance the population means lies in the interval sample_mean +- (SE*1.96)"
   ]
  },
  {
   "cell_type": "code",
   "execution_count": 9,
   "id": "8e8e1238",
   "metadata": {},
   "outputs": [
    {
     "name": "stdout",
     "output_type": "stream",
     "text": [
      "97.55 102.45\n",
      "96.775 103.225\n"
     ]
    }
   ],
   "source": [
    "from math import sqrt\n",
    "SAMPLE_MEAN = 100\n",
    "SAMPLE_STD = 10\n",
    "SAMPLE_SIZE = 64\n",
    "\n",
    "SE = SAMPLE_STD / sqrt(SAMPLE_SIZE)\n",
    "\n",
    "print(SAMPLE_MEAN-(1.96*SE), SAMPLE_MEAN+(1.96*SE)) #   interval at 95 % confidence level for population mean\n",
    "print(SAMPLE_MEAN-(2.58*SE), SAMPLE_MEAN+(2.58*SE)) #  interval at 99 % confidence level for population mean"
   ]
  },
  {
   "cell_type": "markdown",
   "id": "188caa77",
   "metadata": {},
   "source": [
    "## Margin of error"
   ]
  },
  {
   "cell_type": "markdown",
   "id": "0af9ee41",
   "metadata": {},
   "source": [
    "MoE is the value above and below sample proportion in a confidence interval. MoE is usually set in advance and a required sample size to get such a MoE is calculated instead."
   ]
  },
  {
   "cell_type": "code",
   "execution_count": 55,
   "id": "f188b21c",
   "metadata": {},
   "outputs": [
    {
     "data": {
      "text/plain": [
       "38415.99999999999"
      ]
     },
     "execution_count": 55,
     "metadata": {},
     "output_type": "execute_result"
    }
   ],
   "source": [
    "Z_at_confidence_level = 1.96\n",
    "MoE = 0.1\n",
    "n = (SAMPLE_STD**2 * Z_at_confidence_level**2)/MoE**2\n",
    "n\n",
    "# Z_at_confidence_level is z-value for a chosen confidence level (1.96 for 95 and 2.56 for 99 for example) "
   ]
  },
  {
   "cell_type": "markdown",
   "id": "501182e8",
   "metadata": {},
   "source": [
    "So with a given sample std we need almost 40k examples to estimate population mean with 95 % confidence level and 0.1 margin of error."
   ]
  },
  {
   "cell_type": "markdown",
   "id": "230f2894",
   "metadata": {},
   "source": [
    "## P-value"
   ]
  },
  {
   "cell_type": "markdown",
   "id": "6a5c5d01",
   "metadata": {},
   "source": [
    "Probability of getting a given result by chance assuming the null hypothesis is true. Or probability of getting test results at least as extreme assuming the null hypothesis is true.\n",
    "\n",
    "We can use properties of normal distribution to compute this probability. For example, if we know population mean and draw a sample from that population with mean MU and standard deviation SIGMA, we can compute the difference in terms of standard deviation (using z score - substracting sample mean from population mean and dividing by sample standard deviation) and infer the probability using z score table. \n",
    "\n"
   ]
  },
  {
   "cell_type": "code",
   "execution_count": 12,
   "id": "770e0725",
   "metadata": {},
   "outputs": [],
   "source": [
    "import scipy.stats as st"
   ]
  },
  {
   "cell_type": "code",
   "execution_count": 27,
   "id": "cebd9fe2",
   "metadata": {},
   "outputs": [
    {
     "data": {
      "text/plain": [
       "-2.0"
      ]
     },
     "execution_count": 27,
     "metadata": {},
     "output_type": "execute_result"
    }
   ],
   "source": [
    "P_MEAN = 100\n",
    "SAMPLE_MEAN = 120\n",
    "SAMPLE_STD = 10\n",
    "\n",
    "z_score = (P_MEAN - SAMPLE_MEAN)/SAMPLE_STD\n",
    "z_score"
   ]
  },
  {
   "cell_type": "code",
   "execution_count": 28,
   "id": "92048d05",
   "metadata": {},
   "outputs": [
    {
     "data": {
      "text/plain": [
       "0.022750131948179195"
      ]
     },
     "execution_count": 28,
     "metadata": {},
     "output_type": "execute_result"
    }
   ],
   "source": [
    "# one sided\n",
    "st.norm.cdf(z_score)"
   ]
  },
  {
   "cell_type": "code",
   "execution_count": null,
   "id": "4c9f5598",
   "metadata": {},
   "outputs": [],
   "source": []
  },
  {
   "cell_type": "markdown",
   "id": "a1478006",
   "metadata": {},
   "source": [
    "## T-distribution"
   ]
  },
  {
   "cell_type": "markdown",
   "id": "0838c32e",
   "metadata": {},
   "source": [
    "When sample size is small, distribution of the sample means stops behaving like a normal distribution. So a T (student) distribution is used instead. It has an additional parameter - degrees of freedom - which equals to sample size - 1. When sample size is large enough t distribution is almost identical to the normal, so we can always use t distribution instead of normal."
   ]
  },
  {
   "cell_type": "code",
   "execution_count": 31,
   "id": "75256f04",
   "metadata": {},
   "outputs": [
    {
     "data": {
      "text/plain": [
       "-2.0"
      ]
     },
     "execution_count": 31,
     "metadata": {},
     "output_type": "execute_result"
    }
   ],
   "source": [
    "P_MEAN = 100\n",
    "SAMPLE_MEAN = 120\n",
    "SAMPLE_STD = 10\n",
    "N = 10\n",
    "\n",
    "z_score = (P_MEAN - SAMPLE_MEAN)/SAMPLE_STD\n",
    "z_score"
   ]
  },
  {
   "cell_type": "code",
   "execution_count": 32,
   "id": "985f6416",
   "metadata": {},
   "outputs": [
    {
     "data": {
      "text/plain": [
       "0.03827641188535046"
      ]
     },
     "execution_count": 32,
     "metadata": {},
     "output_type": "execute_result"
    }
   ],
   "source": [
    "# one sided\n",
    "st.t.cdf(z_score, df=N-1)"
   ]
  },
  {
   "cell_type": "code",
   "execution_count": null,
   "id": "ec8406ee",
   "metadata": {},
   "outputs": [],
   "source": []
  },
  {
   "cell_type": "markdown",
   "id": "cf32b719",
   "metadata": {},
   "source": [
    "## Two-sample t-test"
   ]
  },
  {
   "cell_type": "markdown",
   "id": "00eadcb8",
   "metadata": {},
   "source": [
    "We can test if the difference between two sample means is statistically significant using t distribution. \n",
    "We need to calculate t-score = (MEAN_1 - MEAN_2)/SQRT(VARIANCE_1/n1 + VARIANCE_2/n2) and degrees of freedom = n1 + n2 - 2 and infer the probability of getting such a result."
   ]
  },
  {
   "cell_type": "code",
   "execution_count": 46,
   "id": "7af6bebc",
   "metadata": {},
   "outputs": [],
   "source": [
    "MEAN_1 = 89.9\n",
    "MEAN_2 = 80.7\n",
    "\n",
    "sigma_1 = 11.3\n",
    "sigma_2 = 11.7\n",
    "\n",
    "n1 = 20\n",
    "n2 = 20"
   ]
  },
  {
   "cell_type": "code",
   "execution_count": 47,
   "id": "3b60db2a",
   "metadata": {},
   "outputs": [
    {
     "data": {
      "text/plain": [
       "2.529439633102561"
      ]
     },
     "execution_count": 47,
     "metadata": {},
     "output_type": "execute_result"
    }
   ],
   "source": [
    "t_score = (MEAN_1 - MEAN_2)/sqrt(((sigma_1**2)/n1) + ((sigma_2**2)/n2))\n",
    "t_score"
   ]
  },
  {
   "cell_type": "code",
   "execution_count": 48,
   "id": "1d8c7ca6",
   "metadata": {},
   "outputs": [
    {
     "data": {
      "text/plain": [
       "0.0156935300771004"
      ]
     },
     "execution_count": 48,
     "metadata": {},
     "output_type": "execute_result"
    }
   ],
   "source": [
    "# one sided\n",
    "st.t.cdf(-abs(t_score), df=n1+n2-2)*2"
   ]
  },
  {
   "cell_type": "code",
   "execution_count": null,
   "id": "ce7a1c62",
   "metadata": {},
   "outputs": [],
   "source": []
  },
  {
   "cell_type": "code",
   "execution_count": null,
   "id": "19efd6a8",
   "metadata": {},
   "outputs": [],
   "source": [
    "T-statistics\n",
    "\n",
    "z = (X - sample_mean)/std/sqrt(n) - why divide by sqrt? it computes how far x is from the mean in terms of std?"
   ]
  },
  {
   "cell_type": "code",
   "execution_count": null,
   "id": "66e4d2b4",
   "metadata": {},
   "outputs": [],
   "source": []
  }
 ],
 "metadata": {
  "kernelspec": {
   "display_name": "Python 3",
   "language": "python",
   "name": "python3"
  },
  "language_info": {
   "codemirror_mode": {
    "name": "ipython",
    "version": 3
   },
   "file_extension": ".py",
   "mimetype": "text/x-python",
   "name": "python",
   "nbconvert_exporter": "python",
   "pygments_lexer": "ipython3",
   "version": "3.7.2"
  }
 },
 "nbformat": 4,
 "nbformat_minor": 5
}
