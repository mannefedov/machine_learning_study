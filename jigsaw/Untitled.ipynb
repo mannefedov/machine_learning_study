{
 "cells": [
  {
   "cell_type": "code",
   "execution_count": 8,
   "metadata": {},
   "outputs": [],
   "source": [
    "import pandas as pd\n",
    "from sklearn.feature_extraction.text import CountVectorizer\n",
    "from sklearn.cluster import MiniBatchKMeans\n",
    "import re\n",
    "from collections import Counter"
   ]
  },
  {
   "cell_type": "code",
   "execution_count": 11,
   "metadata": {},
   "outputs": [],
   "source": [
    "data = pd.read_csv('validation.csv.zip')"
   ]
  },
  {
   "cell_type": "code",
   "execution_count": 13,
   "metadata": {},
   "outputs": [],
   "source": [
    "matches = []\n",
    "for t,l in data[['comment_text', 'lang']].values:\n",
    "    m = re.findall('\\w*\\*{2,10}\\w*', t)\n",
    "    \n",
    "    if m:\n",
    "        matches += [(ma, l) for ma in m]"
   ]
  },
  {
   "cell_type": "code",
   "execution_count": 14,
   "metadata": {},
   "outputs": [
    {
     "data": {
      "text/plain": [
       "[(('f**k', 'es'), 11),\n",
       " (('***İyi', 'tr'), 4),\n",
       " (('vikilemeler***', 'tr'), 4),\n",
       " (('ca**i', 'it'), 3),\n",
       " (('***', 'tr'), 3),\n",
       " (('***Osmanlı98', 'tr'), 3),\n",
       " (('c***o', 'it'), 2),\n",
       " (('p***', 'es'), 2),\n",
       " (('M*****', 'it'), 2),\n",
       " (('****', 'es'), 2),\n",
       " (('ca**o', 'it'), 2),\n",
       " (('i****zzerà', 'it'), 1),\n",
       " (('ca***ta', 'it'), 1),\n",
       " (('P***', 'es'), 1),\n",
       " (('**', 'tr'), 1),\n",
       " (('ca***e', 'it'), 1),\n",
       " (('C***O', 'it'), 1),\n",
       " (('M*****A', 'it'), 1),\n",
       " (('co**nes', 'es'), 1),\n",
       " (('*****', 'it'), 1),\n",
       " (('pin**', 'es'), 1),\n",
       " (('m***a', 'it'), 1),\n",
       " (('quiiii******', 'it'), 1),\n",
       " (('f*****o', 'it'), 1),\n",
       " (('h**vos', 'es'), 1),\n",
       " (('M****', 'it'), 1),\n",
       " (('PA***', 'es'), 1),\n",
       " (('c****', 'it'), 1),\n",
       " (('p***e', 'it'), 1),\n",
       " (('M***A', 'it'), 1),\n",
       " (('ca**ta', 'it'), 1),\n",
       " (('ca***te', 'it'), 1),\n",
       " (('pu**', 'es'), 1),\n",
       " (('pinc**', 'es'), 1),\n",
       " (('mier**', 'es'), 1),\n",
       " (('p***ta', 'es'), 1),\n",
       " (('destacadísimo*****', 'es'), 1),\n",
       " (('ca***', 'it'), 1),\n",
       " (('inca**to', 'it'), 1),\n",
       " (('mie***da', 'es'), 1),\n",
       " (('c***', 'it'), 1),\n",
       " (('co******', 'it'), 1),\n",
       " (('anlayamadım***Osmanlı98', 'tr'), 1),\n",
       " (('sp*******mento', 'it'), 1),\n",
       " (('c*****a', 'it'), 1),\n",
       " (('rompic****', 'it'), 1),\n",
       " (('st****ata', 'it'), 1),\n",
       " (('Edizioni**', 'it'), 1),\n",
       " (('L***s', 'it'), 1)]"
      ]
     },
     "execution_count": 14,
     "metadata": {},
     "output_type": "execute_result"
    }
   ],
   "source": [
    "Counter(matches).most_common()"
   ]
  },
  {
   "cell_type": "code",
   "execution_count": null,
   "metadata": {},
   "outputs": [],
   "source": []
  },
  {
   "cell_type": "code",
   "execution_count": 9,
   "metadata": {},
   "outputs": [],
   "source": [
    "texts = data[data.lang=='ru']['content'].values"
   ]
  },
  {
   "cell_type": "code",
   "execution_count": null,
   "metadata": {},
   "outputs": [],
   "source": []
  },
  {
   "cell_type": "code",
   "execution_count": 10,
   "metadata": {},
   "outputs": [],
   "source": [
    "from sklearn.cluster import AffinityPropagation, AgglomerativeClustering, DBSCAN, \\\n",
    "                            KMeans, MiniBatchKMeans, Birch, MeanShift, SpectralClustering\n",
    "from sklearn.metrics import adjusted_rand_score, adjusted_mutual_info_score, \\\n",
    "                            silhouette_score\n",
    "\n",
    "from sklearn.feature_extraction.text import CountVectorizer\n",
    "from sklearn.decomposition import TruncatedSVD, NMF\n",
    "from sklearn import metrics\n",
    "from collections import defaultdict"
   ]
  },
  {
   "cell_type": "code",
   "execution_count": 12,
   "metadata": {},
   "outputs": [],
   "source": [
    "cv = CountVectorizer(max_features=10000,ngram_range=(1,3),analyzer='char_wb', min_df=5, max_df=0.3)\n",
    "X = cv.fit_transform(texts)\n",
    "svd = TruncatedSVD(100)\n",
    "X_svd = svd.fit_transform(X)"
   ]
  },
  {
   "cell_type": "code",
   "execution_count": 14,
   "metadata": {
    "scrolled": true
   },
   "outputs": [
    {
     "name": "stdout",
     "output_type": "stream",
     "text": [
      "Init 1/2 with method: k-means++\n",
      "Inertia for init 1/2: 484849.504536\n",
      "Init 2/2 with method: k-means++\n",
      "Inertia for init 2/2: 496452.322527\n",
      "Minibatch iteration 1/2200: mean batch inertia: 497.243681, ewa inertia: 497.243681 \n",
      "Minibatch iteration 2/2200: mean batch inertia: 424.350316, ewa inertia: 490.586145 \n",
      "Minibatch iteration 3/2200: mean batch inertia: 409.833915, ewa inertia: 483.210839 \n",
      "Minibatch iteration 4/2200: mean batch inertia: 422.167588, ewa inertia: 477.635603 \n",
      "Minibatch iteration 5/2200: mean batch inertia: 409.636626, ewa inertia: 471.425084 \n",
      "Minibatch iteration 6/2200: mean batch inertia: 600.042811, ewa inertia: 483.172068 \n",
      "Minibatch iteration 7/2200: mean batch inertia: 359.725860, ewa inertia: 471.897412 \n",
      "Minibatch iteration 8/2200: mean batch inertia: 375.300038, ewa inertia: 463.074928 \n",
      "Minibatch iteration 9/2200: mean batch inertia: 423.967744, ewa inertia: 459.503170 \n",
      "[MiniBatchKMeans] Reassigning 250 cluster centers.\n",
      "Minibatch iteration 10/2200: mean batch inertia: 382.940538, ewa inertia: 452.510510 \n",
      "[MiniBatchKMeans] Reassigning 250 cluster centers.\n",
      "Minibatch iteration 11/2200: mean batch inertia: 423.258651, ewa inertia: 449.838863 \n",
      "Minibatch iteration 12/2200: mean batch inertia: 426.783739, ewa inertia: 447.733180 \n",
      "Minibatch iteration 13/2200: mean batch inertia: 434.769751, ewa inertia: 446.549197 \n",
      "Minibatch iteration 14/2200: mean batch inertia: 421.551322, ewa inertia: 444.266078 \n",
      "Minibatch iteration 15/2200: mean batch inertia: 401.502500, ewa inertia: 440.360372 \n",
      "Minibatch iteration 16/2200: mean batch inertia: 376.766744, ewa inertia: 434.552204 \n",
      "Minibatch iteration 17/2200: mean batch inertia: 415.412466, ewa inertia: 432.804123 \n",
      "Minibatch iteration 18/2200: mean batch inertia: 428.251694, ewa inertia: 432.388338 \n",
      "Minibatch iteration 19/2200: mean batch inertia: 381.400788, ewa inertia: 427.731516 \n",
      "Minibatch iteration 20/2200: mean batch inertia: 452.723563, ewa inertia: 430.014103 \n",
      "Minibatch iteration 21/2200: mean batch inertia: 427.773741, ewa inertia: 429.809485 \n",
      "[MiniBatchKMeans] Reassigning 250 cluster centers.\n",
      "Minibatch iteration 22/2200: mean batch inertia: 637.336480, ewa inertia: 448.763453 \n",
      "Minibatch iteration 23/2200: mean batch inertia: 452.465276, ewa inertia: 449.101550 \n",
      "[MiniBatchKMeans] Reassigning 250 cluster centers.\n",
      "Minibatch iteration 24/2200: mean batch inertia: 557.681025, ewa inertia: 459.018389 \n",
      "Minibatch iteration 25/2200: mean batch inertia: 633.674836, ewa inertia: 474.970206 \n",
      "Minibatch iteration 26/2200: mean batch inertia: 436.793932, ewa inertia: 471.483470 \n",
      "Minibatch iteration 27/2200: mean batch inertia: 389.586834, ewa inertia: 464.003642 \n",
      "Minibatch iteration 28/2200: mean batch inertia: 418.862832, ewa inertia: 459.880817 \n",
      "Minibatch iteration 29/2200: mean batch inertia: 394.728119, ewa inertia: 453.930256 \n",
      "Minibatch iteration 30/2200: mean batch inertia: 447.460063, ewa inertia: 453.339317 \n",
      "Minibatch iteration 31/2200: mean batch inertia: 397.877246, ewa inertia: 448.273825 \n",
      "Minibatch iteration 32/2200: mean batch inertia: 444.603800, ewa inertia: 447.938632 \n",
      "Minibatch iteration 33/2200: mean batch inertia: 535.032704, ewa inertia: 455.893155 \n",
      "Minibatch iteration 34/2200: mean batch inertia: 409.639352, ewa inertia: 451.668678 \n",
      "Minibatch iteration 35/2200: mean batch inertia: 357.679664, ewa inertia: 443.084422 \n",
      "[MiniBatchKMeans] Reassigning 250 cluster centers.\n",
      "Minibatch iteration 36/2200: mean batch inertia: 428.903382, ewa inertia: 441.789232 \n",
      "Minibatch iteration 37/2200: mean batch inertia: 578.014107, ewa inertia: 454.230996 \n",
      "Minibatch iteration 38/2200: mean batch inertia: 438.214884, ewa inertia: 452.768204 \n",
      "[MiniBatchKMeans] Reassigning 250 cluster centers.\n",
      "Minibatch iteration 39/2200: mean batch inertia: 427.028027, ewa inertia: 450.417288 \n",
      "Converged (lack of improvement in inertia) at iteration 39/2200\n",
      "Computing label assignment and total inertia\n"
     ]
    },
    {
     "data": {
      "text/plain": [
       "MiniBatchKMeans(batch_size=500, compute_labels=True, init='k-means++',\n",
       "        init_size=None, max_iter=100, max_no_improvement=20,\n",
       "        n_clusters=500, n_init=2, random_state=None,\n",
       "        reassignment_ratio=0.4, tol=0.0, verbose=1)"
      ]
     },
     "execution_count": 14,
     "metadata": {},
     "output_type": "execute_result"
    }
   ],
   "source": [
    "cluster = MiniBatchKMeans(500, n_init=2, verbose=1, batch_size=500,\n",
    "                          max_no_improvement=20, reassignment_ratio=0.4)\n",
    "cluster.fit(X)"
   ]
  },
  {
   "cell_type": "code",
   "execution_count": 15,
   "metadata": {},
   "outputs": [],
   "source": [
    "labels = cluster.labels_"
   ]
  },
  {
   "cell_type": "code",
   "execution_count": 16,
   "metadata": {},
   "outputs": [],
   "source": [
    "n_clusters = len(set(labels))"
   ]
  },
  {
   "cell_type": "code",
   "execution_count": 17,
   "metadata": {},
   "outputs": [],
   "source": [
    "# cluster = DBSCAN(min_samples=2, eps=0.9, leaf_size=5) \n",
    "# cluster.fit(X_svd)"
   ]
  },
  {
   "cell_type": "code",
   "execution_count": null,
   "metadata": {},
   "outputs": [],
   "source": []
  },
  {
   "cell_type": "code",
   "execution_count": 18,
   "metadata": {
    "scrolled": true
   },
   "outputs": [],
   "source": [
    "# print(\"Silhouette Coefficient: %0.3f\"\n",
    "#       % metrics.silhouette_score(X, labels))"
   ]
  },
  {
   "cell_type": "code",
   "execution_count": 20,
   "metadata": {},
   "outputs": [],
   "source": [
    "cls = defaultdict(list)\n",
    "for i, cl in enumerate(cluster.labels_):\n",
    "    cls[cl].append(texts[i])\n",
    "\n",
    "# откройте в любом текстовом редакторе\n",
    "f = open('clusters.txt', 'w')\n",
    "for cl in cls:\n",
    "    f.write('### '+ str(cl) + ' ###\\n')\n",
    "    f.write('\\n'.join(cls[cl]))\n",
    "    f.write('\\n\\n')\n",
    "f.close()"
   ]
  },
  {
   "cell_type": "code",
   "execution_count": null,
   "metadata": {},
   "outputs": [],
   "source": []
  },
  {
   "cell_type": "code",
   "execution_count": null,
   "metadata": {},
   "outputs": [],
   "source": []
  },
  {
   "cell_type": "code",
   "execution_count": null,
   "metadata": {},
   "outputs": [],
   "source": []
  },
  {
   "cell_type": "code",
   "execution_count": null,
   "metadata": {},
   "outputs": [],
   "source": []
  }
 ],
 "metadata": {
  "kernelspec": {
   "display_name": "Python 3",
   "language": "python",
   "name": "python3"
  },
  "language_info": {
   "codemirror_mode": {
    "name": "ipython",
    "version": 3
   },
   "file_extension": ".py",
   "mimetype": "text/x-python",
   "name": "python",
   "nbconvert_exporter": "python",
   "pygments_lexer": "ipython3",
   "version": "3.6.5"
  }
 },
 "nbformat": 4,
 "nbformat_minor": 4
}
