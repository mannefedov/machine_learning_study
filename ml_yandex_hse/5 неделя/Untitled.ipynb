{
 "cells": [
  {
   "cell_type": "code",
   "execution_count": 26,
   "metadata": {
    "collapsed": false
   },
   "outputs": [],
   "source": [
    "import pandas as pd\n",
    "import os\n",
    "import matplotlib.pyplot as plt\n",
    "from sklearn.cross_validation import train_test_split\n",
    "from sklearn.metrics import log_loss\n",
    "from sklearn.ensemble import GradientBoostingClassifier\n",
    "from math import e\n",
    "import numpy as np\n",
    "%matplotlib inline"
   ]
  },
  {
   "cell_type": "code",
   "execution_count": 27,
   "metadata": {
    "collapsed": false
   },
   "outputs": [],
   "source": [
    "data = pd.read_csv('gbm-data.csv')\n",
    "X = data.drop('Activity', axis=1).values\n",
    "y = data['Activity'].values\n"
   ]
  },
  {
   "cell_type": "code",
   "execution_count": 28,
   "metadata": {
    "collapsed": false
   },
   "outputs": [],
   "source": [
    "X_train, X_test, y_train, y_test = train_test_split(X, y, \n",
    "                                   test_size=0.8, \n",
    "                                   random_state=241)"
   ]
  },
  {
   "cell_type": "code",
   "execution_count": 32,
   "metadata": {
    "collapsed": false
   },
   "outputs": [
    {
     "name": "stdout",
     "output_type": "stream",
     "text": [
      "      Iter       Train Loss   Remaining Time \n",
      "         1           1.0190           36.50s\n",
      "         2           0.9192           37.97s\n",
      "         3           0.8272           36.75s\n",
      "         4           0.7834           33.66s\n",
      "         5           0.7109           32.34s\n",
      "         6           0.6368           31.40s\n",
      "         7           0.5797           30.74s\n",
      "         8           0.5610           29.58s\n",
      "         9           0.5185           29.11s\n",
      "        10           0.4984           28.50s\n",
      "        20           0.1999           27.39s\n",
      "        30           0.1313           25.90s\n",
      "        40           0.0790           23.81s\n",
      "        50           0.0511           22.68s\n",
      "        60           0.0352           21.15s\n",
      "        70           0.0245           19.57s\n",
      "        80           0.0162           18.11s\n",
      "        90           0.0114           16.96s\n",
      "       100           0.0077           15.80s\n",
      "       200           0.0004            4.82s\n",
      "(0.00020857611394801392, 180)\n",
      "(0.58229425942784763, 0)\n",
      "      Iter       Train Loss   Remaining Time \n",
      "         1           1.1255           38.62s\n",
      "         2           1.0035           37.60s\n",
      "         3           0.9386           37.28s\n",
      "         4           0.8844           36.49s\n",
      "         5           0.8381           34.84s\n",
      "         6           0.7995           33.29s\n",
      "         7           0.7559           32.25s\n",
      "         8           0.7205           31.66s\n",
      "         9           0.6958           31.47s\n",
      "        10           0.6725           30.63s\n",
      "        20           0.4672           27.47s\n",
      "        30           0.3179           31.51s\n",
      "        40           0.2274           28.22s\n",
      "        50           0.1774           25.70s\n",
      "        60           0.1394           23.44s\n",
      "        70           0.1050           21.61s\n",
      "        80           0.0805           20.31s\n",
      "        90           0.0650           18.77s\n",
      "       100           0.0511           17.42s\n",
      "       200           0.0058            5.59s\n",
      "(0.0010223680763683197, 249)\n",
      "(0.55820255231642613, 6)\n",
      "      Iter       Train Loss   Remaining Time \n",
      "         1           1.2095           21.30s\n",
      "         2           1.1006           21.03s\n",
      "         3           1.0240           21.13s\n",
      "         4           0.9729           21.05s\n",
      "         5           0.9387           21.94s\n",
      "         6           0.8948           22.34s\n",
      "         7           0.8621           22.23s\n",
      "         8           0.8360           22.13s\n",
      "         9           0.8171           22.20s\n",
      "        10           0.7883           22.43s\n",
      "        20           0.6164           21.92s\n",
      "        30           0.4933           21.02s\n",
      "        40           0.4248           20.78s\n",
      "        50           0.3345           20.37s\n",
      "        60           0.2760           19.68s\n",
      "        70           0.2263           18.72s\n",
      "        80           0.1971           17.57s\n",
      "        90           0.1693           16.49s\n",
      "       100           0.1388           15.70s\n",
      "       200           0.0294            5.77s\n",
      "(0.0068872910014473633, 249)\n",
      "(0.54274517734331229, 18)\n",
      "      Iter       Train Loss   Remaining Time \n",
      "         1           1.2613           30.22s\n",
      "         2           1.1715           29.75s\n",
      "         3           1.1009           29.35s\n",
      "         4           1.0529           29.06s\n",
      "         5           1.0130           29.06s\n",
      "         6           0.9740           29.29s\n",
      "         7           0.9475           30.28s\n",
      "         8           0.9197           29.52s\n",
      "         9           0.8979           28.49s\n",
      "        10           0.8730           27.67s\n",
      "        20           0.7207           23.75s\n",
      "        30           0.6055           24.59s\n",
      "        40           0.5244           22.70s\n",
      "        50           0.4501           21.06s\n",
      "        60           0.3908           20.34s\n",
      "        70           0.3372           19.84s\n",
      "        80           0.3009           18.90s\n",
      "        90           0.2603           17.53s\n",
      "       100           0.2327           16.56s\n",
      "       200           0.0835            5.41s\n",
      "(0.024906124380084927, 249)\n",
      "(0.53043981973526533, 36)\n",
      "      Iter       Train Loss   Remaining Time \n",
      "         1           1.3199           31.02s\n",
      "         2           1.2645           29.53s\n",
      "         3           1.2170           30.20s\n",
      "         4           1.1775           30.19s\n",
      "         5           1.1404           29.67s\n",
      "         6           1.1106           29.81s\n",
      "         7           1.0844           29.36s\n",
      "         8           1.0617           29.08s\n",
      "         9           1.0411           28.89s\n",
      "        10           1.0223           28.65s\n",
      "        20           0.8864           26.68s\n",
      "        30           0.7844           25.88s\n",
      "        40           0.7176           24.44s\n",
      "        50           0.6590           22.74s\n",
      "        60           0.6120           21.19s\n",
      "        70           0.5599           19.94s\n",
      "        80           0.5242           19.15s\n",
      "        90           0.4829           18.36s\n",
      "       100           0.4473           17.06s\n",
      "       200           0.2379            5.55s\n",
      "(0.089369624162740871, 249)\n",
      "(0.52646461382579068, 51)\n"
     ]
    }
   ],
   "source": [
    "all_train_loss = []\n",
    "all_test_loss = []\n",
    "for i in [1, 0.5, 0.3, 0.2, 0.1]:\n",
    "    clf = GradientBoostingClassifier(n_estimators=250, verbose=True, random_state=241, learning_rate=i)\n",
    "    clf.fit(X_train, y_train)\n",
    "    test_loss = []\n",
    "    train_loss = []\n",
    "    for i,func in enumerate(clf.staged_decision_function(X_train)):\n",
    "        pred = np.array([(1/(1+e**-x)) for x in func])\n",
    "        train_loss.append((log_loss(y_train, pred), i))\n",
    "    for i,func in enumerate(clf.staged_decision_function(X_test)):\n",
    "        pred = np.array([(1/(1+e**-x)) for x in func])\n",
    "        test_loss.append((log_loss(y_test, pred), i))\n",
    "    print(min(train_loss))\n",
    "    print(min(test_loss))\n",
    "    all_train_loss.append([x[0] for x in train_loss])\n",
    "    all_test_loss.append([x[0] for x in test_loss])\n",
    "\n"
   ]
  },
  {
   "cell_type": "code",
   "execution_count": 37,
   "metadata": {
    "collapsed": false
   },
   "outputs": [
    {
     "data": {
      "text/plain": [
       "<matplotlib.legend.Legend at 0x9980eb8>"
      ]
     },
     "execution_count": 37,
     "metadata": {},
     "output_type": "execute_result"
    },
    {
     "data": {
      "image/png": "[encoded data removed]",
      "text/plain": [
       "<matplotlib.figure.Figure at 0x9936710>"
      ]
     },
     "metadata": {},
     "output_type": "display_data"
    }
   ],
   "source": [
    "plt.figure()\n",
    "plt.plot(all_test_loss[4], 'r', linewidth=2)\n",
    "plt.plot(all_train_loss[4], 'g', linewidth=2)\n",
    "plt.legend(['test', 'train'])"
   ]
  },
  {
   "cell_type": "code",
   "execution_count": 42,
   "metadata": {
    "collapsed": true
   },
   "outputs": [],
   "source": [
    "from sklearn.ensemble import RandomForestClassifier as RF"
   ]
  },
  {
   "cell_type": "code",
   "execution_count": 43,
   "metadata": {
    "collapsed": true
   },
   "outputs": [],
   "source": [
    "clf = RF(n_estimators=36, random_state=241)"
   ]
  },
  {
   "cell_type": "code",
   "execution_count": 44,
   "metadata": {
    "collapsed": false
   },
   "outputs": [
    {
     "data": {
      "text/plain": [
       "RandomForestClassifier(bootstrap=True, class_weight=None, criterion='gini',\n",
       "            max_depth=None, max_features='auto', max_leaf_nodes=None,\n",
       "            min_samples_leaf=1, min_samples_split=2,\n",
       "            min_weight_fraction_leaf=0.0, n_estimators=36, n_jobs=1,\n",
       "            oob_score=False, random_state=241, verbose=0, warm_start=False)"
      ]
     },
     "execution_count": 44,
     "metadata": {},
     "output_type": "execute_result"
    }
   ],
   "source": [
    "clf.fit(X_train, y_train)"
   ]
  },
  {
   "cell_type": "code",
   "execution_count": 45,
   "metadata": {
    "collapsed": false
   },
   "outputs": [
    {
     "data": {
      "text/plain": [
       "0.54138128618040693"
      ]
     },
     "execution_count": 45,
     "metadata": {},
     "output_type": "execute_result"
    }
   ],
   "source": [
    "pred = clf.predict_proba(X_test)\n",
    "log_loss(y_test, pred)"
   ]
  }
 ],
 "metadata": {
  "kernelspec": {
   "display_name": "Python 3",
   "language": "python",
   "name": "python3"
  },
  "language_info": {
   "codemirror_mode": {
    "name": "ipython",
    "version": 3
   },
   "file_extension": ".py",
   "mimetype": "text/x-python",
   "name": "python",
   "nbconvert_exporter": "python",
   "pygments_lexer": "ipython3",
   "version": "3.4.4"
  }
 },
 "nbformat": 4,
 "nbformat_minor": 0
}
