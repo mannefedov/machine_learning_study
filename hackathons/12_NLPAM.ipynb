{
 "cells": [
  {
   "cell_type": "code",
   "execution_count": 1,
   "metadata": {},
   "outputs": [],
   "source": [
    "from sklearn.feature_extraction.text import CountVectorizer\n",
    "from sklearn.linear_model import LogisticRegression\n",
    "from sklearn.model_selection import StratifiedKFold\n",
    "from sklearn.metrics import accuracy_score, f1_score\n",
    "from collections import defaultdict\n",
    "from scipy.stats import linregress\n",
    "from pprint import pprint\n",
    "import pandas as pd\n",
    "import numpy as np\n",
    "import gensim\n",
    "import re"
   ]
  },
  {
   "cell_type": "markdown",
   "metadata": {},
   "source": [
    "Я взялся решать определение тональности и постарался придумать, как это может быть полезно Теле2. Данные я разметил сам полуавтоматическим методом (кластеризовал и раскидывал руками по классам). Я разметил три класса, но в задаче позитивный и нейтральный были слиты в один класс."
   ]
  },
  {
   "cell_type": "markdown",
   "metadata": {},
   "source": [
    "### 1. Определение тональности"
   ]
  },
  {
   "cell_type": "markdown",
   "metadata": {},
   "source": [
    "Обучим классификатор тональности на размеченных за ночь данных."
   ]
  },
  {
   "cell_type": "code",
   "execution_count": 2,
   "metadata": {},
   "outputs": [],
   "source": [
    "positive = open('sentiment/positive_gold.txt').read().splitlines()\n",
    "negative = open('sentiment/negative_gold.txt').read().splitlines()\n",
    "neutral = open('sentiment/neutral_gold.txt').read().splitlines()"
   ]
  },
  {
   "cell_type": "code",
   "execution_count": 3,
   "metadata": {},
   "outputs": [
    {
     "name": "stdout",
     "output_type": "stream",
     "text": [
      "Количество положительных примеров:  872\n",
      "Количество негативных примеров:     2646\n",
      "Количество нейтральных примеров:    1007\n"
     ]
    }
   ],
   "source": [
    "print('Количество положительных примеров: ', len(positive))\n",
    "print('Количество негативных примеров:    ', len(negative))\n",
    "print('Количество нейтральных примеров:   ', len(neutral))"
   ]
  },
  {
   "cell_type": "code",
   "execution_count": 4,
   "metadata": {},
   "outputs": [],
   "source": [
    "train_data = positive + neutral + negative"
   ]
  },
  {
   "cell_type": "markdown",
   "metadata": {},
   "source": [
    "Сделаем минимальную предобработку: уберем тэги, лишние символы на концах предложений и зацензуренные символы."
   ]
  },
  {
   "cell_type": "code",
   "execution_count": 5,
   "metadata": {},
   "outputs": [],
   "source": [
    "def preprocess(text):\n",
    "    text = re.sub('  +', ' ', \n",
    "                  re.sub(\"<.*?>\", \" \", \n",
    "                      re.sub(\"<.*?>\", \" \", \n",
    "                         re.sub('[\\'\\\" ]+\\n', '\\n', \n",
    "                                re.sub(\"\\[?xx+\\]?\", ' ', \n",
    "                                       text)))))\n",
    "    return text"
   ]
  },
  {
   "cell_type": "code",
   "execution_count": 6,
   "metadata": {},
   "outputs": [],
   "source": [
    "train_data = np.array([preprocess(text) for text in train_data])"
   ]
  },
  {
   "cell_type": "code",
   "execution_count": 7,
   "metadata": {},
   "outputs": [
    {
     "data": {
      "text/plain": [
       "array(['Нет, спасибо. Подумаю',\n",
       "       'Большое спасибо. Чем отличается мой тариф от этого \"\"Мой онлайн?',\n",
       "       ' , 6 1 6 заранее огромное спасибо, а за комплимент большое спасибо',\n",
       "       'дада, спасибо, вопросов нет', 'Нет, больше вопросов. Спасибо.',\n",
       "       'Большое спасибо за быстрый ответ! Удачи и успехов!!!',\n",
       "       'Нет, большое спасибо)',\n",
       "       'В данный момент я нахожусь по адресу Томск, ул 21/5, этаж 5 в пятиэтажке, окна квартиры выходят на дом ул 122/1. Качество голосовой связи отличное, проблема только с интернетом. Спасибо за помощь.',\n",
       "       'Венрно, спасибо за помощь.',\n",
       "       'Здравствуйте, вчера после обеда интернет заработал. Сейчас все нормально. Спасибо.'],\n",
       "      dtype='<U2701')"
      ]
     },
     "execution_count": 7,
     "metadata": {},
     "output_type": "execute_result"
    }
   ],
   "source": [
    "train_data[:10]"
   ]
  },
  {
   "cell_type": "code",
   "execution_count": 8,
   "metadata": {},
   "outputs": [],
   "source": [
    "# дальше понадобится определять только негативный класс, поэтому запишем позитивные и нейтральные в одну категорию\n",
    "target = [0 for i in range(len(positive))] + [0 for i in range(len(neutral))] + [1 for i in range(len(negative))]"
   ]
  },
  {
   "cell_type": "code",
   "execution_count": 9,
   "metadata": {},
   "outputs": [],
   "source": [
    "target = np.array(target)"
   ]
  },
  {
   "cell_type": "markdown",
   "metadata": {},
   "source": [
    "Для простоты обучим CountVectorizer на символьных нграммах."
   ]
  },
  {
   "cell_type": "code",
   "execution_count": 10,
   "metadata": {},
   "outputs": [],
   "source": [
    "vectorizer = CountVectorizer(analyzer='char', ngram_range=(2,5), max_features=10000)"
   ]
  },
  {
   "cell_type": "code",
   "execution_count": 11,
   "metadata": {},
   "outputs": [],
   "source": [
    "X = vectorizer.fit_transform(train_data)"
   ]
  },
  {
   "cell_type": "markdown",
   "metadata": {},
   "source": [
    "Оценим качество на кросс-валидации. Так как классы не сбалансированы, будем использовать StratifiedKFold.\n",
    "\n",
    "Так как классификация бинарная ограничимся accuracy."
   ]
  },
  {
   "cell_type": "code",
   "execution_count": 12,
   "metadata": {},
   "outputs": [
    {
     "name": "stdout",
     "output_type": "stream",
     "text": [
      "Doing fold  0\n",
      "Score on fold 0.9555555555555556\n",
      "Doing fold  1\n",
      "Score on fold 0.969811320754717\n",
      "Doing fold  2\n",
      "Score on fold 0.9812734082397004\n",
      "Doing fold  3\n",
      "Score on fold 0.9589552238805971\n",
      "Doing fold  4\n",
      "Score on fold 0.9700374531835205\n",
      "Doing fold  5\n",
      "Score on fold 0.9613259668508288\n",
      "Doing fold  6\n",
      "Score on fold 0.9681050656660413\n",
      "Doing fold  7\n",
      "Score on fold 0.9625468164794008\n",
      "Doing fold  8\n",
      "Score on fold 0.9511278195488723\n",
      "Doing fold  9\n",
      "Score on fold 0.9758812615955473\n",
      "Total score -  0.9654619891754782\n"
     ]
    }
   ],
   "source": [
    "scores = []\n",
    "\n",
    "\n",
    "kf = StratifiedKFold(n_splits=10, random_state=23)\n",
    "\n",
    "clf = LogisticRegression(C=0.001, random_state=23)\n",
    "for i, index in enumerate(kf.split(X, target)):\n",
    "    print('Doing fold ', i)\n",
    "    train, valid = index\n",
    "    \n",
    "    X_train, X_valid = X[train], X[valid]\n",
    "    y_train, y_valid = target[train], target[valid]\n",
    "    \n",
    "    clf.fit(X_train, y_train)\n",
    "    pred = clf.predict(X_valid)\n",
    "\n",
    "    score = f1_score(pred, y_valid)\n",
    "    print('Score on fold', score)\n",
    "    scores.append(score)\n",
    "\n",
    "\n",
    "print('Total score - ', np.mean(scores))"
   ]
  },
  {
   "cell_type": "markdown",
   "metadata": {},
   "source": [
    "Качество на валидации вроде бы хорошее, но датасет совсем не идеальный. Посмотрим ещё на ошибки классификатора."
   ]
  },
  {
   "cell_type": "code",
   "execution_count": 13,
   "metadata": {},
   "outputs": [
    {
     "data": {
      "text/plain": [
       "LogisticRegression(C=0.001, class_weight=None, dual=False, fit_intercept=True,\n",
       "          intercept_scaling=1, max_iter=100, multi_class='ovr', n_jobs=1,\n",
       "          penalty='l2', random_state=23, solver='liblinear', tol=0.0001,\n",
       "          verbose=0, warm_start=False)"
      ]
     },
     "execution_count": 13,
     "metadata": {},
     "output_type": "execute_result"
    }
   ],
   "source": [
    "clf = LogisticRegression(C=0.001, random_state=23)\n",
    "clf.fit(X, target)"
   ]
  },
  {
   "cell_type": "code",
   "execution_count": 14,
   "metadata": {},
   "outputs": [],
   "source": [
    "preds = clf.predict(X)"
   ]
  },
  {
   "cell_type": "code",
   "execution_count": 15,
   "metadata": {},
   "outputs": [
    {
     "data": {
      "text/plain": [
       "[(0,\n",
       "  'как минимум непрофессионально и некрасиво не идти на встречу постоянному клиенту и не решать возникшую проблему. если вы зависите от других операторов, то это попросту вид монополии, что очень подрывает именно вашу (так как на других я просто не рассматривал до этого момента)репутацию отличного оператора'),\n",
       " (0, 'Благодарю, всё отлично!!!!'),\n",
       " (0, 'Документы все были отправлены мною!!!'),\n",
       " (0, ' , ну круто че, теле2 топовый оператор)'),\n",
       " (0,\n",
       "  'Добрый день. Что с вашим интернетом? 2 месяца пользовалась, было все отлично! В этот же месяц просто ужас какой то... в вк постоянно показывает что нет интернета, в игре так же. Я сейчас зашла в игру с билайна(там трафик кончился) так я хоть поиграла'),\n",
       " (0, 'Получилось!!! Спасибо огромное!!!)))'),\n",
       " (0,\n",
       "  'Вот если честно, граждане из Теле2, вы уже достали своими скрытыми маневрами, за все годы пользованием БВК, а это с г, проблем вообще не было, а как только появились Вы, то повышение абонентской платы (на этом же номере), то изменение в одностороннем порядке договора с требованием пополнять или пользоваться симкой в теч. 120 дней, в противном случае будет списание по 3 р. в день (это на номере бабушки, бабушка в шоке, а у неё телефон был для резерва; раньше просто бросил и знаешь, что в нужный момент всегда будет связь, а теперь...120 дней), кстати у БВК просто переносились деньги на другой номер данного абонента, но никогда НЕ СНИМАЛИСЬ. Стали появляться платные услуги, хотя и отмененные после моего обращения. А по CDMA, я только на сайте Теле2 узнал, что мой пакет со сроком \"\"жизни\"\" 365 дней превратился...в 30 дней и все...где мой баланс? По быстрому заблокировали личный кабинет CDMA и все отлично! Это вообще-то в приличном обществе называется жул 90%))))) Ха-ха-ха!! Вот как с вами потом работать? Я понимаю - дешевле, но куда дороже-то! У вас и так тарифы явно хуже, чем были в г. Что я хочу сказать, граждане из Теле2, терпение оно не бесконечно и преимуществ перед другими операторами у вас уже нет. Да даже взять личный кабинет, ну без слез на него не посмотришь, ну кто додумался все так ужасно оформить, был же вполне нормальный ЛК, для чего его переделывали, он же стал более тяжелым к восприятию. Ну, а по поводу голосового помощника...будет время проверю, спасибо за информацию.'),\n",
       " (0,\n",
       "  ' , отвечаем все в порядке очереди. Как видим, с вами в ЛС уже общаются наши коллеги.'),\n",
       " (0,\n",
       "  'Дело в том, что было все отлично, почти год пользуюсь теле2 по этому адресу и он тут берет лучше всех операторов. И никогда никаких проблем не было.'),\n",
       " (0,\n",
       "  'Я говорю что если пользоваться мобильным интернетом, то у меня ваша реклама на сторонних сайтах появляется. Я не хочу ее видеть. Это происходит путем подмены http трафика, и замены js скриптов. Было бы отлично этого не делать, так как не факт что это законно. К том уже ранее мне уже писали что отключили это')]"
      ]
     },
     "execution_count": 15,
     "metadata": {},
     "output_type": "execute_result"
    }
   ],
   "source": [
    "list(zip(target[preds!=target], train_data[preds!=target]))[:10]"
   ]
  },
  {
   "cell_type": "markdown",
   "metadata": {},
   "source": [
    "Что-то и правда не определяется как надо, а что-то явно моя ошибка при разметке."
   ]
  },
  {
   "cell_type": "markdown",
   "metadata": {},
   "source": [
    "### 2. Применение на практике"
   ]
  },
  {
   "cell_type": "markdown",
   "metadata": {},
   "source": [
    "Допустим, что качество классификатор хоть и не идеальное, но тем не менее отражает реальную тональность.\n",
    "\n",
    "Прикрутим обученный классификатор к задаче определения успешности общения с оператором тех. поддержки. Логично предположить, что Теле2 заинтересованы в том, чтобы негативность 1) как минимум не повышалась в ходе диалога и 2) как максимум уменьшалась под конец. \n",
    "\n",
    "Достанем из файла dialog_1.csv цепочки сообщений пользователя и припишем каждой из них тональность. Чтобы измерить динамику изменения негативности впихнем в каждую последовательность регрессию и возьмем slope полученной прямой."
   ]
  },
  {
   "cell_type": "code",
   "execution_count": 16,
   "metadata": {},
   "outputs": [
    {
     "name": "stderr",
     "output_type": "stream",
     "text": [
      "/usr/local/lib/python3.5/dist-packages/IPython/core/interactiveshell.py:2728: DtypeWarning: Columns (12) have mixed types. Specify dtype option on import or set low_memory=False.\n",
      "  interactivity=interactivity, compiler=compiler, result=result)\n"
     ]
    }
   ],
   "source": [
    "dialog = pd.read_csv('DATA/dialogs_1.csv')"
   ]
  },
  {
   "cell_type": "code",
   "execution_count": 17,
   "metadata": {},
   "outputs": [],
   "source": [
    "ids = dialog.ID.dropna().unique()"
   ]
  },
  {
   "cell_type": "code",
   "execution_count": 18,
   "metadata": {},
   "outputs": [],
   "source": [
    "# Достанем ещё и отдельно ответы операторов и полные последовательности диалогов\n",
    "# тут все очень не эффективно из-за того, что я торопился\n",
    "sequences = []\n",
    "sequences_reply = []\n",
    "sequences_full = []\n",
    "\n",
    "for idx in ids[:1000]:\n",
    "    \n",
    "    data = dialog[dialog.ID == idx]\n",
    "    contents = data[(data['Статус'] == 'Инцидент') | (data['Статус'] == 'Новый')]['Контент'].dropna()\n",
    "    contents = list(contents.apply(preprocess).values)\n",
    "    sequences.append(contents)\n",
    "    \n",
    "    contents_reply = data[data['Статус'] == 'Ожидание ответа автора']['Контент'].dropna()\n",
    "    contents_reply = list(contents_reply.apply(preprocess).values)\n",
    "    sequences_reply.append(contents_reply)\n",
    "    \n",
    "    contents_full = data['Контент'].dropna()\n",
    "    contents_full = list(contents_full.apply(preprocess).values)\n",
    "    sequences_full.append(contents_full)"
   ]
  },
  {
   "cell_type": "code",
   "execution_count": null,
   "metadata": {},
   "outputs": [],
   "source": []
  },
  {
   "cell_type": "code",
   "execution_count": 19,
   "metadata": {},
   "outputs": [],
   "source": [
    "# векторизуем последовательности\n",
    "# предсказываем вероятность негативного класса\n",
    "# если в последовательности меньше 3 реплик, ставим нули и идем дальше\n",
    "# строим регрессию, берем slope\n",
    "# сохраняем вероятности, чтобы потом их легче было посмотреть\n",
    "\n",
    "slopes = []\n",
    "probability_sequences = []\n",
    "\n",
    "\n",
    "for sequence in sequences:\n",
    "    if len(sequence) < 3:\n",
    "        slopes.append(0)\n",
    "        preds = [0 for r in sequence]\n",
    "        probability_sequences.append(preds)\n",
    "        continue\n",
    "    \n",
    "    vecs = vectorizer.transform(sequence)\n",
    "    preds = clf.predict_proba(vecs)\n",
    "    \n",
    "    preds = [x[0] for x in preds]\n",
    "    probability_sequences.append(preds)\n",
    "    \n",
    "    slopes.append(linregress(list(range(len(sequence))), preds)[0])"
   ]
  },
  {
   "cell_type": "markdown",
   "metadata": {},
   "source": [
    "Посмотрим, какие диалоги определяются как \"скатившиеся\"."
   ]
  },
  {
   "cell_type": "code",
   "execution_count": 20,
   "metadata": {
    "scrolled": true
   },
   "outputs": [
    {
     "data": {
      "text/plain": [
       "[(133, -0.19583663599528306),\n",
       " (564, -0.1940239463477752),\n",
       " (376, -0.17629244975801905),\n",
       " (365, -0.14429035168041443),\n",
       " (721, -0.1372134138989614),\n",
       " (217, -0.13181914679381873),\n",
       " (218, -0.12507367009307907),\n",
       " (358, -0.12487260201464745),\n",
       " (623, -0.12393864346379435),\n",
       " (107, -0.12051254734829878)]"
      ]
     },
     "execution_count": 20,
     "metadata": {},
     "output_type": "execute_result"
    }
   ],
   "source": [
    "sorted([(i,x) for i,x in enumerate(slopes) if x != 0], key=lambda x: x[1])[:10]"
   ]
  },
  {
   "cell_type": "code",
   "execution_count": 21,
   "metadata": {},
   "outputs": [
    {
     "name": "stdout",
     "output_type": "stream",
     "text": [
      "'Добрый день,большая просьба к группе, помогите,пропал сын,номер сына ,полная информация у меня на стене,Александр,помогите 0.750223672179207\n",
      "--------------------------------------------------\n",
      "'Одного из оператора я могу узнать информацию звонков,есть свои люди,надо анонимно под запись 0.40710217591274367\n",
      "--------------------------------------------------\n",
      "'А я вам того же, желаю,он повешался,вы не люди 0.3585504001886409\n",
      "--------------------------------------------------\n"
     ]
    }
   ],
   "source": [
    "for text, proba in zip(sequences[133], probability_sequences[133]):\n",
    "    print(re.sub('  +', '', text), proba)\n",
    "    print('-'*50)"
   ]
  },
  {
   "cell_type": "markdown",
   "metadata": {},
   "source": [
    "Посмотрим, что в этой ситуации сказал оператор."
   ]
  },
  {
   "cell_type": "code",
   "execution_count": 22,
   "metadata": {},
   "outputs": [
    {
     "name": "stdout",
     "output_type": "stream",
     "text": [
      "'Добрый день,большая просьба к группе, помогите,пропал сын,номер сына ,полная информация у меня на стене,Александр,помогите\n",
      "--------------------------------------------------\n",
      "'Здравствуйте, Александр! Сочувствуем вам и входим в положение. Однако детализацию звонков вы можете заказать бесплатно в личном кабинете https://tele2.ru/lk в разделе «Расходы», «Подробнее о расходах», нажав на ссылку «Заказать детализацию». Либо владелец номера с паспортом может обратиться в офис нашей компании. Стоимость заказа в офисе 10 рублей за календарный месяц. Адреса офисов и графики их работы по ссылке https://tele2.ru/offices . Рекомендуем вам незамедлительно обратиться в полицию. Мы верим, что ситуация разрешится, пожалуйста, не переживайте. Может быть подскажем вам ещё что-то?\n",
      "--------------------------------------------------\n",
      "'Одного из оператора я могу узнать информацию звонков,есть свои люди,надо анонимно под запись\n",
      "--------------------------------------------------\n",
      "'А я вам того же, желаю,он повешался,вы не люди\n",
      "--------------------------------------------------\n",
      "'Александр, от лица всей компании приносим вам искренние соболезнования.\n",
      "--------------------------------------------------\n"
     ]
    }
   ],
   "source": [
    "for text in sequences_full[133]:\n",
    "    print(re.sub('  +', '', text))\n",
    "    print('-'*50)"
   ]
  },
  {
   "cell_type": "markdown",
   "metadata": {},
   "source": [
    "Посмотрим на улучшившиеся диалоги."
   ]
  },
  {
   "cell_type": "code",
   "execution_count": 24,
   "metadata": {},
   "outputs": [
    {
     "data": {
      "text/plain": [
       "[(504, 0.42264158844849326),\n",
       " (509, 0.3699203318967088),\n",
       " (592, 0.34501036803485624),\n",
       " (354, 0.33536596837208726),\n",
       " (277, 0.33363188349774836),\n",
       " (910, 0.3262727500968729),\n",
       " (694, 0.3261815411639365),\n",
       " (828, 0.31253867211081615),\n",
       " (77, 0.30050557529155564),\n",
       " (493, 0.2778947635043884)]"
      ]
     },
     "execution_count": 24,
     "metadata": {},
     "output_type": "execute_result"
    }
   ],
   "source": [
    "sorted([(i,x) for i,x in enumerate(slopes) if x != 0], key=lambda x: -x[1])[:10]"
   ]
  },
  {
   "cell_type": "code",
   "execution_count": 25,
   "metadata": {},
   "outputs": [
    {
     "name": "stdout",
     "output_type": "stream",
     "text": [
      "' , что это за тарифы такие интересно? за что 3 рубля в сутки? пакетов минут там нет, пакета интернета нет. или я что-то не понимаю? 0.14523299178753013\n",
      "--------------------------------------------------\n",
      "'Теле2, за что ввели абонентскую плату на тарифном плане \"классический\"? 0.49579778875027536\n",
      "--------------------------------------------------\n",
      "' , Да, удалось. Спасибо. Хорошо что можно отключить. 0.8850736555809477\n",
      "--------------------------------------------------\n"
     ]
    }
   ],
   "source": [
    "for text, proba in zip(sequences[509], probability_sequences[509]):\n",
    "    print(re.sub('  +', '', text), proba)\n",
    "    print('-'*50)"
   ]
  },
  {
   "cell_type": "code",
   "execution_count": 28,
   "metadata": {},
   "outputs": [
    {
     "name": "stdout",
     "output_type": "stream",
     "text": [
      "'Здравствуйте теле2 . Я вчера в Евросети положила 120 р на счёт И до сих пор не пришло Я снова ходила туда где клала , сказали ждать . Тип у теле 2 задержки вечные И как часто это происходить будет !? Я отправляю смс , а счёт так и не пополнился Вчера звонила оператору Евросети Деньги закончились Минуты Я нервничаю\n",
      "--------------------------------------------------\n",
      "' , здравствуйте! Рекомендуем сравнить информацию в чеке в строке «Провайдер», «Поставщик услуг» или «Получатель». В этой строке должно быть указано Tele2 или Ростовская сотовая связь. Если указана иная информация, то для поиска и проведения Вашего платежа рекомендуем обратиться в платежную систему по номеру технической поддержки, который указан в чеке. Обращаем ваше внимание, максимальный срок поступления платежа – 24 часа с момента пополнения баланса. Если все данные в чеке верные, и по истечении 24 часов средства не поступят, чтобы мы могли помочь отыскать платеж, пожалуйста, пришлите нам в лс ваш номер Tele2, а также дату и время внесения средств на баланс.\n",
      "--------------------------------------------------\n",
      "' , спасибо большое. Там все верно указано теле2 И мой номер Внесен платеж в 14.48 вчера. Вот жду . Если что напишу Просто уже который раз так Происходит. Спасибо\n",
      "--------------------------------------------------\n",
      "' , хорошо. Если платёж не поступит - обязательно обращайтесь и мы отыщем платёж.\n",
      "--------------------------------------------------\n",
      "' , спасибо большое\n",
      "--------------------------------------------------\n",
      "' , не волнуйтесь, все будет хорошо. \n",
      "--------------------------------------------------\n"
     ]
    }
   ],
   "source": [
    "for text in sequences_full[504]:\n",
    "    print(re.sub('  +', ' ', text))\n",
    "    print('-'*50)"
   ]
  },
  {
   "cell_type": "markdown",
   "metadata": {},
   "source": [
    "Такие данные можно использовать для мониторинга успешности поддержки, поиска плохих и хороших диалогов, на которых можно потом обучать новых операторов."
   ]
  },
  {
   "cell_type": "markdown",
   "metadata": {},
   "source": [
    "### Попробуем посчитать какие-нибудь статистики и посмотреть как они коррелируют с коэффициентами наклона."
   ]
  },
  {
   "cell_type": "code",
   "execution_count": 29,
   "metadata": {},
   "outputs": [],
   "source": [
    "from pymorphy2 import MorphAnalyzer\n",
    "from nltk.tokenize import word_tokenize\n",
    "from collections import Counter\n",
    "from scipy.stats import spearmanr"
   ]
  },
  {
   "cell_type": "markdown",
   "metadata": {},
   "source": [
    "Морфологию возьмем из pymoprhy."
   ]
  },
  {
   "cell_type": "code",
   "execution_count": 30,
   "metadata": {},
   "outputs": [],
   "source": [
    "morph = MorphAnalyzer()\n",
    "\n",
    "def tokenizer(text):\n",
    "    words = [word.lower() for word in word_tokenize(text) if word.isalnum()]\n",
    "    return words\n"
   ]
  },
  {
   "cell_type": "markdown",
   "metadata": {},
   "source": [
    "Для подсчета сложных слов посчитаем частотность слов на 100 тыс. текстов и возьмем топ10к как порог частотной и общеизвестной лексики."
   ]
  },
  {
   "cell_type": "code",
   "execution_count": 31,
   "metadata": {},
   "outputs": [],
   "source": [
    "words = dialog['Контент'].dropna().iloc[:100000].apply(lambda x: tokenizer(preprocess(x))).values"
   ]
  },
  {
   "cell_type": "code",
   "execution_count": 32,
   "metadata": {},
   "outputs": [],
   "source": [
    "total_word_count = Counter()\n",
    "for ws in words:\n",
    "    total_word_count.update(ws)\n",
    "top10k = set([word for word,c in total_word_count.most_common(10000)])"
   ]
  },
  {
   "cell_type": "code",
   "execution_count": null,
   "metadata": {},
   "outputs": [],
   "source": []
  },
  {
   "cell_type": "code",
   "execution_count": 33,
   "metadata": {},
   "outputs": [
    {
     "name": "stderr",
     "output_type": "stream",
     "text": [
      "/usr/local/lib/python3.5/dist-packages/numpy/core/fromnumeric.py:2957: RuntimeWarning: Mean of empty slice.\n",
      "  out=out, **kwargs)\n",
      "/usr/local/lib/python3.5/dist-packages/numpy/core/_methods.py:80: RuntimeWarning: invalid value encountered in double_scalars\n",
      "  ret = ret.dtype.type(ret / rcount)\n"
     ]
    }
   ],
   "source": [
    "# я торопился и поэтому тут все непонятно\n",
    "\n",
    "mean_answers_len = []\n",
    "mean_answer_word_len = []\n",
    "mean_len_of_word = []\n",
    "percentage_of_unique_words = []\n",
    "percent_of_complicated_words = []\n",
    "percent_of_personal_pronouns = []\n",
    "percent_of_imperatives = []\n",
    "\n",
    "\n",
    "for sequence in sequences_reply:\n",
    "    mean_len = np.mean([len(reply) for reply in sequence])\n",
    "    mean_word_len = 0\n",
    "    len_of_word = []\n",
    "    words_count = 0\n",
    "    complicated_word_count = 0\n",
    "    imperatives = 0\n",
    "    personal_pronouns = 0\n",
    "    uniques = 0\n",
    "    for reply in sequence:\n",
    "        words = tokenizer(reply)\n",
    "        uniques += len(set(words))\n",
    "        words_count += len(words)\n",
    "        complicated_word_count += len([word for word in words if word not in top10k])\n",
    "        mean_word_len += len(words)/len(sequence)\n",
    "        mean_len_of_word += [len(word) for word in words]\n",
    "        \n",
    "        for word in words:\n",
    "            p = morph.parse(word)[0].tag\n",
    "            if 'impr' in p:\n",
    "                imperatives += 1\n",
    "            elif 'NPRO' in p:\n",
    "                personal_pronouns += 1\n",
    "    \n",
    "    if words_count < 1:\n",
    "        mean_answers_len.append(0)\n",
    "        mean_answer_word_len.append(0)\n",
    "        mean_len_of_word.append(np.mean(0))\n",
    "        percentage_of_unique_words.append(0)\n",
    "        percent_of_complicated_words.append(0)\n",
    "        percent_of_personal_pronouns.append(0)       \n",
    "        percent_of_imperatives.append(0)\n",
    "        continue\n",
    "    \n",
    "    mean_answers_len.append(mean_len)\n",
    "    mean_answer_word_len.append(mean_word_len)\n",
    "    mean_len_of_word.append(np.mean(len_of_word))\n",
    "    percentage_of_unique_words.append(uniques/words_count)\n",
    "    percent_of_complicated_words.append(complicated_word_count/words_count)\n",
    "    percent_of_personal_pronouns.append(personal_pronouns/words_count)       \n",
    "    percent_of_imperatives.append(imperatives/words_count)\n",
    "        \n",
    "    "
   ]
  },
  {
   "cell_type": "code",
   "execution_count": 34,
   "metadata": {},
   "outputs": [],
   "source": [
    "mean_answers_len = np.array(mean_answers_len)\n",
    "mean_answer_word_len = np.array(mean_answer_word_len)\n",
    "mean_len_of_word = np.array(mean_len_of_word)\n",
    "percentage_of_unique_words = np.array(percentage_of_unique_words)\n",
    "percent_of_complicated_words = np.array(percent_of_complicated_words)\n",
    "percent_of_personal_pronouns = np.array(percent_of_personal_pronouns)\n",
    "percent_of_imperatives = np.array(percent_of_imperatives)"
   ]
  },
  {
   "cell_type": "code",
   "execution_count": 35,
   "metadata": {},
   "outputs": [
    {
     "data": {
      "text/plain": [
       "1000"
      ]
     },
     "execution_count": 35,
     "metadata": {},
     "output_type": "execute_result"
    }
   ],
   "source": [
    "len(mean_answers_len)"
   ]
  },
  {
   "cell_type": "code",
   "execution_count": 36,
   "metadata": {},
   "outputs": [],
   "source": [
    "# оставим только примеры с ненулевым коэффициентом\n",
    "good = [i for i,x in enumerate(slopes) if x!=0]"
   ]
  },
  {
   "cell_type": "code",
   "execution_count": 37,
   "metadata": {},
   "outputs": [],
   "source": [
    "slopes = np.array(slopes)"
   ]
  },
  {
   "cell_type": "code",
   "execution_count": 38,
   "metadata": {},
   "outputs": [
    {
     "name": "stdout",
     "output_type": "stream",
     "text": [
      "Корреляция со средней длинной ответа в символах\n",
      " SpearmanrResult(correlation=0.132932009901971, pvalue=0.008079819301497168)\n",
      "Корреляция со средней длинной ответ в сдовах\n",
      " SpearmanrResult(correlation=0.14311989402000183, pvalue=0.004320628081334912)\n",
      "Корреляция со средней длинной слова в ответе\n",
      " SpearmanrResult(correlation=nan, pvalue=nan)\n",
      "Корреляция с процентом \"сложных\" слов\n",
      " SpearmanrResult(correlation=0.015284636485162971, pvalue=0.7617247687678227)\n",
      "Корреляция с процентом местоимений\n",
      " SpearmanrResult(correlation=0.008352780210654021, pvalue=0.8683964493223814)\n",
      "Корреляция с процентом глаголов в императиве\n",
      " SpearmanrResult(correlation=0.15968161852650253, pvalue=0.0014323124214321381)\n"
     ]
    }
   ],
   "source": [
    "print('Корреляция со средней длинной ответа в символах\\n', spearmanr(mean_answers_len[good], slopes[good]))\n",
    "print('Корреляция со средней длинной ответ в сдовах\\n', spearmanr(mean_answer_word_len[good], slopes[good]))\n",
    "print('Корреляция со средней длинной слова в ответе\\n', spearmanr(mean_len_of_word[good], slopes[good]))\n",
    "print('Корреляция с процентом \"сложных\" слов\\n', spearmanr(percent_of_complicated_words[good], slopes[good]))\n",
    "print('Корреляция с процентом местоимений\\n', spearmanr(percent_of_personal_pronouns[good], slopes[good]))\n",
    "print('Корреляция с процентом глаголов в императиве\\n', spearmanr(percent_of_imperatives[good], slopes[good]))"
   ]
  },
  {
   "cell_type": "markdown",
   "metadata": {},
   "source": [
    "#### Возможно, это означает, что длинна ответов и процент глаголов в повелительном наклонении сказывается на удовлетворенности."
   ]
  }
 ],
 "metadata": {
  "kernelspec": {
   "display_name": "Python 3",
   "language": "python",
   "name": "python3"
  },
  "language_info": {
   "codemirror_mode": {
    "name": "ipython",
    "version": 3
   },
   "file_extension": ".py",
   "mimetype": "text/x-python",
   "name": "python",
   "nbconvert_exporter": "python",
   "pygments_lexer": "ipython3",
   "version": "3.5.2"
  }
 },
 "nbformat": 4,
 "nbformat_minor": 2
}
