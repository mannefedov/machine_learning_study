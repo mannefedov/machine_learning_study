{
 "cells": [
  {
   "cell_type": "code",
   "execution_count": 1,
   "metadata": {
    "scrolled": true
   },
   "outputs": [
    {
     "name": "stdout",
     "output_type": "stream",
     "text": [
      "Collecting pandas\n",
      "  Downloading pandas-1.4.1-cp38-cp38-manylinux_2_17_x86_64.manylinux2014_x86_64.whl (11.7 MB)\n",
      "\u001b[K     |████████████████████████████████| 11.7 MB 1.7 MB/s eta 0:00:01\n",
      "\u001b[?25hCollecting sklearn\n",
      "  Downloading sklearn-0.0.tar.gz (1.1 kB)\n",
      "Collecting dask\n",
      "  Downloading dask-2022.2.0-py3-none-any.whl (1.1 MB)\n",
      "\u001b[K     |████████████████████████████████| 1.1 MB 86.5 MB/s eta 0:00:01\n",
      "\u001b[?25hRequirement already satisfied: python-dateutil>=2.8.1 in /usr/local/lib/python3.8/dist-packages (from pandas) (2.8.2)\n",
      "Requirement already satisfied: numpy>=1.18.5; platform_machine != \"aarch64\" and platform_machine != \"arm64\" and python_version < \"3.10\" in /usr/local/lib/python3.8/dist-packages (from pandas) (1.22.1)\n",
      "Requirement already satisfied: pytz>=2020.1 in /usr/local/lib/python3.8/dist-packages (from pandas) (2021.3)\n",
      "Collecting scikit-learn\n",
      "  Downloading scikit_learn-1.0.2-cp38-cp38-manylinux_2_17_x86_64.manylinux2014_x86_64.whl (26.7 MB)\n",
      "\u001b[K     |████████████████████████████████| 26.7 MB 110.2 MB/s eta 0:00:01\n",
      "\u001b[?25hRequirement already satisfied: packaging>=20.0 in /usr/local/lib/python3.8/dist-packages (from dask) (21.3)\n",
      "Collecting pyyaml>=5.3.1\n",
      "  Downloading PyYAML-6.0-cp38-cp38-manylinux_2_5_x86_64.manylinux1_x86_64.manylinux_2_12_x86_64.manylinux2010_x86_64.whl (701 kB)\n",
      "\u001b[K     |████████████████████████████████| 701 kB 40.6 MB/s eta 0:00:01\n",
      "\u001b[?25hCollecting fsspec>=0.6.0\n",
      "  Downloading fsspec-2022.1.0-py3-none-any.whl (133 kB)\n",
      "\u001b[K     |████████████████████████████████| 133 kB 83.5 MB/s eta 0:00:01\n",
      "\u001b[?25hCollecting cloudpickle>=1.1.1\n",
      "  Downloading cloudpickle-2.0.0-py3-none-any.whl (25 kB)\n",
      "Collecting partd>=0.3.10\n",
      "  Downloading partd-1.2.0-py3-none-any.whl (19 kB)\n",
      "Collecting toolz>=0.8.2\n",
      "  Downloading toolz-0.11.2-py3-none-any.whl (55 kB)\n",
      "\u001b[K     |████████████████████████████████| 55 kB 3.1 MB/s  eta 0:00:01\n",
      "\u001b[?25hRequirement already satisfied: six>=1.5 in /usr/lib/python3/dist-packages (from python-dateutil>=2.8.1->pandas) (1.14.0)\n",
      "Collecting threadpoolctl>=2.0.0\n",
      "  Downloading threadpoolctl-3.1.0-py3-none-any.whl (14 kB)\n",
      "Collecting joblib>=0.11\n",
      "  Downloading joblib-1.1.0-py2.py3-none-any.whl (306 kB)\n",
      "\u001b[K     |████████████████████████████████| 306 kB 48.2 MB/s eta 0:00:01\n",
      "\u001b[?25hCollecting scipy>=1.1.0\n",
      "  Downloading scipy-1.8.0-cp38-cp38-manylinux_2_17_x86_64.manylinux2014_x86_64.whl (41.6 MB)\n",
      "\u001b[K     |████████████████████████████████| 41.6 MB 34.6 MB/s eta 0:00:01\n",
      "\u001b[?25hRequirement already satisfied: pyparsing!=3.0.5,>=2.0.2 in /usr/local/lib/python3.8/dist-packages (from packaging>=20.0->dask) (3.0.7)\n",
      "Collecting locket\n",
      "  Downloading locket-0.2.1-py2.py3-none-any.whl (4.1 kB)\n",
      "Building wheels for collected packages: sklearn\n",
      "  Building wheel for sklearn (setup.py) ... \u001b[?25ldone\n",
      "\u001b[?25h  Created wheel for sklearn: filename=sklearn-0.0-py2.py3-none-any.whl size=1308 sha256=6743bc6a202d8d63bbc0958236ae5b8bd488bb2bf09f3942f7ca1c603174eb27\n",
      "  Stored in directory: /root/.cache/pip/wheels/22/0b/40/fd3f795caaa1fb4c6cb738bc1f56100be1e57da95849bfc897\n",
      "Successfully built sklearn\n",
      "Installing collected packages: pandas, threadpoolctl, joblib, scipy, scikit-learn, sklearn, pyyaml, fsspec, cloudpickle, toolz, locket, partd, dask\n",
      "Successfully installed cloudpickle-2.0.0 dask-2022.2.0 fsspec-2022.1.0 joblib-1.1.0 locket-0.2.1 pandas-1.4.1 partd-1.2.0 pyyaml-6.0 scikit-learn-1.0.2 scipy-1.8.0 sklearn-0.0 threadpoolctl-3.1.0 toolz-0.11.2\n",
      "\u001b[33mWARNING: You are using pip version 20.2.4; however, version 22.0.3 is available.\n",
      "You should consider upgrading via the '/usr/bin/python3 -m pip install --upgrade pip' command.\u001b[0m\n"
     ]
    }
   ],
   "source": [
    "!pip install pandas sklearn dask"
   ]
  },
  {
   "cell_type": "code",
   "execution_count": 32,
   "metadata": {},
   "outputs": [
    {
     "name": "stdout",
     "output_type": "stream",
     "text": [
      "Archive:  transactions_train.csv.zip\n",
      "  inflating: transactions_train.csv  \n"
     ]
    }
   ],
   "source": [
    "!unzip transactions_train.csv.zip"
   ]
  },
  {
   "cell_type": "code",
   "execution_count": 33,
   "metadata": {},
   "outputs": [
    {
     "name": "stdout",
     "output_type": "stream",
     "text": [
      "Archive:  articles.csv.zip\n",
      "  inflating: articles.csv            \n"
     ]
    }
   ],
   "source": [
    "!unzip articles.csv.zip"
   ]
  },
  {
   "cell_type": "code",
   "execution_count": 34,
   "metadata": {},
   "outputs": [
    {
     "name": "stdout",
     "output_type": "stream",
     "text": [
      "Archive:  sample_submission.csv.zip\n",
      "  inflating: sample_submission.csv   \n"
     ]
    }
   ],
   "source": [
    "!unzip sample_submission.csv.zip"
   ]
  },
  {
   "cell_type": "code",
   "execution_count": 35,
   "metadata": {},
   "outputs": [
    {
     "name": "stdout",
     "output_type": "stream",
     "text": [
      "Archive:  customers.csv.zip\n",
      "  inflating: customers.csv           \n"
     ]
    }
   ],
   "source": [
    "!unzip customers.csv.zip"
   ]
  },
  {
   "cell_type": "code",
   "execution_count": 21,
   "metadata": {
    "execution": {
     "iopub.execute_input": "2022-02-13T07:30:21.502390Z",
     "iopub.status.busy": "2022-02-13T07:30:21.499828Z",
     "iopub.status.idle": "2022-02-13T07:30:24.372815Z",
     "shell.execute_reply": "2022-02-13T07:30:24.372079Z",
     "shell.execute_reply.started": "2022-02-13T07:30:21.502304Z"
    }
   },
   "outputs": [],
   "source": [
    "import numpy as np\n",
    "import pandas as pd\n",
    "from sklearn.cluster import MiniBatchKMeans\n",
    "from sklearn.feature_extraction.text import CountVectorizer\n",
    "from sklearn.decomposition import TruncatedSVD\n",
    "import dask.dataframe as dd\n",
    "from sklearn.model_selection import train_test_split\n",
    "from collections import Counter"
   ]
  },
  {
   "cell_type": "code",
   "execution_count": 22,
   "metadata": {
    "execution": {
     "iopub.execute_input": "2022-02-13T07:30:24.376849Z",
     "iopub.status.busy": "2022-02-13T07:30:24.376319Z",
     "iopub.status.idle": "2022-02-13T07:30:28.077881Z",
     "shell.execute_reply": "2022-02-13T07:30:28.077164Z",
     "shell.execute_reply.started": "2022-02-13T07:30:24.376813Z"
    }
   },
   "outputs": [],
   "source": [
    "import tensorflow as tf"
   ]
  },
  {
   "cell_type": "code",
   "execution_count": 23,
   "metadata": {
    "execution": {
     "iopub.execute_input": "2022-02-13T07:30:28.081285Z",
     "iopub.status.busy": "2022-02-13T07:30:28.081081Z",
     "iopub.status.idle": "2022-02-13T07:30:28.087741Z",
     "shell.execute_reply": "2022-02-13T07:30:28.086930Z",
     "shell.execute_reply.started": "2022-02-13T07:30:28.081261Z"
    }
   },
   "outputs": [],
   "source": [
    "def apk(actual, predicted, k=10):\n",
    "    if len(predicted)>k:\n",
    "        predicted = predicted[:k]\n",
    "\n",
    "    score = 0.0\n",
    "    num_hits = 0.0\n",
    "\n",
    "    for i,p in enumerate(predicted):\n",
    "        if p in actual and p not in predicted[:i]:\n",
    "            num_hits += 1.0\n",
    "            score += num_hits / (i+1.0)\n",
    "\n",
    "    if not actual:\n",
    "        return 0.0\n",
    "\n",
    "    return score / min(len(actual), k)\n",
    "\n",
    "def mapk(actual, predicted, k=10):\n",
    "    return np.mean([apk(a,p,k) for a,p in zip(actual, predicted)])"
   ]
  },
  {
   "cell_type": "code",
   "execution_count": 24,
   "metadata": {},
   "outputs": [
    {
     "name": "stdout",
     "output_type": "stream",
     "text": [
      "articles.csv\t   negative_sampling_pipeline.ipynb  sample_submission.csv\r\n",
      "articles.csv.zip   nn-pipeline.ipynb\t\t     sample_submission.csv.zip\r\n",
      "customers.csv\t   onstart.log\t\t\t     transactions_train.csv\r\n",
      "customers.csv.zip  onstart.sh\t\t\t     transactions_train.csv.zip\r\n"
     ]
    }
   ],
   "source": [
    "!ls"
   ]
  },
  {
   "cell_type": "code",
   "execution_count": 49,
   "metadata": {
    "execution": {
     "iopub.execute_input": "2022-02-13T07:30:28.090436Z",
     "iopub.status.busy": "2022-02-13T07:30:28.089695Z",
     "iopub.status.idle": "2022-02-13T07:30:28.134749Z",
     "shell.execute_reply": "2022-02-13T07:30:28.134135Z",
     "shell.execute_reply.started": "2022-02-13T07:30:28.090399Z"
    }
   },
   "outputs": [],
   "source": [
    "transactions = dd.read_csv(\n",
    "    'transactions_train.csv',\n",
    "    # set dtype or pandas will drop the leading '0' and convert to int\n",
    "    dtype={'article_id': str,\n",
    "#           't_dat': str,\n",
    "#            'customer_id':str, \n",
    "#           'price':float,\n",
    "#           'sales_channel_id': 'object'\n",
    "          } \n",
    ")"
   ]
  },
  {
   "cell_type": "code",
   "execution_count": 139,
   "metadata": {
    "execution": {
     "iopub.execute_input": "2022-02-13T07:30:28.137906Z",
     "iopub.status.busy": "2022-02-13T07:30:28.137724Z",
     "iopub.status.idle": "2022-02-13T07:30:28.180036Z",
     "shell.execute_reply": "2022-02-13T07:30:28.179383Z",
     "shell.execute_reply.started": "2022-02-13T07:30:28.137882Z"
    }
   },
   "outputs": [],
   "source": [
    "customers = dd.read_csv('customers.csv', dtype={'customer_id':str, \n",
    "#                                                                                                       'FN':int, \n",
    "#                                                                                                         'Active':int, \n",
    "#                                                                                                       'club_member_status':int,\n",
    "#                                                                                                         'fashion_news_frequency':str, \n",
    "#                                                                                                       'age':float, \n",
    "#                                                                                                         'postal_code':str\n",
    "                                                                                                     })\n",
    "articles = dd.read_csv('articles.csv', dtype={'article_id':str, \n",
    "#                                                                                                     'product_code':int, 'prod_name':str, \n",
    "#                                                                                                       'product_type_no':'object',\n",
    "#                                                                        'product_type_name':str, 'product_group_name':'object', 'graphical_appearance_no':'object',\n",
    "#                                                                        'graphical_appearance_name':str, 'colour_group_code':'object', 'colour_group_name':str,\n",
    "#                                                                        'perceived_colour_value_id':str, 'perceived_colour_value_name':str,\n",
    "#                                                                        'perceived_colour_master_id':str, 'perceived_colour_master_name':str,\n",
    "#                                                                        'department_no':int, 'department_name':str, 'index_code':str, 'index_name':str,\n",
    "#                                                                        'index_group_no':'object', 'index_group_name':str, 'section_no':int, 'section_name':str,\n",
    "#                                                                        'garment_group_no':'object', 'garment_group_name':str, 'detail_desc':str\n",
    "                                                                                                   })"
   ]
  },
  {
   "cell_type": "code",
   "execution_count": 51,
   "metadata": {
    "execution": {
     "iopub.execute_input": "2022-02-13T07:30:28.181432Z",
     "iopub.status.busy": "2022-02-13T07:30:28.181211Z",
     "iopub.status.idle": "2022-02-13T07:30:32.407764Z",
     "shell.execute_reply": "2022-02-13T07:30:32.407018Z",
     "shell.execute_reply.started": "2022-02-13T07:30:28.181399Z"
    }
   },
   "outputs": [],
   "source": [
    "customers = customers[['customer_id', 'age', 'postal_code']].compute()"
   ]
  },
  {
   "cell_type": "code",
   "execution_count": 52,
   "metadata": {
    "execution": {
     "iopub.execute_input": "2022-02-13T07:30:38.031409Z",
     "iopub.status.busy": "2022-02-13T07:30:38.031159Z",
     "iopub.status.idle": "2022-02-13T07:30:38.041010Z",
     "shell.execute_reply": "2022-02-13T07:30:38.040296Z",
     "shell.execute_reply.started": "2022-02-13T07:30:38.031376Z"
    }
   },
   "outputs": [],
   "source": [
    "transactions_train = transactions[(transactions['t_dat'] < '2020-09-15') & (transactions['t_dat'] > '2019-09-15')]\n",
    "transactions_test = transactions[transactions['t_dat'] > '2020-09-15']"
   ]
  },
  {
   "cell_type": "code",
   "execution_count": 53,
   "metadata": {
    "execution": {
     "iopub.execute_input": "2022-02-13T07:30:38.044115Z",
     "iopub.status.busy": "2022-02-13T07:30:38.043359Z",
     "iopub.status.idle": "2022-02-13T07:30:38.079743Z",
     "shell.execute_reply": "2022-02-13T07:30:38.079054Z",
     "shell.execute_reply.started": "2022-02-13T07:30:38.044074Z"
    }
   },
   "outputs": [],
   "source": [
    "transactions_train_arts = dd.merge(transactions_train, articles[['article_id','prod_name']], \n",
    "                                   on='article_id', how='left')\n",
    "transactions_test_arts = dd.merge(transactions_test, articles[['article_id','prod_name']],\n",
    "                                  on='article_id', how='left')"
   ]
  },
  {
   "cell_type": "code",
   "execution_count": 54,
   "metadata": {
    "execution": {
     "iopub.execute_input": "2022-02-13T07:30:38.081815Z",
     "iopub.status.busy": "2022-02-13T07:30:38.081383Z",
     "iopub.status.idle": "2022-02-13T07:33:11.603448Z",
     "shell.execute_reply": "2022-02-13T07:33:11.602688Z",
     "shell.execute_reply.started": "2022-02-13T07:30:38.081775Z"
    }
   },
   "outputs": [],
   "source": [
    "transactions_train_arts = transactions_train_arts.compute()\n",
    "transactions_test_arts = transactions_test_arts.compute()"
   ]
  },
  {
   "cell_type": "code",
   "execution_count": 55,
   "metadata": {},
   "outputs": [
    {
     "data": {
      "text/plain": [
       "0                            Anika\n",
       "1        Perrie Trash HW Denim TRS\n",
       "2                      Katie Skirt\n",
       "3                      Katie Skirt\n",
       "4         James basic hip belt (1)\n",
       "                   ...            \n",
       "42210     Coachella padded softbra\n",
       "42211            Madison skinny HW\n",
       "42212         Mimosa SP Andes opt1\n",
       "42213          Liza 3p thong micro\n",
       "42214             Mercedez sweater\n",
       "Name: prod_name, Length: 14864337, dtype: object"
      ]
     },
     "execution_count": 55,
     "metadata": {},
     "output_type": "execute_result"
    }
   ],
   "source": [
    "transactions_train_arts['prod_name']"
   ]
  },
  {
   "cell_type": "code",
   "execution_count": 25,
   "metadata": {},
   "outputs": [],
   "source": []
  },
  {
   "cell_type": "code",
   "execution_count": 56,
   "metadata": {},
   "outputs": [],
   "source": [
    "customers_c = Counter(transactions_train_arts.customer_id.values)\n",
    "customers_top = list(set(c for c in customers_c if customers_c[c] > 5))\n",
    "label2id_customers = {v:i for i,v in enumerate(customers_top)}\n",
    "\n",
    "articles_c = Counter(transactions_train_arts.prod_name.values)\n",
    "articles_top = list(set(c for c in articles_c if articles_c[c] > 5))\n",
    "label2id_articles = {v:i for i,v in enumerate(articles_top)}\n",
    "\n",
    "vocab_article_size = len(label2id_articles)\n",
    "vocab_customer_size = len(label2id_customers)"
   ]
  },
  {
   "cell_type": "code",
   "execution_count": 57,
   "metadata": {},
   "outputs": [
    {
     "data": {
      "text/plain": [
       "25483"
      ]
     },
     "execution_count": 57,
     "metadata": {},
     "output_type": "execute_result"
    }
   ],
   "source": [
    "vocab_article_size"
   ]
  },
  {
   "cell_type": "code",
   "execution_count": 58,
   "metadata": {},
   "outputs": [
    {
     "data": {
      "text/plain": [
       "590371"
      ]
     },
     "execution_count": 58,
     "metadata": {},
     "output_type": "execute_result"
    }
   ],
   "source": [
    "vocab_customer_size"
   ]
  },
  {
   "cell_type": "code",
   "execution_count": 57,
   "metadata": {},
   "outputs": [],
   "source": [
    "# transactions_test_arts[transactions_test_arts.customer_id.isin(customers_top)]"
   ]
  },
  {
   "cell_type": "code",
   "execution_count": 59,
   "metadata": {
    "execution": {
     "iopub.execute_input": "2022-02-13T12:12:39.899149Z",
     "iopub.status.busy": "2022-02-13T12:12:39.898869Z",
     "iopub.status.idle": "2022-02-13T12:12:39.916851Z",
     "shell.execute_reply": "2022-02-13T12:12:39.915969Z",
     "shell.execute_reply.started": "2022-02-13T12:12:39.899117Z"
    }
   },
   "outputs": [],
   "source": [
    "def preprocess_dataset(filename, df, label2id_customers, label2id_articles ):\n",
    "\n",
    "    f = open(filename, 'w')\n",
    "    df = df[df.customer_id.isin(label2id_customers) & df.prod_name.isin(label2id_articles)].sample(frac=1.)\n",
    "\n",
    "    for customer, artice in df[['customer_id', 'prod_name']].values:\n",
    "        f.write('\\t'.join([str(label2id_customers[customer]), \n",
    "                           str(label2id_articles[artice]), \n",
    "                           str(1)]) + '\\n')\n",
    "        f.write('\\t'.join([str(label2id_customers[customer]), \n",
    "                           str(np.random.randint(vocab_article_size)), \n",
    "                           str(0)]) + '\\n')\n",
    "        \n",
    "        \n",
    "\n",
    "    f.close()\n",
    "\n"
   ]
  },
  {
   "cell_type": "code",
   "execution_count": 64,
   "metadata": {},
   "outputs": [],
   "source": [
    "# transactions_train_arts[transactions_train_arts.customer_id.isin(label2id_customers) & \n",
    "#                         transactions_train_arts.article_id.isin(label2id_articles)].sample(frac=1.)"
   ]
  },
  {
   "cell_type": "code",
   "execution_count": 195,
   "metadata": {
    "execution": {
     "iopub.execute_input": "2022-02-13T13:41:12.143597Z",
     "iopub.status.busy": "2022-02-13T13:41:12.143322Z",
     "iopub.status.idle": "2022-02-13T13:51:54.123256Z",
     "shell.execute_reply": "2022-02-13T13:51:54.122515Z",
     "shell.execute_reply.started": "2022-02-13T13:41:12.143568Z"
    }
   },
   "outputs": [],
   "source": [
    "preprocess_dataset('train_dataset.csv', \n",
    "                   transactions_train_arts, label2id_customers, \n",
    "                   label2id_articles)\n"
   ]
  },
  {
   "cell_type": "code",
   "execution_count": 180,
   "metadata": {
    "execution": {
     "iopub.execute_input": "2022-02-13T09:57:14.991614Z",
     "iopub.status.busy": "2022-02-13T09:57:14.990859Z",
     "iopub.status.idle": "2022-02-13T09:57:25.304869Z",
     "shell.execute_reply": "2022-02-13T09:57:25.304117Z",
     "shell.execute_reply.started": "2022-02-13T09:57:14.991549Z"
    }
   },
   "outputs": [],
   "source": [
    "preprocess_dataset('test_dataset.csv', \n",
    "                   transactions_test_arts, label2id_customers, \n",
    "                   label2id_articles)\n"
   ]
  },
  {
   "cell_type": "code",
   "execution_count": 181,
   "metadata": {
    "execution": {
     "iopub.execute_input": "2022-02-13T15:03:52.562852Z",
     "iopub.status.busy": "2022-02-13T15:03:52.562528Z",
     "iopub.status.idle": "2022-02-13T15:03:52.576139Z",
     "shell.execute_reply": "2022-02-13T15:03:52.575277Z",
     "shell.execute_reply.started": "2022-02-13T15:03:52.562818Z"
    }
   },
   "outputs": [],
   "source": [
    "def generate(filename, infer=False):\n",
    "    for line in open(filename):\n",
    "        c, a, label = line.strip('\\n').split('\\t') \n",
    "        \n",
    "        \n",
    "        \n",
    "        if not infer:\n",
    "            yield ((tf.constant([int(c)], dtype=tf.int32), \n",
    "                    tf.constant([int(a)], dtype=tf.int32),\n",
    "                    ), \n",
    "                   \n",
    "                   tf.constant([int(label)], dtype=tf.int32))\n",
    "        else:\n",
    "            yield ((tf.constant([int(c)], dtype=tf.int32), \n",
    "                    tf.constant([int(a)], dtype=tf.int32),\n",
    "                    ))"
   ]
  },
  {
   "cell_type": "code",
   "execution_count": 182,
   "metadata": {
    "execution": {
     "iopub.execute_input": "2022-02-13T07:38:11.181918Z",
     "iopub.status.busy": "2022-02-13T07:38:11.181390Z",
     "iopub.status.idle": "2022-02-13T07:38:11.191434Z",
     "shell.execute_reply": "2022-02-13T07:38:11.190579Z",
     "shell.execute_reply.started": "2022-02-13T07:38:11.181875Z"
    }
   },
   "outputs": [],
   "source": [
    "# a = open('infer_df_valid_dataset.csv')"
   ]
  },
  {
   "cell_type": "code",
   "execution_count": null,
   "metadata": {},
   "outputs": [],
   "source": []
  },
  {
   "cell_type": "code",
   "execution_count": 196,
   "metadata": {
    "execution": {
     "iopub.execute_input": "2022-02-13T15:04:12.545141Z",
     "iopub.status.busy": "2022-02-13T15:04:12.544633Z",
     "iopub.status.idle": "2022-02-13T15:04:12.612786Z",
     "shell.execute_reply": "2022-02-13T15:04:12.612082Z",
     "shell.execute_reply.started": "2022-02-13T15:04:12.545105Z"
    }
   },
   "outputs": [],
   "source": [
    "dataset = tf.data.Dataset.from_generator(generate, \n",
    "                                         output_signature=((tf.TensorSpec(shape=(1,), dtype=tf.int32),\n",
    "                                                            tf.TensorSpec(shape=(1,), dtype=tf.int32)),\n",
    "                                                            tf.TensorSpec(shape=(1,), dtype=tf.int32)\n",
    "                                                           ),\n",
    "                                         args=['train_dataset.csv']).batch(500).prefetch(5)\n",
    "\n",
    "dataset_test = tf.data.Dataset.from_generator(generate, \n",
    "                                         output_signature=((tf.TensorSpec(shape=(1,), dtype=tf.int32),\n",
    "                                                            tf.TensorSpec(shape=(1,), dtype=tf.int32)),\n",
    "                                                            tf.TensorSpec(shape=(1,), dtype=tf.int32)\n",
    "                                                           ),\n",
    "                                         args=['test_dataset.csv']).batch(500)\n",
    "\n",
    "\n",
    "# dataset_submission = tf.data.Dataset.from_generator(generate, \n",
    "#                                          output_signature=(tf.TensorSpec(shape=(1,), dtype=tf.float64),\n",
    "#                                                             tf.TensorSpec(shape=(1,), dtype=tf.int32),\n",
    "#                                                             tf.TensorSpec(shape=(1,), dtype=tf.string)),\n",
    "#                                          args=['submission_dataset.csv', True]).batch(300)"
   ]
  },
  {
   "cell_type": "code",
   "execution_count": 65,
   "metadata": {
    "execution": {
     "iopub.execute_input": "2022-02-13T15:03:56.986673Z",
     "iopub.status.busy": "2022-02-13T15:03:56.985976Z",
     "iopub.status.idle": "2022-02-13T15:03:56.990167Z",
     "shell.execute_reply": "2022-02-13T15:03:56.989312Z",
     "shell.execute_reply.started": "2022-02-13T15:03:56.986639Z"
    }
   },
   "outputs": [],
   "source": [
    "g = generate('train_dataset.csv')"
   ]
  },
  {
   "cell_type": "code",
   "execution_count": 66,
   "metadata": {
    "execution": {
     "iopub.execute_input": "2022-02-13T15:04:08.754974Z",
     "iopub.status.busy": "2022-02-13T15:04:08.754585Z",
     "iopub.status.idle": "2022-02-13T15:04:08.770057Z",
     "shell.execute_reply": "2022-02-13T15:04:08.769433Z",
     "shell.execute_reply.started": "2022-02-13T15:04:08.754939Z"
    }
   },
   "outputs": [
    {
     "data": {
      "text/plain": [
       "((<tf.Tensor: shape=(1,), dtype=int32, numpy=array([457301], dtype=int32)>,\n",
       "  <tf.Tensor: shape=(1,), dtype=int32, numpy=array([16604], dtype=int32)>),\n",
       " <tf.Tensor: shape=(1,), dtype=int32, numpy=array([1], dtype=int32)>)"
      ]
     },
     "execution_count": 66,
     "metadata": {},
     "output_type": "execute_result"
    }
   ],
   "source": [
    "next(g)"
   ]
  },
  {
   "cell_type": "code",
   "execution_count": 47,
   "metadata": {
    "execution": {
     "iopub.execute_input": "2022-02-13T07:41:50.821444Z",
     "iopub.status.busy": "2022-02-13T07:41:50.821207Z",
     "iopub.status.idle": "2022-02-13T07:41:50.953626Z",
     "shell.execute_reply": "2022-02-13T07:41:50.952874Z",
     "shell.execute_reply.started": "2022-02-13T07:41:50.821411Z"
    }
   },
   "outputs": [],
   "source": [
    "# import tensorflow_addons as tfa"
   ]
  },
  {
   "cell_type": "code",
   "execution_count": null,
   "metadata": {},
   "outputs": [],
   "source": []
  },
  {
   "cell_type": "code",
   "execution_count": null,
   "metadata": {},
   "outputs": [],
   "source": []
  },
  {
   "cell_type": "code",
   "execution_count": 246,
   "metadata": {
    "execution": {
     "iopub.execute_input": "2022-02-13T15:11:47.533009Z",
     "iopub.status.busy": "2022-02-13T15:11:47.532729Z",
     "iopub.status.idle": "2022-02-13T15:11:47.644639Z",
     "shell.execute_reply": "2022-02-13T15:11:47.643806Z",
     "shell.execute_reply.started": "2022-02-13T15:11:47.532983Z"
    }
   },
   "outputs": [],
   "source": [
    "inputs_customer = tf.keras.layers.Input(shape=(1,))\n",
    "inputs_article = tf.keras.layers.Input(shape=(1,))\n",
    "\n",
    "\n",
    "embeddings_customer = tf.keras.layers.Embedding(input_dim=vocab_customer_size, output_dim=300)(inputs_customer, )\n",
    "embeddings_article = tf.keras.layers.Embedding(input_dim=vocab_article_size, output_dim=300)(inputs_article, )\n",
    "\n",
    "customer = tf.keras.layers.Flatten()(embeddings_customer)\n",
    "article = tf.keras.layers.Flatten()(embeddings_article)\n",
    "\n",
    "# customer = tf.keras.layers.Lambda(\n",
    "#       lambda x: tf.nn.l2_normalize(x, axis=1))(customer)\n",
    "# article = tf.keras.layers.Lambda(\n",
    "#       lambda x: tf.nn.l2_normalize(x, axis=1))(article)\n",
    "\n",
    "# dot = tf.keras.layers.Dot(1)([customer, article])\n",
    "\n",
    "concat = tf.keras.layers.concatenate([customer, article], axis=-1)\n",
    "dense = tf.keras.layers.Dense(256, activation='relu')(concat)\n",
    "dense_1 = tf.keras.layers.Dense(256, activation='relu')(dense)\n",
    "\n",
    "# concat_dot = tf.keras.layers.concatenate([dense_1, con], axis=-1)\n",
    "outputs = tf.keras.layers.Dense(1, activation='sigmoid')(dense_1)\n",
    "# outputs = tf.keras.layers.Activation(activation='sigmoid')(concat_dot)\n",
    "\n",
    "model = tf.keras.Model(inputs=[inputs_customer, inputs_article], \n",
    "                       outputs=outputs)\n",
    "optimizer = tf.keras.optimizers.Adam(learning_rate=0.0001)\n",
    "model.compile(optimizer=optimizer,\n",
    "              loss='binary_crossentropy',\n",
    "              metrics=['accuracy'])"
   ]
  },
  {
   "cell_type": "code",
   "execution_count": 247,
   "metadata": {
    "execution": {
     "iopub.execute_input": "2022-02-13T15:11:48.139894Z",
     "iopub.status.busy": "2022-02-13T15:11:48.139203Z",
     "iopub.status.idle": "2022-02-13T15:11:48.155388Z",
     "shell.execute_reply": "2022-02-13T15:11:48.154571Z",
     "shell.execute_reply.started": "2022-02-13T15:11:48.139856Z"
    },
    "scrolled": true
   },
   "outputs": [
    {
     "name": "stdout",
     "output_type": "stream",
     "text": [
      "Model: \"model_11\"\n",
      "__________________________________________________________________________________________________\n",
      " Layer (type)                   Output Shape         Param #     Connected to                     \n",
      "==================================================================================================\n",
      " input_23 (InputLayer)          [(None, 1)]          0           []                               \n",
      "                                                                                                  \n",
      " input_24 (InputLayer)          [(None, 1)]          0           []                               \n",
      "                                                                                                  \n",
      " embedding_22 (Embedding)       (None, 1, 300)       177111300   ['input_23[0][0]']               \n",
      "                                                                                                  \n",
      " embedding_23 (Embedding)       (None, 1, 300)       7644900     ['input_24[0][0]']               \n",
      "                                                                                                  \n",
      " flatten_22 (Flatten)           (None, 300)          0           ['embedding_22[0][0]']           \n",
      "                                                                                                  \n",
      " flatten_23 (Flatten)           (None, 300)          0           ['embedding_23[0][0]']           \n",
      "                                                                                                  \n",
      " concatenate_11 (Concatenate)   (None, 600)          0           ['flatten_22[0][0]',             \n",
      "                                                                  'flatten_23[0][0]']             \n",
      "                                                                                                  \n",
      " dense_11 (Dense)               (None, 256)          153856      ['concatenate_11[0][0]']         \n",
      "                                                                                                  \n",
      " dense_12 (Dense)               (None, 256)          65792       ['dense_11[0][0]']               \n",
      "                                                                                                  \n",
      " dense_13 (Dense)               (None, 1)            257         ['dense_12[0][0]']               \n",
      "                                                                                                  \n",
      "==================================================================================================\n",
      "Total params: 184,976,105\n",
      "Trainable params: 184,976,105\n",
      "Non-trainable params: 0\n",
      "__________________________________________________________________________________________________\n",
      "None\n"
     ]
    }
   ],
   "source": [
    "print(model.summary())"
   ]
  },
  {
   "cell_type": "code",
   "execution_count": 248,
   "metadata": {
    "execution": {
     "iopub.execute_input": "2022-02-13T15:11:48.681123Z",
     "iopub.status.busy": "2022-02-13T15:11:48.680838Z"
    }
   },
   "outputs": [
    {
     "name": "stdout",
     "output_type": "stream",
     "text": [
      "Epoch 1/30\n",
      "1000/1000 [==============================] - 130s 130ms/step - loss: 0.4951 - accuracy: 0.7603 - val_loss: 0.5351 - val_accuracy: 0.7459\n",
      "Epoch 2/30\n",
      "1000/1000 [==============================] - 126s 126ms/step - loss: 0.4173 - accuracy: 0.8128 - val_loss: 0.5268 - val_accuracy: 0.7537\n",
      "Epoch 3/30\n",
      "1000/1000 [==============================] - 129s 129ms/step - loss: 0.4102 - accuracy: 0.8148 - val_loss: 0.5332 - val_accuracy: 0.7493\n",
      "Epoch 4/30\n",
      "1000/1000 [==============================] - 128s 128ms/step - loss: 0.4100 - accuracy: 0.8141 - val_loss: 0.5325 - val_accuracy: 0.7543\n",
      "Epoch 5/30\n",
      "1000/1000 [==============================] - 127s 127ms/step - loss: 0.4064 - accuracy: 0.8155 - val_loss: 0.5348 - val_accuracy: 0.7490\n",
      "Epoch 6/30\n",
      "1000/1000 [==============================] - 128s 128ms/step - loss: 0.4056 - accuracy: 0.8163 - val_loss: 0.5291 - val_accuracy: 0.7525\n",
      "Epoch 7/30\n",
      "1000/1000 [==============================] - 128s 128ms/step - loss: 0.4026 - accuracy: 0.8177 - val_loss: 0.5296 - val_accuracy: 0.7507\n",
      "Epoch 8/30\n",
      "1000/1000 [==============================] - 126s 126ms/step - loss: 0.4040 - accuracy: 0.8171 - val_loss: 0.5292 - val_accuracy: 0.7545\n",
      "Epoch 9/30\n",
      "1000/1000 [==============================] - 126s 126ms/step - loss: 0.4030 - accuracy: 0.8171 - val_loss: 0.5298 - val_accuracy: 0.7533\n",
      "Epoch 10/30\n",
      "1000/1000 [==============================] - 126s 126ms/step - loss: 0.4009 - accuracy: 0.8183 - val_loss: 0.5314 - val_accuracy: 0.7514\n",
      "Epoch 11/30\n",
      "1000/1000 [==============================] - 125s 125ms/step - loss: 0.4015 - accuracy: 0.8176 - val_loss: 0.5310 - val_accuracy: 0.7531\n",
      "Epoch 12/30\n",
      "1000/1000 [==============================] - 126s 127ms/step - loss: 0.3991 - accuracy: 0.8189 - val_loss: 0.5248 - val_accuracy: 0.7542\n",
      "Epoch 13/30\n",
      "1000/1000 [==============================] - 131s 131ms/step - loss: 0.3989 - accuracy: 0.8192 - val_loss: 0.5229 - val_accuracy: 0.7551\n",
      "Epoch 14/30\n",
      "1000/1000 [==============================] - 128s 128ms/step - loss: 0.3994 - accuracy: 0.8189 - val_loss: 0.5258 - val_accuracy: 0.7546\n",
      "Epoch 15/30\n",
      "1000/1000 [==============================] - 126s 126ms/step - loss: 0.3992 - accuracy: 0.8187 - val_loss: 0.5272 - val_accuracy: 0.7559\n",
      "Epoch 16/30\n",
      "1000/1000 [==============================] - 118s 118ms/step - loss: 0.3986 - accuracy: 0.8189 - val_loss: 0.5292 - val_accuracy: 0.7564\n",
      "Epoch 17/30\n",
      "1000/1000 [==============================] - 118s 118ms/step - loss: 0.3971 - accuracy: 0.8204 - val_loss: 0.5331 - val_accuracy: 0.7546\n",
      "Epoch 18/30\n",
      "1000/1000 [==============================] - 118s 118ms/step - loss: 0.3964 - accuracy: 0.8196 - val_loss: 0.5293 - val_accuracy: 0.7539\n",
      "Epoch 19/30\n",
      "1000/1000 [==============================] - 119s 119ms/step - loss: 0.3959 - accuracy: 0.8203 - val_loss: 0.5332 - val_accuracy: 0.7557\n",
      "Epoch 20/30\n",
      "1000/1000 [==============================] - 117s 117ms/step - loss: 0.3949 - accuracy: 0.8207 - val_loss: 0.5308 - val_accuracy: 0.7552\n",
      "Epoch 21/30\n",
      "1000/1000 [==============================] - 117s 117ms/step - loss: 0.3956 - accuracy: 0.8202 - val_loss: 0.5305 - val_accuracy: 0.7558\n",
      "Epoch 22/30\n",
      "1000/1000 [==============================] - 118s 118ms/step - loss: 0.3929 - accuracy: 0.8222 - val_loss: 0.5212 - val_accuracy: 0.7586\n",
      "Epoch 23/30\n",
      "1000/1000 [==============================] - 118s 118ms/step - loss: 0.3935 - accuracy: 0.8214 - val_loss: 0.5269 - val_accuracy: 0.7580\n",
      "Epoch 24/30\n",
      "1000/1000 [==============================] - 118s 118ms/step - loss: 0.3920 - accuracy: 0.8227 - val_loss: 0.5244 - val_accuracy: 0.7581\n",
      "Epoch 25/30\n",
      "1000/1000 [==============================] - 120s 120ms/step - loss: 0.3925 - accuracy: 0.8222 - val_loss: 0.5262 - val_accuracy: 0.7573\n",
      "Epoch 26/30\n",
      " 192/1000 [====>.........................] - ETA: 1:20 - loss: 0.3904 - accuracy: 0.8245"
     ]
    },
    {
     "ename": "KeyboardInterrupt",
     "evalue": "",
     "output_type": "error",
     "traceback": [
      "\u001b[0;31m---------------------------------------------------------------------------\u001b[0m",
      "\u001b[0;31mKeyboardInterrupt\u001b[0m                         Traceback (most recent call last)",
      "Input \u001b[0;32mIn [248]\u001b[0m, in \u001b[0;36m<module>\u001b[0;34m\u001b[0m\n\u001b[0;32m----> 1\u001b[0m \u001b[43mmodel\u001b[49m\u001b[38;5;241;43m.\u001b[39;49m\u001b[43mfit\u001b[49m\u001b[43m(\u001b[49m\u001b[43mdataset\u001b[49m\u001b[43m,\u001b[49m\u001b[43m \u001b[49m\u001b[43mvalidation_data\u001b[49m\u001b[38;5;241;43m=\u001b[39;49m\u001b[43mdataset_test\u001b[49m\u001b[43m,\u001b[49m\u001b[43m \u001b[49m\u001b[43msteps_per_epoch\u001b[49m\u001b[38;5;241;43m=\u001b[39;49m\u001b[38;5;241;43m1000\u001b[39;49m\u001b[43m,\u001b[49m\u001b[43m \u001b[49m\u001b[43mvalidation_steps\u001b[49m\u001b[38;5;241;43m=\u001b[39;49m\u001b[38;5;241;43m100\u001b[39;49m\u001b[43m,\u001b[49m\n\u001b[1;32m      2\u001b[0m \u001b[43m          \u001b[49m\u001b[43mepochs\u001b[49m\u001b[38;5;241;43m=\u001b[39;49m\u001b[38;5;241;43m30\u001b[39;49m\u001b[43m,\u001b[49m\u001b[43m \u001b[49m\u001b[43mverbose\u001b[49m\u001b[38;5;241;43m=\u001b[39;49m\u001b[38;5;241;43m1\u001b[39;49m\u001b[43m)\u001b[49m\n",
      "File \u001b[0;32m/usr/local/lib/python3.8/dist-packages/keras/utils/traceback_utils.py:64\u001b[0m, in \u001b[0;36mfilter_traceback.<locals>.error_handler\u001b[0;34m(*args, **kwargs)\u001b[0m\n\u001b[1;32m     62\u001b[0m filtered_tb \u001b[38;5;241m=\u001b[39m \u001b[38;5;28;01mNone\u001b[39;00m\n\u001b[1;32m     63\u001b[0m \u001b[38;5;28;01mtry\u001b[39;00m:\n\u001b[0;32m---> 64\u001b[0m   \u001b[38;5;28;01mreturn\u001b[39;00m \u001b[43mfn\u001b[49m\u001b[43m(\u001b[49m\u001b[38;5;241;43m*\u001b[39;49m\u001b[43margs\u001b[49m\u001b[43m,\u001b[49m\u001b[43m \u001b[49m\u001b[38;5;241;43m*\u001b[39;49m\u001b[38;5;241;43m*\u001b[39;49m\u001b[43mkwargs\u001b[49m\u001b[43m)\u001b[49m\n\u001b[1;32m     65\u001b[0m \u001b[38;5;28;01mexcept\u001b[39;00m \u001b[38;5;167;01mException\u001b[39;00m \u001b[38;5;28;01mas\u001b[39;00m e:  \u001b[38;5;66;03m# pylint: disable=broad-except\u001b[39;00m\n\u001b[1;32m     66\u001b[0m   filtered_tb \u001b[38;5;241m=\u001b[39m _process_traceback_frames(e\u001b[38;5;241m.\u001b[39m__traceback__)\n",
      "File \u001b[0;32m/usr/local/lib/python3.8/dist-packages/keras/engine/training.py:1389\u001b[0m, in \u001b[0;36mModel.fit\u001b[0;34m(self, x, y, batch_size, epochs, verbose, callbacks, validation_split, validation_data, shuffle, class_weight, sample_weight, initial_epoch, steps_per_epoch, validation_steps, validation_batch_size, validation_freq, max_queue_size, workers, use_multiprocessing)\u001b[0m\n\u001b[1;32m   1387\u001b[0m logs \u001b[38;5;241m=\u001b[39m tmp_logs  \u001b[38;5;66;03m# No error, now safe to assign to logs.\u001b[39;00m\n\u001b[1;32m   1388\u001b[0m end_step \u001b[38;5;241m=\u001b[39m step \u001b[38;5;241m+\u001b[39m data_handler\u001b[38;5;241m.\u001b[39mstep_increment\n\u001b[0;32m-> 1389\u001b[0m \u001b[43mcallbacks\u001b[49m\u001b[38;5;241;43m.\u001b[39;49m\u001b[43mon_train_batch_end\u001b[49m\u001b[43m(\u001b[49m\u001b[43mend_step\u001b[49m\u001b[43m,\u001b[49m\u001b[43m \u001b[49m\u001b[43mlogs\u001b[49m\u001b[43m)\u001b[49m\n\u001b[1;32m   1390\u001b[0m \u001b[38;5;28;01mif\u001b[39;00m \u001b[38;5;28mself\u001b[39m\u001b[38;5;241m.\u001b[39mstop_training:\n\u001b[1;32m   1391\u001b[0m   \u001b[38;5;28;01mbreak\u001b[39;00m\n",
      "File \u001b[0;32m/usr/local/lib/python3.8/dist-packages/keras/callbacks.py:438\u001b[0m, in \u001b[0;36mCallbackList.on_train_batch_end\u001b[0;34m(self, batch, logs)\u001b[0m\n\u001b[1;32m    431\u001b[0m \u001b[38;5;124;03m\"\"\"Calls the `on_train_batch_end` methods of its callbacks.\u001b[39;00m\n\u001b[1;32m    432\u001b[0m \n\u001b[1;32m    433\u001b[0m \u001b[38;5;124;03mArgs:\u001b[39;00m\n\u001b[1;32m    434\u001b[0m \u001b[38;5;124;03m    batch: Integer, index of batch within the current epoch.\u001b[39;00m\n\u001b[1;32m    435\u001b[0m \u001b[38;5;124;03m    logs: Dict. Aggregated metric results up until this batch.\u001b[39;00m\n\u001b[1;32m    436\u001b[0m \u001b[38;5;124;03m\"\"\"\u001b[39;00m\n\u001b[1;32m    437\u001b[0m \u001b[38;5;28;01mif\u001b[39;00m \u001b[38;5;28mself\u001b[39m\u001b[38;5;241m.\u001b[39m_should_call_train_batch_hooks:\n\u001b[0;32m--> 438\u001b[0m   \u001b[38;5;28;43mself\u001b[39;49m\u001b[38;5;241;43m.\u001b[39;49m\u001b[43m_call_batch_hook\u001b[49m\u001b[43m(\u001b[49m\u001b[43mModeKeys\u001b[49m\u001b[38;5;241;43m.\u001b[39;49m\u001b[43mTRAIN\u001b[49m\u001b[43m,\u001b[49m\u001b[43m \u001b[49m\u001b[38;5;124;43m'\u001b[39;49m\u001b[38;5;124;43mend\u001b[39;49m\u001b[38;5;124;43m'\u001b[39;49m\u001b[43m,\u001b[49m\u001b[43m \u001b[49m\u001b[43mbatch\u001b[49m\u001b[43m,\u001b[49m\u001b[43m \u001b[49m\u001b[43mlogs\u001b[49m\u001b[38;5;241;43m=\u001b[39;49m\u001b[43mlogs\u001b[49m\u001b[43m)\u001b[49m\n",
      "File \u001b[0;32m/usr/local/lib/python3.8/dist-packages/keras/callbacks.py:297\u001b[0m, in \u001b[0;36mCallbackList._call_batch_hook\u001b[0;34m(self, mode, hook, batch, logs)\u001b[0m\n\u001b[1;32m    295\u001b[0m   \u001b[38;5;28mself\u001b[39m\u001b[38;5;241m.\u001b[39m_call_batch_begin_hook(mode, batch, logs)\n\u001b[1;32m    296\u001b[0m \u001b[38;5;28;01melif\u001b[39;00m hook \u001b[38;5;241m==\u001b[39m \u001b[38;5;124m'\u001b[39m\u001b[38;5;124mend\u001b[39m\u001b[38;5;124m'\u001b[39m:\n\u001b[0;32m--> 297\u001b[0m   \u001b[38;5;28;43mself\u001b[39;49m\u001b[38;5;241;43m.\u001b[39;49m\u001b[43m_call_batch_end_hook\u001b[49m\u001b[43m(\u001b[49m\u001b[43mmode\u001b[49m\u001b[43m,\u001b[49m\u001b[43m \u001b[49m\u001b[43mbatch\u001b[49m\u001b[43m,\u001b[49m\u001b[43m \u001b[49m\u001b[43mlogs\u001b[49m\u001b[43m)\u001b[49m\n\u001b[1;32m    298\u001b[0m \u001b[38;5;28;01melse\u001b[39;00m:\n\u001b[1;32m    299\u001b[0m   \u001b[38;5;28;01mraise\u001b[39;00m \u001b[38;5;167;01mValueError\u001b[39;00m(\n\u001b[1;32m    300\u001b[0m       \u001b[38;5;124mf\u001b[39m\u001b[38;5;124m'\u001b[39m\u001b[38;5;124mUnrecognized hook: \u001b[39m\u001b[38;5;132;01m{\u001b[39;00mhook\u001b[38;5;132;01m}\u001b[39;00m\u001b[38;5;124m. Expected values are [\u001b[39m\u001b[38;5;124m\"\u001b[39m\u001b[38;5;124mbegin\u001b[39m\u001b[38;5;124m\"\u001b[39m\u001b[38;5;124m, \u001b[39m\u001b[38;5;124m\"\u001b[39m\u001b[38;5;124mend\u001b[39m\u001b[38;5;124m\"\u001b[39m\u001b[38;5;124m]\u001b[39m\u001b[38;5;124m'\u001b[39m)\n",
      "File \u001b[0;32m/usr/local/lib/python3.8/dist-packages/keras/callbacks.py:318\u001b[0m, in \u001b[0;36mCallbackList._call_batch_end_hook\u001b[0;34m(self, mode, batch, logs)\u001b[0m\n\u001b[1;32m    315\u001b[0m   batch_time \u001b[38;5;241m=\u001b[39m time\u001b[38;5;241m.\u001b[39mtime() \u001b[38;5;241m-\u001b[39m \u001b[38;5;28mself\u001b[39m\u001b[38;5;241m.\u001b[39m_batch_start_time\n\u001b[1;32m    316\u001b[0m   \u001b[38;5;28mself\u001b[39m\u001b[38;5;241m.\u001b[39m_batch_times\u001b[38;5;241m.\u001b[39mappend(batch_time)\n\u001b[0;32m--> 318\u001b[0m \u001b[38;5;28;43mself\u001b[39;49m\u001b[38;5;241;43m.\u001b[39;49m\u001b[43m_call_batch_hook_helper\u001b[49m\u001b[43m(\u001b[49m\u001b[43mhook_name\u001b[49m\u001b[43m,\u001b[49m\u001b[43m \u001b[49m\u001b[43mbatch\u001b[49m\u001b[43m,\u001b[49m\u001b[43m \u001b[49m\u001b[43mlogs\u001b[49m\u001b[43m)\u001b[49m\n\u001b[1;32m    320\u001b[0m \u001b[38;5;28;01mif\u001b[39;00m \u001b[38;5;28mlen\u001b[39m(\u001b[38;5;28mself\u001b[39m\u001b[38;5;241m.\u001b[39m_batch_times) \u001b[38;5;241m>\u001b[39m\u001b[38;5;241m=\u001b[39m \u001b[38;5;28mself\u001b[39m\u001b[38;5;241m.\u001b[39m_num_batches_for_timing_check:\n\u001b[1;32m    321\u001b[0m   end_hook_name \u001b[38;5;241m=\u001b[39m hook_name\n",
      "File \u001b[0;32m/usr/local/lib/python3.8/dist-packages/keras/callbacks.py:356\u001b[0m, in \u001b[0;36mCallbackList._call_batch_hook_helper\u001b[0;34m(self, hook_name, batch, logs)\u001b[0m\n\u001b[1;32m    354\u001b[0m \u001b[38;5;28;01mfor\u001b[39;00m callback \u001b[38;5;129;01min\u001b[39;00m \u001b[38;5;28mself\u001b[39m\u001b[38;5;241m.\u001b[39mcallbacks:\n\u001b[1;32m    355\u001b[0m   hook \u001b[38;5;241m=\u001b[39m \u001b[38;5;28mgetattr\u001b[39m(callback, hook_name)\n\u001b[0;32m--> 356\u001b[0m   \u001b[43mhook\u001b[49m\u001b[43m(\u001b[49m\u001b[43mbatch\u001b[49m\u001b[43m,\u001b[49m\u001b[43m \u001b[49m\u001b[43mlogs\u001b[49m\u001b[43m)\u001b[49m\n\u001b[1;32m    358\u001b[0m \u001b[38;5;28;01mif\u001b[39;00m \u001b[38;5;28mself\u001b[39m\u001b[38;5;241m.\u001b[39m_check_timing:\n\u001b[1;32m    359\u001b[0m   \u001b[38;5;28;01mif\u001b[39;00m hook_name \u001b[38;5;129;01mnot\u001b[39;00m \u001b[38;5;129;01min\u001b[39;00m \u001b[38;5;28mself\u001b[39m\u001b[38;5;241m.\u001b[39m_hook_times:\n",
      "File \u001b[0;32m/usr/local/lib/python3.8/dist-packages/keras/callbacks.py:1034\u001b[0m, in \u001b[0;36mProgbarLogger.on_train_batch_end\u001b[0;34m(self, batch, logs)\u001b[0m\n\u001b[1;32m   1033\u001b[0m \u001b[38;5;28;01mdef\u001b[39;00m \u001b[38;5;21mon_train_batch_end\u001b[39m(\u001b[38;5;28mself\u001b[39m, batch, logs\u001b[38;5;241m=\u001b[39m\u001b[38;5;28;01mNone\u001b[39;00m):\n\u001b[0;32m-> 1034\u001b[0m   \u001b[38;5;28;43mself\u001b[39;49m\u001b[38;5;241;43m.\u001b[39;49m\u001b[43m_batch_update_progbar\u001b[49m\u001b[43m(\u001b[49m\u001b[43mbatch\u001b[49m\u001b[43m,\u001b[49m\u001b[43m \u001b[49m\u001b[43mlogs\u001b[49m\u001b[43m)\u001b[49m\n",
      "File \u001b[0;32m/usr/local/lib/python3.8/dist-packages/keras/callbacks.py:1106\u001b[0m, in \u001b[0;36mProgbarLogger._batch_update_progbar\u001b[0;34m(self, batch, logs)\u001b[0m\n\u001b[1;32m   1102\u001b[0m   \u001b[38;5;28mself\u001b[39m\u001b[38;5;241m.\u001b[39mseen \u001b[38;5;241m+\u001b[39m\u001b[38;5;241m=\u001b[39m add_seen\n\u001b[1;32m   1104\u001b[0m \u001b[38;5;28;01mif\u001b[39;00m \u001b[38;5;28mself\u001b[39m\u001b[38;5;241m.\u001b[39mverbose \u001b[38;5;241m==\u001b[39m \u001b[38;5;241m1\u001b[39m:\n\u001b[1;32m   1105\u001b[0m   \u001b[38;5;66;03m# Only block async when verbose = 1.\u001b[39;00m\n\u001b[0;32m-> 1106\u001b[0m   logs \u001b[38;5;241m=\u001b[39m \u001b[43mtf_utils\u001b[49m\u001b[38;5;241;43m.\u001b[39;49m\u001b[43msync_to_numpy_or_python_type\u001b[49m\u001b[43m(\u001b[49m\u001b[43mlogs\u001b[49m\u001b[43m)\u001b[49m\n\u001b[1;32m   1107\u001b[0m   \u001b[38;5;28mself\u001b[39m\u001b[38;5;241m.\u001b[39mprogbar\u001b[38;5;241m.\u001b[39mupdate(\u001b[38;5;28mself\u001b[39m\u001b[38;5;241m.\u001b[39mseen, \u001b[38;5;28mlist\u001b[39m(logs\u001b[38;5;241m.\u001b[39mitems()), finalize\u001b[38;5;241m=\u001b[39m\u001b[38;5;28;01mFalse\u001b[39;00m)\n",
      "File \u001b[0;32m/usr/local/lib/python3.8/dist-packages/keras/utils/tf_utils.py:563\u001b[0m, in \u001b[0;36msync_to_numpy_or_python_type\u001b[0;34m(tensors)\u001b[0m\n\u001b[1;32m    560\u001b[0m     \u001b[38;5;28;01mreturn\u001b[39;00m t\n\u001b[1;32m    561\u001b[0m   \u001b[38;5;28;01mreturn\u001b[39;00m t\u001b[38;5;241m.\u001b[39mitem() \u001b[38;5;28;01mif\u001b[39;00m np\u001b[38;5;241m.\u001b[39mndim(t) \u001b[38;5;241m==\u001b[39m \u001b[38;5;241m0\u001b[39m \u001b[38;5;28;01melse\u001b[39;00m t\n\u001b[0;32m--> 563\u001b[0m \u001b[38;5;28;01mreturn\u001b[39;00m \u001b[43mtf\u001b[49m\u001b[38;5;241;43m.\u001b[39;49m\u001b[43mnest\u001b[49m\u001b[38;5;241;43m.\u001b[39;49m\u001b[43mmap_structure\u001b[49m\u001b[43m(\u001b[49m\u001b[43m_to_single_numpy_or_python_type\u001b[49m\u001b[43m,\u001b[49m\u001b[43m \u001b[49m\u001b[43mtensors\u001b[49m\u001b[43m)\u001b[49m\n",
      "File \u001b[0;32m/usr/local/lib/python3.8/dist-packages/tensorflow/python/util/nest.py:914\u001b[0m, in \u001b[0;36mmap_structure\u001b[0;34m(func, *structure, **kwargs)\u001b[0m\n\u001b[1;32m    910\u001b[0m flat_structure \u001b[38;5;241m=\u001b[39m (flatten(s, expand_composites) \u001b[38;5;28;01mfor\u001b[39;00m s \u001b[38;5;129;01min\u001b[39;00m structure)\n\u001b[1;32m    911\u001b[0m entries \u001b[38;5;241m=\u001b[39m \u001b[38;5;28mzip\u001b[39m(\u001b[38;5;241m*\u001b[39mflat_structure)\n\u001b[1;32m    913\u001b[0m \u001b[38;5;28;01mreturn\u001b[39;00m pack_sequence_as(\n\u001b[0;32m--> 914\u001b[0m     structure[\u001b[38;5;241m0\u001b[39m], [func(\u001b[38;5;241m*\u001b[39mx) \u001b[38;5;28;01mfor\u001b[39;00m x \u001b[38;5;129;01min\u001b[39;00m entries],\n\u001b[1;32m    915\u001b[0m     expand_composites\u001b[38;5;241m=\u001b[39mexpand_composites)\n",
      "File \u001b[0;32m/usr/local/lib/python3.8/dist-packages/tensorflow/python/util/nest.py:914\u001b[0m, in \u001b[0;36m<listcomp>\u001b[0;34m(.0)\u001b[0m\n\u001b[1;32m    910\u001b[0m flat_structure \u001b[38;5;241m=\u001b[39m (flatten(s, expand_composites) \u001b[38;5;28;01mfor\u001b[39;00m s \u001b[38;5;129;01min\u001b[39;00m structure)\n\u001b[1;32m    911\u001b[0m entries \u001b[38;5;241m=\u001b[39m \u001b[38;5;28mzip\u001b[39m(\u001b[38;5;241m*\u001b[39mflat_structure)\n\u001b[1;32m    913\u001b[0m \u001b[38;5;28;01mreturn\u001b[39;00m pack_sequence_as(\n\u001b[0;32m--> 914\u001b[0m     structure[\u001b[38;5;241m0\u001b[39m], [\u001b[43mfunc\u001b[49m\u001b[43m(\u001b[49m\u001b[38;5;241;43m*\u001b[39;49m\u001b[43mx\u001b[49m\u001b[43m)\u001b[49m \u001b[38;5;28;01mfor\u001b[39;00m x \u001b[38;5;129;01min\u001b[39;00m entries],\n\u001b[1;32m    915\u001b[0m     expand_composites\u001b[38;5;241m=\u001b[39mexpand_composites)\n",
      "File \u001b[0;32m/usr/local/lib/python3.8/dist-packages/keras/utils/tf_utils.py:557\u001b[0m, in \u001b[0;36msync_to_numpy_or_python_type.<locals>._to_single_numpy_or_python_type\u001b[0;34m(t)\u001b[0m\n\u001b[1;32m    554\u001b[0m \u001b[38;5;28;01mdef\u001b[39;00m \u001b[38;5;21m_to_single_numpy_or_python_type\u001b[39m(t):\n\u001b[1;32m    555\u001b[0m   \u001b[38;5;66;03m# Don't turn ragged or sparse tensors to NumPy.\u001b[39;00m\n\u001b[1;32m    556\u001b[0m   \u001b[38;5;28;01mif\u001b[39;00m \u001b[38;5;28misinstance\u001b[39m(t, tf\u001b[38;5;241m.\u001b[39mTensor):\n\u001b[0;32m--> 557\u001b[0m     t \u001b[38;5;241m=\u001b[39m \u001b[43mt\u001b[49m\u001b[38;5;241;43m.\u001b[39;49m\u001b[43mnumpy\u001b[49m\u001b[43m(\u001b[49m\u001b[43m)\u001b[49m\n\u001b[1;32m    558\u001b[0m   \u001b[38;5;66;03m# Strings, ragged and sparse tensors don't have .item(). Return them as-is.\u001b[39;00m\n\u001b[1;32m    559\u001b[0m   \u001b[38;5;28;01mif\u001b[39;00m \u001b[38;5;129;01mnot\u001b[39;00m \u001b[38;5;28misinstance\u001b[39m(t, (np\u001b[38;5;241m.\u001b[39mndarray, np\u001b[38;5;241m.\u001b[39mgeneric)):\n",
      "File \u001b[0;32m/usr/local/lib/python3.8/dist-packages/tensorflow/python/framework/ops.py:1223\u001b[0m, in \u001b[0;36m_EagerTensorBase.numpy\u001b[0;34m(self)\u001b[0m\n\u001b[1;32m   1200\u001b[0m \u001b[38;5;124;03m\"\"\"Copy of the contents of this Tensor into a NumPy array or scalar.\u001b[39;00m\n\u001b[1;32m   1201\u001b[0m \n\u001b[1;32m   1202\u001b[0m \u001b[38;5;124;03mUnlike NumPy arrays, Tensors are immutable, so this method has to copy\u001b[39;00m\n\u001b[0;32m   (...)\u001b[0m\n\u001b[1;32m   1220\u001b[0m \u001b[38;5;124;03m    NumPy dtype.\u001b[39;00m\n\u001b[1;32m   1221\u001b[0m \u001b[38;5;124;03m\"\"\"\u001b[39;00m\n\u001b[1;32m   1222\u001b[0m \u001b[38;5;66;03m# TODO(slebedev): Consider avoiding a copy for non-CPU or remote tensors.\u001b[39;00m\n\u001b[0;32m-> 1223\u001b[0m maybe_arr \u001b[38;5;241m=\u001b[39m \u001b[38;5;28;43mself\u001b[39;49m\u001b[38;5;241;43m.\u001b[39;49m\u001b[43m_numpy\u001b[49m\u001b[43m(\u001b[49m\u001b[43m)\u001b[49m  \u001b[38;5;66;03m# pylint: disable=protected-access\u001b[39;00m\n\u001b[1;32m   1224\u001b[0m \u001b[38;5;28;01mreturn\u001b[39;00m maybe_arr\u001b[38;5;241m.\u001b[39mcopy() \u001b[38;5;28;01mif\u001b[39;00m \u001b[38;5;28misinstance\u001b[39m(maybe_arr, np\u001b[38;5;241m.\u001b[39mndarray) \u001b[38;5;28;01melse\u001b[39;00m maybe_arr\n",
      "File \u001b[0;32m/usr/local/lib/python3.8/dist-packages/tensorflow/python/framework/ops.py:1189\u001b[0m, in \u001b[0;36m_EagerTensorBase._numpy\u001b[0;34m(self)\u001b[0m\n\u001b[1;32m   1187\u001b[0m \u001b[38;5;28;01mdef\u001b[39;00m \u001b[38;5;21m_numpy\u001b[39m(\u001b[38;5;28mself\u001b[39m):\n\u001b[1;32m   1188\u001b[0m   \u001b[38;5;28;01mtry\u001b[39;00m:\n\u001b[0;32m-> 1189\u001b[0m     \u001b[38;5;28;01mreturn\u001b[39;00m \u001b[38;5;28;43mself\u001b[39;49m\u001b[38;5;241;43m.\u001b[39;49m\u001b[43m_numpy_internal\u001b[49m\u001b[43m(\u001b[49m\u001b[43m)\u001b[49m\n\u001b[1;32m   1190\u001b[0m   \u001b[38;5;28;01mexcept\u001b[39;00m core\u001b[38;5;241m.\u001b[39m_NotOkStatusException \u001b[38;5;28;01mas\u001b[39;00m e:  \u001b[38;5;66;03m# pylint: disable=protected-access\u001b[39;00m\n\u001b[1;32m   1191\u001b[0m     \u001b[38;5;28;01mraise\u001b[39;00m core\u001b[38;5;241m.\u001b[39m_status_to_exception(e) \u001b[38;5;28;01mfrom\u001b[39;00m \u001b[38;5;28mNone\u001b[39m\n",
      "\u001b[0;31mKeyboardInterrupt\u001b[0m: "
     ]
    }
   ],
   "source": [
    "model.fit(dataset, validation_data=dataset_test, steps_per_epoch=1000, validation_steps=100,\n",
    "          epochs=30, verbose=1)"
   ]
  },
  {
   "cell_type": "code",
   "execution_count": 81,
   "metadata": {},
   "outputs": [
    {
     "data": {
      "text/plain": [
       "[<keras.engine.input_layer.InputLayer at 0x7f32272026a0>,\n",
       " <keras.engine.input_layer.InputLayer at 0x7f313799e310>,\n",
       " <keras.layers.embeddings.Embedding at 0x7f3227194d30>,\n",
       " <keras.layers.embeddings.Embedding at 0x7f3227194f70>,\n",
       " <keras.layers.core.flatten.Flatten at 0x7f32271c4550>,\n",
       " <keras.layers.core.flatten.Flatten at 0x7f3225162220>,\n",
       " <keras.layers.merge.Dot at 0x7f32251629a0>,\n",
       " <keras.layers.core.activation.Activation at 0x7f3225162df0>]"
      ]
     },
     "execution_count": 81,
     "metadata": {},
     "output_type": "execute_result"
    }
   ],
   "source": [
    "model.layers"
   ]
  },
  {
   "cell_type": "code",
   "execution_count": 198,
   "metadata": {},
   "outputs": [],
   "source": [
    "customer_emdeddings = model.layers[2].get_weights()[0]\n",
    "article_emdeddings = model.layers[3].get_weights()[0]"
   ]
  },
  {
   "cell_type": "code",
   "execution_count": null,
   "metadata": {},
   "outputs": [],
   "source": []
  },
  {
   "cell_type": "code",
   "execution_count": 162,
   "metadata": {},
   "outputs": [],
   "source": [
    "# transactions_train = transactions_train.compute()"
   ]
  },
  {
   "cell_type": "code",
   "execution_count": null,
   "metadata": {},
   "outputs": [],
   "source": [
    "# transactions_test = transactions_test.compute()"
   ]
  },
  {
   "cell_type": "code",
   "execution_count": 199,
   "metadata": {},
   "outputs": [],
   "source": [
    "valid = transactions_test_arts.groupby('customer_id')['article_id'].agg(' '.join).reset_index()"
   ]
  },
  {
   "cell_type": "code",
   "execution_count": 200,
   "metadata": {},
   "outputs": [],
   "source": [
    "# articles = articles.compute()"
   ]
  },
  {
   "cell_type": "code",
   "execution_count": 201,
   "metadata": {},
   "outputs": [],
   "source": [
    "prod2art = transactions_train_arts[['article_id', 'prod_name']].groupby('prod_name')['article_id'].agg(lambda x:\n",
    "                                                                            Counter(x).most_common(1)[0][0]).to_dict()"
   ]
  },
  {
   "cell_type": "code",
   "execution_count": 202,
   "metadata": {},
   "outputs": [],
   "source": [
    "# prod2art"
   ]
  },
  {
   "cell_type": "code",
   "execution_count": 203,
   "metadata": {
    "scrolled": true
   },
   "outputs": [],
   "source": [
    "# !pip install annoy"
   ]
  },
  {
   "cell_type": "code",
   "execution_count": 215,
   "metadata": {},
   "outputs": [],
   "source": [
    "def normalize(v):\n",
    "    norm=np.linalg.norm(v, ord=1)\n",
    "    if norm==0:\n",
    "        norm=np.finfo(v.dtype).eps\n",
    "    return v/norm"
   ]
  },
  {
   "cell_type": "code",
   "execution_count": null,
   "metadata": {},
   "outputs": [],
   "source": []
  },
  {
   "cell_type": "code",
   "execution_count": 219,
   "metadata": {},
   "outputs": [],
   "source": [
    "import annoy"
   ]
  },
  {
   "cell_type": "code",
   "execution_count": 220,
   "metadata": {},
   "outputs": [],
   "source": [
    "index_articles = annoy.AnnoyIndex(300, metric='angular')"
   ]
  },
  {
   "cell_type": "code",
   "execution_count": 221,
   "metadata": {},
   "outputs": [],
   "source": [
    "for i, vec in enumerate(article_emdeddings):\n",
    "    index_articles.add_item(i, normalize(vec))"
   ]
  },
  {
   "cell_type": "code",
   "execution_count": 222,
   "metadata": {},
   "outputs": [
    {
     "data": {
      "text/plain": [
       "True"
      ]
     },
     "execution_count": 222,
     "metadata": {},
     "output_type": "execute_result"
    }
   ],
   "source": [
    "index_articles.build(100)"
   ]
  },
  {
   "cell_type": "code",
   "execution_count": 223,
   "metadata": {},
   "outputs": [],
   "source": [
    "top12 = ' '.join([prod2art[x] for x in transactions_train_arts[\n",
    "    transactions_train_arts['t_dat'] > '2020-09-01'].prod_name.value_counts().index[:12]])"
   ]
  },
  {
   "cell_type": "code",
   "execution_count": 224,
   "metadata": {
    "scrolled": true
   },
   "outputs": [],
   "source": [
    "from sklearn.metrics.pairwise import cosine_distances\n",
    "def get_similar_articles(customer_id):\n",
    "    similar = [prod2art[articles_top[i]] for i in \n",
    "               index_articles.get_nns_by_vector(normalize(customer_emdeddings[label2id_customers[customer_id]]),\n",
    "                                                12, search_k=2000)]\n",
    "    \n",
    "    return similar\n",
    "\n",
    "recs = []\n",
    "for c in valid['customer_id'].values:\n",
    "    if c in label2id_customers:\n",
    "        tops = ' '.join(get_similar_articles(c))\n",
    "        recs.append(tops)\n",
    "    else:\n",
    "        recs.append(top12)"
   ]
  },
  {
   "cell_type": "code",
   "execution_count": null,
   "metadata": {},
   "outputs": [],
   "source": []
  },
  {
   "cell_type": "code",
   "execution_count": 225,
   "metadata": {},
   "outputs": [],
   "source": [
    "valid['recs'] = recs"
   ]
  },
  {
   "cell_type": "code",
   "execution_count": 226,
   "metadata": {},
   "outputs": [
    {
     "data": {
      "text/html": [
       "<div>\n",
       "<style scoped>\n",
       "    .dataframe tbody tr th:only-of-type {\n",
       "        vertical-align: middle;\n",
       "    }\n",
       "\n",
       "    .dataframe tbody tr th {\n",
       "        vertical-align: top;\n",
       "    }\n",
       "\n",
       "    .dataframe thead th {\n",
       "        text-align: right;\n",
       "    }\n",
       "</style>\n",
       "<table border=\"1\" class=\"dataframe\">\n",
       "  <thead>\n",
       "    <tr style=\"text-align: right;\">\n",
       "      <th></th>\n",
       "      <th>customer_id</th>\n",
       "      <th>article_id</th>\n",
       "      <th>recs</th>\n",
       "    </tr>\n",
       "  </thead>\n",
       "  <tbody>\n",
       "    <tr>\n",
       "      <th>0</th>\n",
       "      <td>00039306476aaf41a07fed942884f16b30abfa83a2a8be...</td>\n",
       "      <td>0624486001</td>\n",
       "      <td>0901638001 0687704001 0733101002 0789147006 07...</td>\n",
       "    </tr>\n",
       "    <tr>\n",
       "      <th>1</th>\n",
       "      <td>0003e867a930d0d6842f923d6ba7c9b77aba33fe2a0fbf...</td>\n",
       "      <td>0827487003</td>\n",
       "      <td>0774785002 0751598002 0828251002 0688430004 06...</td>\n",
       "    </tr>\n",
       "    <tr>\n",
       "      <th>2</th>\n",
       "      <td>000493dd9fc463df1acc2081450c9e75ef8e87d5dd17ed...</td>\n",
       "      <td>0757926001 0788575004 0640021019</td>\n",
       "      <td>0801384013 0859737002 0816563001 0736049001 05...</td>\n",
       "    </tr>\n",
       "    <tr>\n",
       "      <th>3</th>\n",
       "      <td>000525e3fe01600d717da8423643a8303390a055c578ed...</td>\n",
       "      <td>0874110016</td>\n",
       "      <td>0751471001 0706016001 0762846008 0685814001 07...</td>\n",
       "    </tr>\n",
       "    <tr>\n",
       "      <th>4</th>\n",
       "      <td>00077dbd5c4a4991e092e63893ccf29294a9d5c46e8501...</td>\n",
       "      <td>0903762001 0879189005 0158340001 0867966009 09...</td>\n",
       "      <td>0739590032 0749400010 0794389001 0684209027 08...</td>\n",
       "    </tr>\n",
       "    <tr>\n",
       "      <th>...</th>\n",
       "      <td>...</td>\n",
       "      <td>...</td>\n",
       "      <td>...</td>\n",
       "    </tr>\n",
       "    <tr>\n",
       "      <th>68979</th>\n",
       "      <td>fffa67737587e52ff1afa9c7c6490b5eb7acbc439fe82b...</td>\n",
       "      <td>0874816003 0911870004</td>\n",
       "      <td>0816166005 0706016001 0733098018 0803757001 07...</td>\n",
       "    </tr>\n",
       "    <tr>\n",
       "      <th>68980</th>\n",
       "      <td>fffa7d7799eb390a76308454cbdd76e473d65b1497fbe4...</td>\n",
       "      <td>0861803014 0849886010</td>\n",
       "      <td>0822158001 0916468003 0806778001 0761406002 05...</td>\n",
       "    </tr>\n",
       "    <tr>\n",
       "      <th>68981</th>\n",
       "      <td>fffae8eb3a282d8c43c77dd2ca0621703b71e90904dfde...</td>\n",
       "      <td>0396135007 0817472007 0715624050 0817472003 08...</td>\n",
       "      <td>0779551002 0610776002 0706016001 0687704001 07...</td>\n",
       "    </tr>\n",
       "    <tr>\n",
       "      <th>68982</th>\n",
       "      <td>fffd870c6324ad3bda24e4d6aeae221c199479086bfdfd...</td>\n",
       "      <td>0750423010 0761269001</td>\n",
       "      <td>0751471001 0706016001 0762846008 0685814001 07...</td>\n",
       "    </tr>\n",
       "    <tr>\n",
       "      <th>68983</th>\n",
       "      <td>fffef3b6b73545df065b521e19f64bf6fe93bfd450ab20...</td>\n",
       "      <td>0898573003</td>\n",
       "      <td>0783346001 0253448003 0820563003 0816423004 06...</td>\n",
       "    </tr>\n",
       "  </tbody>\n",
       "</table>\n",
       "<p>68984 rows × 3 columns</p>\n",
       "</div>"
      ],
      "text/plain": [
       "                                             customer_id  \\\n",
       "0      00039306476aaf41a07fed942884f16b30abfa83a2a8be...   \n",
       "1      0003e867a930d0d6842f923d6ba7c9b77aba33fe2a0fbf...   \n",
       "2      000493dd9fc463df1acc2081450c9e75ef8e87d5dd17ed...   \n",
       "3      000525e3fe01600d717da8423643a8303390a055c578ed...   \n",
       "4      00077dbd5c4a4991e092e63893ccf29294a9d5c46e8501...   \n",
       "...                                                  ...   \n",
       "68979  fffa67737587e52ff1afa9c7c6490b5eb7acbc439fe82b...   \n",
       "68980  fffa7d7799eb390a76308454cbdd76e473d65b1497fbe4...   \n",
       "68981  fffae8eb3a282d8c43c77dd2ca0621703b71e90904dfde...   \n",
       "68982  fffd870c6324ad3bda24e4d6aeae221c199479086bfdfd...   \n",
       "68983  fffef3b6b73545df065b521e19f64bf6fe93bfd450ab20...   \n",
       "\n",
       "                                              article_id  \\\n",
       "0                                             0624486001   \n",
       "1                                             0827487003   \n",
       "2                       0757926001 0788575004 0640021019   \n",
       "3                                             0874110016   \n",
       "4      0903762001 0879189005 0158340001 0867966009 09...   \n",
       "...                                                  ...   \n",
       "68979                              0874816003 0911870004   \n",
       "68980                              0861803014 0849886010   \n",
       "68981  0396135007 0817472007 0715624050 0817472003 08...   \n",
       "68982                              0750423010 0761269001   \n",
       "68983                                         0898573003   \n",
       "\n",
       "                                                    recs  \n",
       "0      0901638001 0687704001 0733101002 0789147006 07...  \n",
       "1      0774785002 0751598002 0828251002 0688430004 06...  \n",
       "2      0801384013 0859737002 0816563001 0736049001 05...  \n",
       "3      0751471001 0706016001 0762846008 0685814001 07...  \n",
       "4      0739590032 0749400010 0794389001 0684209027 08...  \n",
       "...                                                  ...  \n",
       "68979  0816166005 0706016001 0733098018 0803757001 07...  \n",
       "68980  0822158001 0916468003 0806778001 0761406002 05...  \n",
       "68981  0779551002 0610776002 0706016001 0687704001 07...  \n",
       "68982  0751471001 0706016001 0762846008 0685814001 07...  \n",
       "68983  0783346001 0253448003 0820563003 0816423004 06...  \n",
       "\n",
       "[68984 rows x 3 columns]"
      ]
     },
     "execution_count": 226,
     "metadata": {},
     "output_type": "execute_result"
    }
   ],
   "source": [
    "valid"
   ]
  },
  {
   "cell_type": "code",
   "execution_count": null,
   "metadata": {},
   "outputs": [],
   "source": []
  },
  {
   "cell_type": "code",
   "execution_count": 227,
   "metadata": {},
   "outputs": [
    {
     "data": {
      "text/plain": [
       "0.0016681786934897966"
      ]
     },
     "execution_count": 227,
     "metadata": {},
     "output_type": "execute_result"
    }
   ],
   "source": [
    "mapk(valid['article_id'].str.split(), valid['recs'].str.split(), 12)"
   ]
  },
  {
   "cell_type": "code",
   "execution_count": 135,
   "metadata": {},
   "outputs": [
    {
     "data": {
      "text/plain": [
       "0.009926064083049102"
      ]
     },
     "execution_count": 135,
     "metadata": {},
     "output_type": "execute_result"
    }
   ],
   "source": [
    "mapk(valid['prod_name'].str.split('##'), valid['recs'].str.split('##'), 12)"
   ]
  },
  {
   "cell_type": "code",
   "execution_count": 174,
   "metadata": {},
   "outputs": [
    {
     "data": {
      "text/plain": [
       "0.0034474813627328933"
      ]
     },
     "execution_count": 174,
     "metadata": {},
     "output_type": "execute_result"
    }
   ],
   "source": [
    "mapk(valid['article_id'].str.split(), valid['recs'].str.split(), 12)"
   ]
  },
  {
   "cell_type": "code",
   "execution_count": 189,
   "metadata": {},
   "outputs": [
    {
     "data": {
      "text/plain": [
       "0.004099793047530371"
      ]
     },
     "execution_count": 189,
     "metadata": {},
     "output_type": "execute_result"
    }
   ],
   "source": [
    "mapk(valid['article_id'].str.split(), valid['recs'].str.split(), 12)"
   ]
  },
  {
   "cell_type": "code",
   "execution_count": 190,
   "metadata": {
    "scrolled": true
   },
   "outputs": [],
   "source": [
    "df_sub = pd.read_csv('sample_submission.csv')"
   ]
  },
  {
   "cell_type": "code",
   "execution_count": 191,
   "metadata": {},
   "outputs": [
    {
     "data": {
      "text/html": [
       "<div>\n",
       "<style scoped>\n",
       "    .dataframe tbody tr th:only-of-type {\n",
       "        vertical-align: middle;\n",
       "    }\n",
       "\n",
       "    .dataframe tbody tr th {\n",
       "        vertical-align: top;\n",
       "    }\n",
       "\n",
       "    .dataframe thead th {\n",
       "        text-align: right;\n",
       "    }\n",
       "</style>\n",
       "<table border=\"1\" class=\"dataframe\">\n",
       "  <thead>\n",
       "    <tr style=\"text-align: right;\">\n",
       "      <th></th>\n",
       "      <th>customer_id</th>\n",
       "      <th>prediction</th>\n",
       "    </tr>\n",
       "  </thead>\n",
       "  <tbody>\n",
       "    <tr>\n",
       "      <th>0</th>\n",
       "      <td>00000dbacae5abe5e23885899a1fa44253a17956c6d1c3...</td>\n",
       "      <td>0706016001 0706016002 0372860001 0610776002 07...</td>\n",
       "    </tr>\n",
       "    <tr>\n",
       "      <th>1</th>\n",
       "      <td>0000423b00ade91418cceaf3b26c6af3dd342b51fd051e...</td>\n",
       "      <td>0706016001 0706016002 0372860001 0610776002 07...</td>\n",
       "    </tr>\n",
       "    <tr>\n",
       "      <th>2</th>\n",
       "      <td>000058a12d5b43e67d225668fa1f8d618c13dc232df0ca...</td>\n",
       "      <td>0706016001 0706016002 0372860001 0610776002 07...</td>\n",
       "    </tr>\n",
       "    <tr>\n",
       "      <th>3</th>\n",
       "      <td>00005ca1c9ed5f5146b52ac8639a40ca9d57aeff4d1bd2...</td>\n",
       "      <td>0706016001 0706016002 0372860001 0610776002 07...</td>\n",
       "    </tr>\n",
       "    <tr>\n",
       "      <th>4</th>\n",
       "      <td>00006413d8573cd20ed7128e53b7b13819fe5cfc2d801f...</td>\n",
       "      <td>0706016001 0706016002 0372860001 0610776002 07...</td>\n",
       "    </tr>\n",
       "    <tr>\n",
       "      <th>...</th>\n",
       "      <td>...</td>\n",
       "      <td>...</td>\n",
       "    </tr>\n",
       "    <tr>\n",
       "      <th>1371975</th>\n",
       "      <td>ffffbbf78b6eaac697a8a5dfbfd2bfa8113ee5b403e474...</td>\n",
       "      <td>0706016001 0706016002 0372860001 0610776002 07...</td>\n",
       "    </tr>\n",
       "    <tr>\n",
       "      <th>1371976</th>\n",
       "      <td>ffffcd5046a6143d29a04fb8c424ce494a76e5cdf4fab5...</td>\n",
       "      <td>0706016001 0706016002 0372860001 0610776002 07...</td>\n",
       "    </tr>\n",
       "    <tr>\n",
       "      <th>1371977</th>\n",
       "      <td>ffffcf35913a0bee60e8741cb2b4e78b8a98ee5ff2e6a1...</td>\n",
       "      <td>0706016001 0706016002 0372860001 0610776002 07...</td>\n",
       "    </tr>\n",
       "    <tr>\n",
       "      <th>1371978</th>\n",
       "      <td>ffffd7744cebcf3aca44ae7049d2a94b87074c3d4ffe38...</td>\n",
       "      <td>0706016001 0706016002 0372860001 0610776002 07...</td>\n",
       "    </tr>\n",
       "    <tr>\n",
       "      <th>1371979</th>\n",
       "      <td>ffffd9ac14e89946416d80e791d064701994755c3ab686...</td>\n",
       "      <td>0706016001 0706016002 0372860001 0610776002 07...</td>\n",
       "    </tr>\n",
       "  </tbody>\n",
       "</table>\n",
       "<p>1371980 rows × 2 columns</p>\n",
       "</div>"
      ],
      "text/plain": [
       "                                               customer_id  \\\n",
       "0        00000dbacae5abe5e23885899a1fa44253a17956c6d1c3...   \n",
       "1        0000423b00ade91418cceaf3b26c6af3dd342b51fd051e...   \n",
       "2        000058a12d5b43e67d225668fa1f8d618c13dc232df0ca...   \n",
       "3        00005ca1c9ed5f5146b52ac8639a40ca9d57aeff4d1bd2...   \n",
       "4        00006413d8573cd20ed7128e53b7b13819fe5cfc2d801f...   \n",
       "...                                                    ...   \n",
       "1371975  ffffbbf78b6eaac697a8a5dfbfd2bfa8113ee5b403e474...   \n",
       "1371976  ffffcd5046a6143d29a04fb8c424ce494a76e5cdf4fab5...   \n",
       "1371977  ffffcf35913a0bee60e8741cb2b4e78b8a98ee5ff2e6a1...   \n",
       "1371978  ffffd7744cebcf3aca44ae7049d2a94b87074c3d4ffe38...   \n",
       "1371979  ffffd9ac14e89946416d80e791d064701994755c3ab686...   \n",
       "\n",
       "                                                prediction  \n",
       "0        0706016001 0706016002 0372860001 0610776002 07...  \n",
       "1        0706016001 0706016002 0372860001 0610776002 07...  \n",
       "2        0706016001 0706016002 0372860001 0610776002 07...  \n",
       "3        0706016001 0706016002 0372860001 0610776002 07...  \n",
       "4        0706016001 0706016002 0372860001 0610776002 07...  \n",
       "...                                                    ...  \n",
       "1371975  0706016001 0706016002 0372860001 0610776002 07...  \n",
       "1371976  0706016001 0706016002 0372860001 0610776002 07...  \n",
       "1371977  0706016001 0706016002 0372860001 0610776002 07...  \n",
       "1371978  0706016001 0706016002 0372860001 0610776002 07...  \n",
       "1371979  0706016001 0706016002 0372860001 0610776002 07...  \n",
       "\n",
       "[1371980 rows x 2 columns]"
      ]
     },
     "execution_count": 191,
     "metadata": {},
     "output_type": "execute_result"
    }
   ],
   "source": [
    "df_sub"
   ]
  },
  {
   "cell_type": "code",
   "execution_count": null,
   "metadata": {},
   "outputs": [],
   "source": [
    "recs = []\n",
    "for c in df_sub['customer_id'].values:\n",
    "    if c in label2id_customers:\n",
    "        tops = ' '.join(get_similar_articles(c))\n",
    "        recs.append(tops)\n",
    "    else:\n",
    "        recs.append(top12)"
   ]
  },
  {
   "cell_type": "code",
   "execution_count": null,
   "metadata": {},
   "outputs": [],
   "source": []
  },
  {
   "cell_type": "code",
   "execution_count": null,
   "metadata": {
    "execution": {
     "iopub.execute_input": "2022-02-13T12:18:13.654338Z",
     "iopub.status.busy": "2022-02-13T12:18:13.653930Z",
     "iopub.status.idle": "2022-02-13T12:18:14.044442Z",
     "shell.execute_reply": "2022-02-13T12:18:14.043730Z",
     "shell.execute_reply.started": "2022-02-13T12:18:13.654298Z"
    }
   },
   "outputs": [],
   "source": [
    "df_sub['prediction'] = recs"
   ]
  },
  {
   "cell_type": "code",
   "execution_count": null,
   "metadata": {
    "execution": {
     "iopub.status.busy": "2022-02-12T16:11:14.760539Z",
     "iopub.status.idle": "2022-02-12T16:11:14.761407Z",
     "shell.execute_reply": "2022-02-12T16:11:14.761184Z",
     "shell.execute_reply.started": "2022-02-12T16:11:14.761157Z"
    }
   },
   "outputs": [],
   "source": [
    "df_sub"
   ]
  },
  {
   "cell_type": "code",
   "execution_count": null,
   "metadata": {
    "execution": {
     "iopub.status.busy": "2022-02-12T16:11:14.762529Z",
     "iopub.status.idle": "2022-02-12T16:11:14.763426Z",
     "shell.execute_reply": "2022-02-12T16:11:14.763197Z",
     "shell.execute_reply.started": "2022-02-12T16:11:14.76317Z"
    }
   },
   "outputs": [],
   "source": [
    "df_sub[['customer_id', 'prediction']].to_csv(\"submission.csv\", index=False, header=True)"
   ]
  },
  {
   "cell_type": "code",
   "execution_count": null,
   "metadata": {},
   "outputs": [],
   "source": []
  }
 ],
 "metadata": {
  "kernelspec": {
   "display_name": "Python 3 (ipykernel)",
   "language": "python",
   "name": "python3"
  },
  "language_info": {
   "codemirror_mode": {
    "name": "ipython",
    "version": 3
   },
   "file_extension": ".py",
   "mimetype": "text/x-python",
   "name": "python",
   "nbconvert_exporter": "python",
   "pygments_lexer": "ipython3",
   "version": "3.8.10"
  }
 },
 "nbformat": 4,
 "nbformat_minor": 4
}
